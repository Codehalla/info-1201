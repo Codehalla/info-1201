{
 "cells": [
  {
   "cell_type": "code",
   "execution_count": 16,
   "metadata": {},
   "outputs": [],
   "source": [
    "def availability(name, username):\n",
    "    file = open(\"dataFile.csv\",'r')\n",
    "    file.readlines()\n",
    "    for line in file:\n",
    "        lineList = line.rstrip(\"\\n\").split(\",\")\n",
    "        if (username == lineList[1]):\n",
    "            print('Sorry, this username is taken')\n",
    "            print('Please try a different username')\n",
    "    file.close()"
   ]
  },
  {
   "cell_type": "code",
   "execution_count": 17,
   "metadata": {},
   "outputs": [],
   "source": [
    "def signUp(name, username):\n",
    "    password = input('Type a Password: ')\n",
    "    passMatch = input('Type your password again to match: ')\n",
    "    if (password == passMatch):\n",
    "        print('Your password match')\n",
    "        fileHandler = open(\"dataFile.csv\", 'a')\n",
    "        fileWrite = fileHandler.write('\\n' + name + ',' + username + ',' + password)\n",
    "        fileHandler.close()\n",
    "        print('Please restart the system to Login...')\n",
    "    else:\n",
    "        print(\"Incorrect Password Match, please try again\")\n",
    "        exit()"
   ]
  },
  {
   "cell_type": "code",
   "execution_count": 18,
   "metadata": {},
   "outputs": [],
   "source": [
    "def login(user, passOld):\n",
    "    fileHandler = open('dataFile.csv', 'r')\n",
    "    fileContent = fileHandler.readlines()\n",
    "    for line in fileContent:\n",
    "        lineParts = line.rstrip('\\n').split(',')\n",
    "        if ((user == lineParts[1]) and (passOld == lineParts[2])):\n",
    "            print('Welcome back, ' + lineParts[0] )\n",
    "    fileHandler.close()"
   ]
  },
  {
   "cell_type": "code",
   "execution_count": 19,
   "metadata": {},
   "outputs": [
    {
     "name": "stdout",
     "output_type": "stream",
     "text": [
      "Welcome to CyberLogin\n",
      "Are you a new user? y/n y\n",
      "Welcome! What is your name? y\n",
      "Hello y\n",
      "Type a Username: y\n"
     ]
    }
   ],
   "source": [
    "print('Welcome to CyberLogin')\n",
    "whoAreYou = input('Are you a new user? y/n ')\n",
    "if (whoAreYou == 'y'):\n",
    "    name = input('Welcome! What is your name? ')\n",
    "    print('Hello ' + name)\n",
    "    username = input('Type a Username: ')\n",
    "    availability(name, username)\n",
    "else:\n",
    "    user = input('Type your Username: ')\n",
    "    passOld = input('Type your Password: ')\n",
    "    login(user, passOld)"
   ]
  },
  {
   "cell_type": "code",
   "execution_count": null,
   "metadata": {},
   "outputs": [],
   "source": []
  }
 ],
 "metadata": {
  "kernelspec": {
   "display_name": "Python 3",
   "language": "python",
   "name": "python3"
  },
  "language_info": {
   "codemirror_mode": {
    "name": "ipython",
    "version": 3
   },
   "file_extension": ".py",
   "mimetype": "text/x-python",
   "name": "python",
   "nbconvert_exporter": "python",
   "pygments_lexer": "ipython3",
   "version": "3.7.3"
  }
 },
 "nbformat": 4,
 "nbformat_minor": 2
}
