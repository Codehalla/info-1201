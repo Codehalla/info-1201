{
 "cells": [
  {
   "cell_type": "code",
   "execution_count": 1,
   "metadata": {},
   "outputs": [],
   "source": [
    "import csv"
   ]
  },
  {
   "cell_type": "code",
   "execution_count": 2,
   "metadata": {},
   "outputs": [],
   "source": [
    "def userInput(stringToTranslate, languageToTranslateTo):\n",
    "    if (languageToTranslateTo == \"french\"):\n",
    "        french(stringToTranslate)"
   ]
  },
  {
   "cell_type": "code",
   "execution_count": 17,
   "metadata": {},
   "outputs": [],
   "source": [
    "def french(stringToTranslate):\n",
    "    file = open('french-word-list-total.csv', 'r')\n",
    "    csvReader = csv.reader(file, delimiter=\",\")\n",
    "    \n",
    "    dictionaryUserInput = {}\n",
    "    for row in csvReader:\n",
    "        dictionaryUserInput[row[1]] = row[0]\n",
    "    \n",
    "    concatenateWords = \"\"\n",
    "    listOfWords = stringToTranslate.split()\n",
    "    for word in listOfWords:\n",
    "        if (word in dictionaryUserInput):\n",
    "            concatenateWords += (dictionaryUserInput[word] + ' ')\n",
    "        \n",
    "    print(concatenateWords)\n",
    "    file.close()"
   ]
  },
  {
   "cell_type": "code",
   "execution_count": 18,
   "metadata": {},
   "outputs": [
    {
     "name": "stdout",
     "output_type": "stream",
     "text": [
      "Type you sentence: how are you\n",
      "What language do you want to translate to? french\n",
      "comment Ãªtes toi \n"
     ]
    }
   ],
   "source": [
    "stringToTranslate = input(\"Type you sentence: \").lower()\n",
    "languageToTranslateTo = input('What language do you want to translate to? ').lower()\n",
    "userInput(stringToTranslate, languageToTranslateTo)"
   ]
  },
  {
   "cell_type": "code",
   "execution_count": null,
   "metadata": {},
   "outputs": [],
   "source": []
  },
  {
   "cell_type": "code",
   "execution_count": null,
   "metadata": {},
   "outputs": [],
   "source": []
  }
 ],
 "metadata": {
  "kernelspec": {
   "display_name": "Python 3",
   "language": "python",
   "name": "python3"
  },
  "language_info": {
   "codemirror_mode": {
    "name": "ipython",
    "version": 3
   },
   "file_extension": ".py",
   "mimetype": "text/x-python",
   "name": "python",
   "nbconvert_exporter": "python",
   "pygments_lexer": "ipython3",
   "version": "3.7.3"
  }
 },
 "nbformat": 4,
 "nbformat_minor": 2
}
