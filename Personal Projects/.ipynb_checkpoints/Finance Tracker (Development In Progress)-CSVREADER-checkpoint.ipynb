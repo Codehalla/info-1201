{
 "cells": [
  {
   "cell_type": "code",
   "execution_count": 21,
   "metadata": {},
   "outputs": [],
   "source": [
    "import csv\n",
    "financeFileHandler = open('financialFiles.csv','r').readlines()\n",
    "csvReader = csv.reader(financeFileHandler, delimiter=\",\")\n",
    "next(csvReader)\n",
    "counter = 0\n",
    "for row in csvReader:\n",
    "    counter += 1"
   ]
  },
  {
   "cell_type": "code",
   "execution_count": 22,
   "metadata": {},
   "outputs": [],
   "source": [
    "# Checking if date matches date format\n",
    "def dateCheck(date):\n",
    "    # there should be a month, day, and year. Which gives the length of list a number 3\n",
    "    checkString = date.split('/')\n",
    "    if (len(checkString) == 3):\n",
    "        financeTracker(date)\n",
    "    else:\n",
    "        print('\\nSorry, but you entered the wrong format. Please use --/--/----')\n",
    "        date = input('What is the date today? ')\n",
    "        dateCheck(date)"
   ]
  },
  {
   "cell_type": "code",
   "execution_count": 23,
   "metadata": {},
   "outputs": [],
   "source": [
    "def financeTracker(date):\n",
    "    # User input\n",
    "    moneyEarned = input('How much money did you earned? ')\n",
    "    moneyUsed = input('How much money did you spend? ')\n",
    "    taxes = input('How much did you pay in taxes? ')\n",
    "    print('--------------------')\n",
    "\n",
    "    calculations(date, moneyEarned, moneyUsed, taxes)"
   ]
  },
  {
   "cell_type": "code",
   "execution_count": 24,
   "metadata": {},
   "outputs": [],
   "source": [
    "def calculations(date, moneyEarned, moneyUsed, taxes):\n",
    "    # Money used/gained that user want to record\n",
    "    addInBalance = float(moneyEarned) - float(moneyUsed) - float(taxes)\n",
    "    print('\\nAdd In Balance: $' + str(addInBalance))\n",
    "    \n",
    "    listLastInput = financeFileHandler[counter].split(',')\n",
    "    totalBalance = str(float(listLastInput[4]) + addInBalance)\n",
    "    print('Total Balance: $' + totalBalance)\n",
    "    \n",
    "    \n",
    "    pCash(date, moneyEarned, moneyUsed, taxes, totalBalance)"
   ]
  },
  {
   "cell_type": "code",
   "execution_count": 92,
   "metadata": {},
   "outputs": [],
   "source": [
    "def pCash(date, moneyEarned, moneyUsed, taxes, totalBalance):\n",
    "    \n",
    "    listFirstInput = financeFileHandler[1].split(',')\n",
    "    listLastInput = financeFileHandler[counter].split(',')\n",
    "    \n",
    "    lastTotalBal = float(listLastInput[4])\n",
    "    percentCash = round((((float(totalBalance) - lastTotalBal) / lastTotalBal)), 2)\n",
    "\n",
    "    \n",
    "    # control structure determines if percentCash is positive or negative\n",
    "    if ('-' in str(percentCash)):\n",
    "        # percentCash value is negative\n",
    "        print('\\nCost Analysis')\n",
    "        print('\\tYour balance has fluctuated by: ' + str(percentCash) + '% ≈ -$' \n",
    "              + str(abs(totalBalance - lastTotalBal)))\n",
    "        print('\\tYour balance from our last record was ' + '$' + str(lastTotalBal) + '.')\n",
    "        \n",
    "    elif (percentCash == 0):\n",
    "        # percentCash has no change since it is 0.00%\n",
    "        print('\\nCost Analysis')\n",
    "        print('\\tThere is no fluctutation with your cash')\n",
    "    \n",
    "    else:\n",
    "        # percentCash value is postive\n",
    "        print('\\nCost Analysis')\n",
    "        print('\\tYour balance has fluctuated by: ' + str(percentCash) + '% ≈ $' \n",
    "              + str(abs(totalBalance - lastTotalBal)))\n",
    "        print('\\tYour balance from our last record was ' + '$' + str(lastTotalBal) + '.')\n",
    "        \n",
    "\n",
    "    totalMoneyUsed = 0\n",
    "    for i in range(counter):\n",
    "        row = print(financeFileHandler[i+1].rstrip('\\n').split(\",\"))\n",
    "        print(float(row[3]))\n",
    "        totalMoneyUsed += float(row[2])\n",
    "        \n",
    "    print(\"\\tYou have used: $\" + str(totalMoneyUsed) + ' from ' + str(listFirstInput[0]) \n",
    "            + ' to ' + str(listLastInput[0]))\n",
    "    \n",
    "\n",
    "    record(date, moneyEarned, moneyUsed, taxes, totalBalance, percentCash)\n",
    "    "
   ]
  },
  {
   "cell_type": "code",
   "execution_count": 93,
   "metadata": {},
   "outputs": [
    {
     "name": "stdout",
     "output_type": "stream",
     "text": [
      "\n",
      "Cost Analysis\n",
      "\tYour balance has fluctuated by: -1.0% ≈ -$1428.17\n",
      "\tYour balance from our last record was $1428.17.\n",
      "['9/12/2019', ' 877', ' 0', ' 0', ' 877', ' 0.00%']\n"
     ]
    },
    {
     "ename": "TypeError",
     "evalue": "'NoneType' object is not subscriptable",
     "output_type": "error",
     "traceback": [
      "\u001b[1;31m---------------------------------------------------------------------------\u001b[0m",
      "\u001b[1;31mTypeError\u001b[0m                                 Traceback (most recent call last)",
      "\u001b[1;32m<ipython-input-93-3b318512274a>\u001b[0m in \u001b[0;36m<module>\u001b[1;34m\u001b[0m\n\u001b[1;32m----> 1\u001b[1;33m \u001b[0mpCash\u001b[0m\u001b[1;33m(\u001b[0m\u001b[1;34m'0/0/0'\u001b[0m\u001b[1;33m,\u001b[0m \u001b[1;36m0\u001b[0m\u001b[1;33m,\u001b[0m \u001b[1;36m0\u001b[0m\u001b[1;33m,\u001b[0m \u001b[1;36m0\u001b[0m\u001b[1;33m,\u001b[0m \u001b[1;36m0\u001b[0m\u001b[1;33m)\u001b[0m\u001b[1;33m\u001b[0m\u001b[1;33m\u001b[0m\u001b[0m\n\u001b[0m",
      "\u001b[1;32m<ipython-input-92-29892c6e43f2>\u001b[0m in \u001b[0;36mpCash\u001b[1;34m(date, moneyEarned, moneyUsed, taxes, totalBalance)\u001b[0m\n\u001b[0;32m     32\u001b[0m     \u001b[1;32mfor\u001b[0m \u001b[0mi\u001b[0m \u001b[1;32min\u001b[0m \u001b[0mrange\u001b[0m\u001b[1;33m(\u001b[0m\u001b[0mcounter\u001b[0m\u001b[1;33m)\u001b[0m\u001b[1;33m:\u001b[0m\u001b[1;33m\u001b[0m\u001b[1;33m\u001b[0m\u001b[0m\n\u001b[0;32m     33\u001b[0m         \u001b[0mrow\u001b[0m \u001b[1;33m=\u001b[0m \u001b[0mprint\u001b[0m\u001b[1;33m(\u001b[0m\u001b[0mfinanceFileHandler\u001b[0m\u001b[1;33m[\u001b[0m\u001b[0mi\u001b[0m\u001b[1;33m+\u001b[0m\u001b[1;36m1\u001b[0m\u001b[1;33m]\u001b[0m\u001b[1;33m.\u001b[0m\u001b[0mrstrip\u001b[0m\u001b[1;33m(\u001b[0m\u001b[1;34m'\\n'\u001b[0m\u001b[1;33m)\u001b[0m\u001b[1;33m.\u001b[0m\u001b[0msplit\u001b[0m\u001b[1;33m(\u001b[0m\u001b[1;34m\",\"\u001b[0m\u001b[1;33m)\u001b[0m\u001b[1;33m)\u001b[0m\u001b[1;33m\u001b[0m\u001b[1;33m\u001b[0m\u001b[0m\n\u001b[1;32m---> 34\u001b[1;33m         \u001b[0mprint\u001b[0m\u001b[1;33m(\u001b[0m\u001b[0mfloat\u001b[0m\u001b[1;33m(\u001b[0m\u001b[0mrow\u001b[0m\u001b[1;33m[\u001b[0m\u001b[1;36m3\u001b[0m\u001b[1;33m]\u001b[0m\u001b[1;33m)\u001b[0m\u001b[1;33m)\u001b[0m\u001b[1;33m\u001b[0m\u001b[1;33m\u001b[0m\u001b[0m\n\u001b[0m\u001b[0;32m     35\u001b[0m         \u001b[0mtotalMoneyUsed\u001b[0m \u001b[1;33m+=\u001b[0m \u001b[0mfloat\u001b[0m\u001b[1;33m(\u001b[0m\u001b[0mrow\u001b[0m\u001b[1;33m[\u001b[0m\u001b[1;36m2\u001b[0m\u001b[1;33m]\u001b[0m\u001b[1;33m)\u001b[0m\u001b[1;33m\u001b[0m\u001b[1;33m\u001b[0m\u001b[0m\n\u001b[0;32m     36\u001b[0m \u001b[1;33m\u001b[0m\u001b[0m\n",
      "\u001b[1;31mTypeError\u001b[0m: 'NoneType' object is not subscriptable"
     ]
    }
   ],
   "source": [
    "pCash('0/0/0', 0, 0, 0, 0)"
   ]
  },
  {
   "cell_type": "code",
   "execution_count": 39,
   "metadata": {},
   "outputs": [],
   "source": [
    "def record(date, moneyEarned, moneyUsed, taxes, totalBalance, percentCash):\n",
    "\n",
    "    fileHandler = open('financialFiles.csv', 'a')\n",
    "    fileHandler.write('\\n'+ str(date) + ', ' + str(moneyEarned) + ', ' + str(moneyUsed) + ', ' \n",
    "                      + str(taxes) + ', ' + str(totalBalance) + ', ' + str(percentCash) + '%')\n",
    "    fileHandler.close()"
   ]
  },
  {
   "cell_type": "code",
   "execution_count": 8,
   "metadata": {},
   "outputs": [
    {
     "name": "stdout",
     "output_type": "stream",
     "text": [
      "What is the date today? (Enter in this form --/--/----): 0/0/00\n",
      "How much money did you earned? 0\n",
      "How much money did you spend? 0\n",
      "How much did you pay in taxes? 0\n",
      "--------------------\n",
      "\n",
      "Add In Balance: $0.0\n",
      "Total Balance: $1428.17\n",
      "\n",
      "Cost Analysis\n",
      "\tThere is no fluctutation with your cash\n",
      "['0/0/0', ' 0', ' 0', ' 0', ' 1428.17', ' 0.0%']\n",
      "0.0\n"
     ]
    },
    {
     "ename": "IndexError",
     "evalue": "string index out of range",
     "output_type": "error",
     "traceback": [
      "\u001b[1;31m---------------------------------------------------------------------------\u001b[0m",
      "\u001b[1;31mIndexError\u001b[0m                                Traceback (most recent call last)",
      "\u001b[1;32m<ipython-input-8-ae221b5d58d4>\u001b[0m in \u001b[0;36m<module>\u001b[1;34m\u001b[0m\n\u001b[0;32m      1\u001b[0m \u001b[1;31m# User input- Date\u001b[0m\u001b[1;33m\u001b[0m\u001b[1;33m\u001b[0m\u001b[1;33m\u001b[0m\u001b[0m\n\u001b[0;32m      2\u001b[0m \u001b[0mdate\u001b[0m \u001b[1;33m=\u001b[0m \u001b[0minput\u001b[0m\u001b[1;33m(\u001b[0m\u001b[1;34m'What is the date today? (Enter in this form --/--/----): '\u001b[0m\u001b[1;33m)\u001b[0m\u001b[1;33m\u001b[0m\u001b[1;33m\u001b[0m\u001b[0m\n\u001b[1;32m----> 3\u001b[1;33m \u001b[0mdateCheck\u001b[0m\u001b[1;33m(\u001b[0m\u001b[0mdate\u001b[0m\u001b[1;33m)\u001b[0m\u001b[1;33m\u001b[0m\u001b[1;33m\u001b[0m\u001b[0m\n\u001b[0m",
      "\u001b[1;32m<ipython-input-2-805b3a18b5b1>\u001b[0m in \u001b[0;36mdateCheck\u001b[1;34m(date)\u001b[0m\n\u001b[0;32m      4\u001b[0m     \u001b[0mcheckString\u001b[0m \u001b[1;33m=\u001b[0m \u001b[0mdate\u001b[0m\u001b[1;33m.\u001b[0m\u001b[0msplit\u001b[0m\u001b[1;33m(\u001b[0m\u001b[1;34m'/'\u001b[0m\u001b[1;33m)\u001b[0m\u001b[1;33m\u001b[0m\u001b[1;33m\u001b[0m\u001b[0m\n\u001b[0;32m      5\u001b[0m     \u001b[1;32mif\u001b[0m \u001b[1;33m(\u001b[0m\u001b[0mlen\u001b[0m\u001b[1;33m(\u001b[0m\u001b[0mcheckString\u001b[0m\u001b[1;33m)\u001b[0m \u001b[1;33m==\u001b[0m \u001b[1;36m3\u001b[0m\u001b[1;33m)\u001b[0m\u001b[1;33m:\u001b[0m\u001b[1;33m\u001b[0m\u001b[1;33m\u001b[0m\u001b[0m\n\u001b[1;32m----> 6\u001b[1;33m         \u001b[0mfinanceTracker\u001b[0m\u001b[1;33m(\u001b[0m\u001b[0mdate\u001b[0m\u001b[1;33m)\u001b[0m\u001b[1;33m\u001b[0m\u001b[1;33m\u001b[0m\u001b[0m\n\u001b[0m\u001b[0;32m      7\u001b[0m     \u001b[1;32melse\u001b[0m\u001b[1;33m:\u001b[0m\u001b[1;33m\u001b[0m\u001b[1;33m\u001b[0m\u001b[0m\n\u001b[0;32m      8\u001b[0m         \u001b[0mprint\u001b[0m\u001b[1;33m(\u001b[0m\u001b[1;34m'\\nSorry, but you entered the wrong format. Please use --/--/----'\u001b[0m\u001b[1;33m)\u001b[0m\u001b[1;33m\u001b[0m\u001b[1;33m\u001b[0m\u001b[0m\n",
      "\u001b[1;32m<ipython-input-3-b76571e2591c>\u001b[0m in \u001b[0;36mfinanceTracker\u001b[1;34m(date)\u001b[0m\n\u001b[0;32m      6\u001b[0m     \u001b[0mprint\u001b[0m\u001b[1;33m(\u001b[0m\u001b[1;34m'--------------------'\u001b[0m\u001b[1;33m)\u001b[0m\u001b[1;33m\u001b[0m\u001b[1;33m\u001b[0m\u001b[0m\n\u001b[0;32m      7\u001b[0m \u001b[1;33m\u001b[0m\u001b[0m\n\u001b[1;32m----> 8\u001b[1;33m     \u001b[0mcalculations\u001b[0m\u001b[1;33m(\u001b[0m\u001b[0mdate\u001b[0m\u001b[1;33m,\u001b[0m \u001b[0mmoneyEarned\u001b[0m\u001b[1;33m,\u001b[0m \u001b[0mmoneyUsed\u001b[0m\u001b[1;33m,\u001b[0m \u001b[0mtaxes\u001b[0m\u001b[1;33m)\u001b[0m\u001b[1;33m\u001b[0m\u001b[1;33m\u001b[0m\u001b[0m\n\u001b[0m",
      "\u001b[1;32m<ipython-input-4-3414f7674b81>\u001b[0m in \u001b[0;36mcalculations\u001b[1;34m(date, moneyEarned, moneyUsed, taxes)\u001b[0m\n\u001b[0;32m      9\u001b[0m \u001b[1;33m\u001b[0m\u001b[0m\n\u001b[0;32m     10\u001b[0m \u001b[1;33m\u001b[0m\u001b[0m\n\u001b[1;32m---> 11\u001b[1;33m     \u001b[0mpCash\u001b[0m\u001b[1;33m(\u001b[0m\u001b[0mdate\u001b[0m\u001b[1;33m,\u001b[0m \u001b[0mmoneyEarned\u001b[0m\u001b[1;33m,\u001b[0m \u001b[0mmoneyUsed\u001b[0m\u001b[1;33m,\u001b[0m \u001b[0mtaxes\u001b[0m\u001b[1;33m,\u001b[0m \u001b[0mtotalBalance\u001b[0m\u001b[1;33m)\u001b[0m\u001b[1;33m\u001b[0m\u001b[1;33m\u001b[0m\u001b[0m\n\u001b[0m",
      "\u001b[1;32m<ipython-input-5-419939d5279f>\u001b[0m in \u001b[0;36mpCash\u001b[1;34m(date, moneyEarned, moneyUsed, taxes, totalBalance)\u001b[0m\n\u001b[0;32m     34\u001b[0m \u001b[1;33m\u001b[0m\u001b[0m\n\u001b[0;32m     35\u001b[0m     \u001b[1;32mfor\u001b[0m \u001b[0mrow\u001b[0m \u001b[1;32min\u001b[0m \u001b[0mHandlerSplit\u001b[0m\u001b[1;33m:\u001b[0m\u001b[1;33m\u001b[0m\u001b[1;33m\u001b[0m\u001b[0m\n\u001b[1;32m---> 36\u001b[1;33m         \u001b[0mtotalMoneyUsed\u001b[0m \u001b[1;33m+=\u001b[0m \u001b[0mfloat\u001b[0m\u001b[1;33m(\u001b[0m\u001b[0mrow\u001b[0m\u001b[1;33m[\u001b[0m\u001b[1;36m2\u001b[0m\u001b[1;33m]\u001b[0m\u001b[1;33m)\u001b[0m\u001b[1;33m\u001b[0m\u001b[1;33m\u001b[0m\u001b[0m\n\u001b[0m\u001b[0;32m     37\u001b[0m         \u001b[0mprint\u001b[0m\u001b[1;33m(\u001b[0m\u001b[0mtotalMoneyUsed\u001b[0m\u001b[1;33m)\u001b[0m\u001b[1;33m\u001b[0m\u001b[1;33m\u001b[0m\u001b[0m\n\u001b[0;32m     38\u001b[0m     print(\"\\tYou have used: $\" + str(totalMoneyUsed) + ' from ' + str(listFirstInput[0]) \n",
      "\u001b[1;31mIndexError\u001b[0m: string index out of range"
     ]
    }
   ],
   "source": [
    "# User input- Date\n",
    "date = input('What is the date today? (Enter in this form --/--/----): ')\n",
    "dateCheck(date)"
   ]
  },
  {
   "cell_type": "code",
   "execution_count": null,
   "metadata": {},
   "outputs": [],
   "source": []
  },
  {
   "cell_type": "code",
   "execution_count": null,
   "metadata": {},
   "outputs": [],
   "source": []
  },
  {
   "cell_type": "code",
   "execution_count": 54,
   "metadata": {},
   "outputs": [],
   "source": []
  },
  {
   "cell_type": "code",
   "execution_count": null,
   "metadata": {},
   "outputs": [],
   "source": []
  },
  {
   "cell_type": "code",
   "execution_count": null,
   "metadata": {},
   "outputs": [],
   "source": []
  },
  {
   "cell_type": "code",
   "execution_count": null,
   "metadata": {},
   "outputs": [],
   "source": []
  },
  {
   "cell_type": "code",
   "execution_count": null,
   "metadata": {},
   "outputs": [],
   "source": []
  }
 ],
 "metadata": {
  "kernelspec": {
   "display_name": "Python 3",
   "language": "python",
   "name": "python3"
  },
  "language_info": {
   "codemirror_mode": {
    "name": "ipython",
    "version": 3
   },
   "file_extension": ".py",
   "mimetype": "text/x-python",
   "name": "python",
   "nbconvert_exporter": "python",
   "pygments_lexer": "ipython3",
   "version": "3.7.3"
  }
 },
 "nbformat": 4,
 "nbformat_minor": 2
}
