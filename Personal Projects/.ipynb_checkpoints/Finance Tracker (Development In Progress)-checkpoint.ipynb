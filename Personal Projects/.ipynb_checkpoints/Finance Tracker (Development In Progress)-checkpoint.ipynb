{
 "cells": [
  {
   "cell_type": "code",
   "execution_count": null,
   "metadata": {},
   "outputs": [],
   "source": [
    "import csv"
   ]
  },
  {
   "cell_type": "code",
   "execution_count": 69,
   "metadata": {},
   "outputs": [],
   "source": [
    "def financeTracker(date):\n",
    "    # User input\n",
    "    moneyEarned = input('How much money did you earned? ')\n",
    "    moneyUsed = input('How much money did you spend? ')\n",
    "    taxes = input('How much did you pay in taxes? ')\n",
    "    print('--------------------')\n",
    "\n",
    "    calculations(date, moneyEarned, moneyUsed, taxes)"
   ]
  },
  {
   "cell_type": "code",
   "execution_count": 70,
   "metadata": {},
   "outputs": [],
   "source": [
    "def calculations(date, moneyEarned, moneyUsed, taxes):\n",
    "    # Money used/gained that user want to record\n",
    "    addInBalance = float(moneyEarned) - float(moneyUsed) - float(taxes)\n",
    "    print('\\nAdd In Balance: $' + str(addInBalance))\n",
    "    \n",
    "    \n",
    "    file = open('financialFiles.csv', 'r')\n",
    "    dataList = file.read().splitlines()\n",
    "    lastInput = dataList[len(dataList) - 1]\n",
    "    listlastInput = lastInput.split(',')\n",
    "    \n",
    "    \n",
    "    totalBalance = str(float(listlastInput[4]) + addInBalance)\n",
    "    print('Total Balance: $' + totalBalance)\n",
    "    file.close()\n",
    "    \n",
    "    \n",
    "    pCash(date, moneyEarned, moneyUsed, taxes, totalBalance)"
   ]
  },
  {
   "cell_type": "code",
   "execution_count": 71,
   "metadata": {},
   "outputs": [],
   "source": [
    "def pCash(date, moneyEarned, moneyUsed, taxes, totalBalance):\n",
    "    # open file and mode set to read\n",
    "    file = open('financialFiles.csv', 'r')\n",
    "    # open file content and set lines into list\n",
    "    dataList = file.read().splitlines()\n",
    "    \n",
    "    # Determining how many lines in the list and subtracting 1(because of the header in the other\n",
    "    # list). This determines the user last data input line.\n",
    "    lastInput = dataList[len(dataList) - 1]\n",
    "    # spliting the last user input line into a list\n",
    "    listlastInput = lastInput.split(',')\n",
    "    # Determining the rate of change in cash used/gained in percent\n",
    "    \n",
    "    lastTotalBal = float(listlastInput[4])\n",
    "    totalBalance = float(totalBalance)\n",
    "    percentCash = round((((totalBalance - lastTotalBal) / lastTotalBal)), 2)\n",
    "\n",
    "    \n",
    "    # control structure determines if percentCash is positive or negative\n",
    "    if ('-' in str(percentCash)):\n",
    "        # percentCash value is negative\n",
    "        print('\\nCost Analysis')\n",
    "        print('\\tYour balance has fluctuated by: ' + str(percentCash) + '% ≈ -$' \n",
    "              + str(abs(totalBalance - lastTotalBal)))\n",
    "        print('\\tYour balance from our last record was ' + '$' + str(lastTotalBal) + '.')\n",
    "        \n",
    "    \n",
    "    elif (percentCash == 0):\n",
    "        # percentCash has no change since it is 0.00%\n",
    "        print('\\nCost Analysis')\n",
    "        print('\\tThere is no fluctutation with your cash')\n",
    "    \n",
    "    else:\n",
    "        # percentCash value is postive\n",
    "        print('\\nCost Analysis')\n",
    "        print('\\tYour balance has fluctuated by: ' + str(percentCash) + '% ≈ $' \n",
    "              + str(abs(totalBalance - lastTotalBal)))\n",
    "        print('\\tYour balance from our last record was ' + '$' + str(lastTotalBal) + '.')\n",
    "\n",
    "\n",
    "    totalMoneyUsed = 0\n",
    "    header = dataList[0]\n",
    "    firstLine = dataList[2].rstrip('\\n').split(',')\n",
    "    lastLine = dataList[len(dataList) - 1].rstrip('\\n').split(',')\n",
    "    for line in dataList:\n",
    "        if (line == header):\n",
    "            print()\n",
    "        else:\n",
    "            lineSplit = line.split(',')\n",
    "            totalMoneyUsed += float(lineSplit[2])\n",
    "    print(\"You have used: $\" + str(totalMoneyUsed) + ' from ' + str(firstLine[0]) \n",
    "            + ' to ' + str(lastLine[0]))\n",
    "    \n",
    "\n",
    "    record(date, moneyEarned, moneyUsed, taxes, totalBalance, percentCash)\n",
    "    \n",
    "    file.close()"
   ]
  },
  {
   "cell_type": "code",
   "execution_count": 72,
   "metadata": {},
   "outputs": [],
   "source": [
    "def record(date, moneyEarned, moneyUsed, taxes, totalBalance, percentCash):\n",
    "\n",
    "    fileHandler = open('financialFiles.csv', 'a')\n",
    "    fileHandler.write('\\n'+ str(date) + ', ' + str(moneyEarned) + ', ' + str(moneyUsed) + ', ' \n",
    "                      + str(taxes) + ', ' + str(totalBalance) + ', ' + str(percentCash) + '%')\n",
    "    fileHandler.close()"
   ]
  },
  {
   "cell_type": "code",
   "execution_count": 73,
   "metadata": {},
   "outputs": [
    {
     "name": "stdout",
     "output_type": "stream",
     "text": [
      "What is the date today? (Enter in this form --/--/----): 30/303/30\n",
      "How much money did you earned? 3\n",
      "How much money did you spend? 3\n",
      "How much did you pay in taxes? 3\n",
      "--------------------\n",
      "\n",
      "Add In Balance: $-3.0\n",
      "Total Balance: $1425.17\n",
      "\n",
      "Cost Analysis\n",
      "\tYour balance has fluctuated by: -0.0% ≈ -$3.0\n",
      "\tYour balance from our last record was $1428.17.\n",
      "\n",
      "You have used: $225.25 from 9/15/2019 to 11/14/2019\n"
     ]
    }
   ],
   "source": [
    "# Checking if date matches date format\n",
    "def dateCheck(date):\n",
    "    # there should be a month, day, and year. Which gives the length of list a number 3\n",
    "    string = date.split('/')\n",
    "    if (len(string) == 3):\n",
    "        financeTracker(date)\n",
    "    else:\n",
    "        print('\\nSorry, but you entered the wrong format. Please use --/--/----')\n",
    "        date = input('What is the date today? ')\n",
    "        dateCheck(date)\n",
    "\n",
    "# User input- Date\n",
    "date = input('What is the date today? (Enter in this form --/--/----): ')\n",
    "dateCheck(date)"
   ]
  },
  {
   "cell_type": "code",
   "execution_count": null,
   "metadata": {},
   "outputs": [],
   "source": []
  },
  {
   "cell_type": "code",
   "execution_count": null,
   "metadata": {},
   "outputs": [],
   "source": []
  },
  {
   "cell_type": "code",
   "execution_count": null,
   "metadata": {},
   "outputs": [],
   "source": []
  },
  {
   "cell_type": "code",
   "execution_count": null,
   "metadata": {},
   "outputs": [],
   "source": []
  }
 ],
 "metadata": {
  "kernelspec": {
   "display_name": "Python 3",
   "language": "python",
   "name": "python3"
  },
  "language_info": {
   "codemirror_mode": {
    "name": "ipython",
    "version": 3
   },
   "file_extension": ".py",
   "mimetype": "text/x-python",
   "name": "python",
   "nbconvert_exporter": "python",
   "pygments_lexer": "ipython3",
   "version": "3.7.3"
  }
 },
 "nbformat": 4,
 "nbformat_minor": 2
}
