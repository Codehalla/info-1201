{
 "cells": [
  {
   "cell_type": "markdown",
   "metadata": {},
   "source": [
    "## Homework 6 Problem 3\n",
    "Write a function called `processTweetFile` that takes in a string *fileName* as a parameter and **prints the number of hashtags**. Use the function header:\n",
    "\n",
    "```\n",
    "def processTweetFile(fileName):\n",
    "```\n",
    "For example, given *fileName* = \"tweets.txt\", which is a text file that contains:\n",
    "```\n",
    "#snowdays are the best\n",
    "Breakfast today was #scones and #leftoverpizza and #coffee\n",
    "All I want to do today is write code #lieslieslies\n",
    "```\n",
    "Your function should **print**: `5`"
   ]
  },
  {
   "cell_type": "code",
   "execution_count": 4,
   "metadata": {},
   "outputs": [],
   "source": [
    "def processTweetFile(fileName):\n",
    "    # open the file inn \"r\"\n",
    "    # read all of the contents using .read()\n",
    "    # use .split to make fileContents a list of words\n",
    "    # set counter to 0\n",
    "    # iterate through list using for loop\n",
    "        # identify '#'\n",
    "            # if index[0] = #\n",
    "        # add 1 to counter\n",
    "    # print counter\n",
    "    # close file\n",
    "    fileHandler = open(fileName, 'r')\n",
    "    fileContent = fileHandler.read().split()\n",
    "    counter = 0\n",
    "    for word in fileContent:\n",
    "        if (\"#\" in word):\n",
    "            counter += 1\n",
    "    fileHandler.close()\n",
    "    print(counter)"
   ]
  },
  {
   "cell_type": "code",
   "execution_count": 5,
   "metadata": {},
   "outputs": [
    {
     "name": "stdout",
     "output_type": "stream",
     "text": [
      "9\n"
     ]
    }
   ],
   "source": [
    "processTweetFile(\"hashtag.txt\")"
   ]
  },
  {
   "cell_type": "code",
   "execution_count": null,
   "metadata": {},
   "outputs": [],
   "source": []
  },
  {
   "cell_type": "markdown",
   "metadata": {},
   "source": [
    "## Lab Problem\n",
    "Write a function called `countCharactersInFiles` that takes in a list of strings *listOfFileNames* as a parameter, which represents a list of file names. Your function should **print the number of characters in the file and how many files** using the following phrase:\n",
    "```\n",
    "There are X characters in Y files.\n",
    "```\n",
    "**Remember, characters are any letter, space, symbol, number, etc.**\n",
    "\n",
    "Use the function header:\n",
    "```\n",
    "def countCharactersInFiles(listOfFileNames):\n",
    "```\n",
    "\n",
    "For example, given *listOfFileNames* = \\[\"file1.txt\", \"file2.txt\"\\] of two files where \"file1.txt\" contains\n",
    "```\n",
    "Hello World\n",
    "```\n",
    "and \"file2.txt\" contains\n",
    "```\n",
    "INFO 1201\n",
    "```\n",
    "Your function will print: \n",
    "```\n",
    "There are 20 characters in 2 files.\n",
    "```"
   ]
  },
  {
   "cell_type": "code",
   "execution_count": null,
   "metadata": {},
   "outputs": [],
   "source": [
    "def countCharactersInFiles(listOfFileNames):"
   ]
  },
  {
   "cell_type": "markdown",
   "metadata": {},
   "source": [
    "## Challenge Problem\n",
    "Given a text file, where **each line is quote and the character who said it separated by a dash** like this: `quote - character`. write a function `frequencyOfWordInQuotes` that takes a string *fileName* and a string *word* and calculates the **number of times that word is said, how many of the quotes contain the word, and how many different characters said the word** in the form of\n",
    "```\n",
    "word is said X times in Y total quotes by Z character(s) in the file.\n",
    "```\n",
    "\n",
    "For example, given *fileName* = \"gaang_quotes.txt\" and *word* = \"magic\", where the **first three lines** look like this:\n",
    "```\n",
    "Drink the Cactus Juice. It'll quench ya. It's the quenchiest! - Sokka\n",
    "I'm just a guy with a boomeraang. I didn't ask for the flying and magic! - Sokka\n",
    "You just love taking me out of my comfort zone...don't you! - Sokka\n",
    "...\n",
    "```\n",
    "Your function should print:\n",
    "```\n",
    "Magic is said 2 times in 2 total quotes by 1 character in the file.\n",
    "```\n",
    "\n",
    "Hint: This example outputs \"character\" instead of \"characters\" because there is only 1 person who uses the word magic. What happens when multiple characters use a word.\n",
    "\n",
    "Hint: Notice the word is capitalized. We know strings have a function to lowercase letters, is there one for capitalizing only the first letter?"
   ]
  },
  {
   "cell_type": "code",
   "execution_count": 10,
   "metadata": {},
   "outputs": [],
   "source": [
    "def frequencyOfWordInQuotes(fileName, word):\n",
    "    "
   ]
  }
 ],
 "metadata": {
  "kernelspec": {
   "display_name": "Python 3",
   "language": "python",
   "name": "python3"
  },
  "language_info": {
   "codemirror_mode": {
    "name": "ipython",
    "version": 3
   },
   "file_extension": ".py",
   "mimetype": "text/x-python",
   "name": "python",
   "nbconvert_exporter": "python",
   "pygments_lexer": "ipython3",
   "version": "3.7.3"
  }
 },
 "nbformat": 4,
 "nbformat_minor": 2
}
