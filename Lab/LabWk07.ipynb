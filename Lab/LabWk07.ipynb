{
 "cells": [
  {
   "cell_type": "code",
   "execution_count": 1,
   "metadata": {},
   "outputs": [],
   "source": [
    "# Example 1\n",
    "# myList = ['Bob','Mike','Steve']\n",
    "# then we run\n",
    "# printOddOrEven(mylist)\n",
    "# then the function would print\n",
    "# \"There is an odd number of items in the list.\"\n",
    "\n",
    "# So what is happening in this example?\n",
    "# I see that myList has a length of 3, 3 is an odd number\n",
    "# so I know my function should print the odd phrase\n",
    "\n",
    "# Example 2\n",
    "# myList2 = []\n",
    "# then we run\n",
    "# printOddOrEven(mylist2)\n",
    "# then the function would print\n",
    "# \"There is an even number of items in the list.\"\n",
    "\n",
    "# So what is happening in this example?\n",
    "# I see that myList has a length of 0 items, 0 is an even number\n",
    "# so I know my function should print the even phrase"
   ]
  },
  {
   "cell_type": "code",
   "execution_count": null,
   "metadata": {},
   "outputs": [],
   "source": [
    "def printOddOrEven(listOfThings):\n",
    "    # listOfThings is the parameter and it will be the list we use in our function\n",
    "    \n",
    "    # we want to get the length of the list and assign it to a variable, thus the variable now holds\n",
    "    # the length of the list. We can use the function len(listName) to get the length "
   ]
  }
 ],
 "metadata": {
  "kernelspec": {
   "display_name": "Python 3",
   "language": "python",
   "name": "python3"
  },
  "language_info": {
   "codemirror_mode": {
    "name": "ipython",
    "version": 3
   },
   "file_extension": ".py",
   "mimetype": "text/x-python",
   "name": "python",
   "nbconvert_exporter": "python",
   "pygments_lexer": "ipython3",
   "version": "3.7.3"
  }
 },
 "nbformat": 4,
 "nbformat_minor": 2
}
