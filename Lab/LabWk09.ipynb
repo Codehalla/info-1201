{
 "cells": [
  {
   "cell_type": "code",
   "execution_count": 2,
   "metadata": {},
   "outputs": [
    {
     "ename": "SyntaxError",
     "evalue": "unexpected EOF while parsing (<ipython-input-2-a36181428fbd>, line 20)",
     "output_type": "error",
     "traceback": [
      "\u001b[1;36m  File \u001b[1;32m\"<ipython-input-2-a36181428fbd>\"\u001b[1;36m, line \u001b[1;32m20\u001b[0m\n\u001b[1;33m    # return count after loop\u001b[0m\n\u001b[1;37m                             ^\u001b[0m\n\u001b[1;31mSyntaxError\u001b[0m\u001b[1;31m:\u001b[0m unexpected EOF while parsing\n"
     ]
    }
   ],
   "source": [
    "# What is the goal?\n",
    "    # Count the occurances of the letterToFind in aString, return that number\n",
    "\n",
    "# What info. is given?\n",
    "    # aString (string) is the string we will be looking at letterToFind (string) is one character\n",
    "    # type is string\n",
    "\n",
    "# What info we need to find?\n",
    "    # We need to know how many times a letter occurs in a string\n",
    "    \n",
    "def returnLetterCount(aString, letterToFind):\n",
    "    # aString (string) is the string we will be looking at letterToFind (string) is one character\n",
    "    \n",
    "    # we need to initialize a counter by creating an intial value of 0\n",
    "    \n",
    "    # go through each letter in the string \n",
    "        # if letter match LetterToFind, add one to counter (counter += 1)\n",
    "        # if not ignore\n",
    "        \n",
    "    # return count after loop"
   ]
  },
  {
   "cell_type": "code",
   "execution_count": 3,
   "metadata": {},
   "outputs": [],
   "source": [
    "# problem 2 - addToFrontOrBack\n",
    "# listOfThings (list of any type items), it's the list we are adding a new item to\n",
    "# addToFront (boolean), when True it means adding to front, otherwise add to the back\n",
    "# thingToAdd, (any typed item added to the list)\n",
    "\n",
    "# Goal: return list with thingToAdd either in the front or back\n",
    "\n",
    "# Append -- add to END of list\n",
    "    # listVariableName.append(itemVariable)\n",
    "    \n",
    "# Insert -- add to any index number of your choosing\n",
    "    # listVariableName.insert(index, itemVariable)"
   ]
  },
  {
   "cell_type": "code",
   "execution_count": 6,
   "metadata": {},
   "outputs": [
    {
     "name": "stdout",
     "output_type": "stream",
     "text": [
      "With the numbers 4 and 7\n",
      "4 and 7 are equal\n"
     ]
    }
   ],
   "source": [
    "num1 = 4\n",
    "num2 = 7\n",
    "    \n",
    "print(\"With the numbers \" + str(num1) + \" and \" + str(num2))\n",
    "if (num1 > num2):\n",
    "    print(str(num1) + \" is greater than \" + str(num2))\n",
    "elif (num1 > num2):\n",
    "    print(str(num1) + \" is less than \" + str(num2))\n",
    "else:\n",
    "    print(str(num1) + \" and \" + str(num2) + \" are equal\")"
   ]
  },
  {
   "cell_type": "code",
   "execution_count": null,
   "metadata": {},
   "outputs": [],
   "source": []
  }
 ],
 "metadata": {
  "kernelspec": {
   "display_name": "Python 3",
   "language": "python",
   "name": "python3"
  },
  "language_info": {
   "codemirror_mode": {
    "name": "ipython",
    "version": 3
   },
   "file_extension": ".py",
   "mimetype": "text/x-python",
   "name": "python",
   "nbconvert_exporter": "python",
   "pygments_lexer": "ipython3",
   "version": "3.7.3"
  }
 },
 "nbformat": 4,
 "nbformat_minor": 2
}
