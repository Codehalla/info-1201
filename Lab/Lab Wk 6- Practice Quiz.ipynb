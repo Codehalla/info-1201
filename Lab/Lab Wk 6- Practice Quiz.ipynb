{
 "cells": [
  {
   "cell_type": "code",
   "execution_count": 1,
   "metadata": {},
   "outputs": [],
   "source": [
    "def numbersAverage(startNum, endNum, doAverage):\n",
    "    summation = 0\n",
    "    loop = 0\n",
    "    if (doAverage == True):\n",
    "        for i in range(startNum, endNum):\n",
    "            summation += i\n",
    "            loop += 1\n",
    "            ave = summation/loop\n",
    "        print(ave)\n",
    "    else:\n",
    "        number = \"\"\n",
    "        for i in range(startNum, endNum + 1):\n",
    "            number += str(i) + \" \"\n",
    "        print(number)"
   ]
  },
  {
   "cell_type": "code",
   "execution_count": null,
   "metadata": {},
   "outputs": [],
   "source": []
  },
  {
   "cell_type": "code",
   "execution_count": 11,
   "metadata": {},
   "outputs": [],
   "source": [
    "def snacksAndDrinks(snack, drink, X):\n",
    "    snackPhrase = \"\"\n",
    "    for i in range(X):\n",
    "        snackPhrase += snack\n",
    "    print(snackPhrase)\n",
    "    \n",
    "    drinkPhrase = \"\"\n",
    "    for i in range(2 * X):\n",
    "        drinkPhrase += drink\n",
    "    print(drinkPhrase)\n",
    "    "
   ]
  },
  {
   "cell_type": "code",
   "execution_count": 12,
   "metadata": {},
   "outputs": [
    {
     "name": "stdout",
     "output_type": "stream",
     "text": [
      "snacksnacksnacksnacksnack\n",
      "drinkdrinkdrinkdrinkdrinkdrinkdrinkdrinkdrinkdrink\n"
     ]
    }
   ],
   "source": [
    "snacksAndDrinks(\"snack\", \"drink\", 5)"
   ]
  },
  {
   "cell_type": "code",
   "execution_count": null,
   "metadata": {},
   "outputs": [],
   "source": []
  }
 ],
 "metadata": {
  "kernelspec": {
   "display_name": "Python 3",
   "language": "python",
   "name": "python3"
  },
  "language_info": {
   "codemirror_mode": {
    "name": "ipython",
    "version": 3
   },
   "file_extension": ".py",
   "mimetype": "text/x-python",
   "name": "python",
   "nbconvert_exporter": "python",
   "pygments_lexer": "ipython3",
   "version": "3.7.3"
  }
 },
 "nbformat": 4,
 "nbformat_minor": 2
}
