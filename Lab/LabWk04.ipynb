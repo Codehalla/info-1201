{
 "cells": [
  {
   "cell_type": "code",
   "execution_count": 1,
   "metadata": {},
   "outputs": [],
   "source": [
    "# round(nunm) -> round to the nearest whole number\n",
    "# round(num, nDigits) -> round to the nDigits after decimal\n",
    "# True (capital T is important, no quotes) -means yes\n",
    "# False (capital F is important, no quotes) -means no\n",
    "\n",
    "#example 1\n",
    "# total money = 30\n",
    "# we spend 50% on food 30* 0.5 (aka 50%) = 15\n",
    "# 30% goes to supplies 30 * 0.3 = 9\n",
    "# so we spent a total of 24 pieces\n",
    "# 30 - 24 = 6 leftovers copper pieces\n",
    "# Our function will print\n",
    "# \"Given 30 copper pieces, 15 is spent on food and 9 is spent on supplies\"\n",
    "# and our function will return false\n",
    "\n",
    "# We must determine how many coins we have after using the total_money for food and supplies\n",
    "# we will need to save 50% for food, which equals total_money*0.5\n",
    "# since we cannot have a fraction of a coin, we must round the number using round()\n",
    "# we will need to save 30% for supplies, which equals total_money*0.3\n",
    "# since we cannot have a fraction of a coin, we must round the number using round()\n",
    "# we must know how much we spent, use the summation of food and supplies savings\n",
    "# we must know how much money we have left, take the difference of total_money and how much we spent\n",
    "# We must know if we have at least 20 copper coins, use the if/else function to determine it\n",
    "# The problem ask that we print the results"
   ]
  },
  {
   "cell_type": "code",
   "execution_count": 22,
   "metadata": {},
   "outputs": [],
   "source": [
    "def gaangBudget(total_money):\n",
    "    savingsForFood = total_money * 0.5\n",
    "    round_savingsForFood = round(savingsForFood)\n",
    "    \n",
    "    savingsForSupplies = total_money * 0.3\n",
    "    round_savingsForSupplies = round(savingsForSupplies)\n",
    "    \n",
    "    summation = round_savingsForFood + round_savingsForSupplies\n",
    "    savings = total_money - summation\n",
    "    \n",
    "    print(\"Given \" + str(total_money) + \" copper pieces, \" + str(round_savingsForFood) +\" is spent on food and \" + str(round_savingsForSupplies) + \" is spent on supplies\")\n",
    "    if (savings >= 20):\n",
    "        return True\n",
    "    else:\n",
    "        return False"
   ]
  },
  {
   "cell_type": "code",
   "execution_count": 24,
   "metadata": {},
   "outputs": [
    {
     "name": "stdout",
     "output_type": "stream",
     "text": [
      "Given 2 copper pieces, 1  is spent on food and 1 is spent on supplies\n"
     ]
    },
    {
     "data": {
      "text/plain": [
       "False"
      ]
     },
     "execution_count": 24,
     "metadata": {},
     "output_type": "execute_result"
    }
   ],
   "source": [
    "gaangBudget(2)"
   ]
  }
 ],
 "metadata": {
  "kernelspec": {
   "display_name": "Python 3",
   "language": "python",
   "name": "python3"
  },
  "language_info": {
   "codemirror_mode": {
    "name": "ipython",
    "version": 3
   },
   "file_extension": ".py",
   "mimetype": "text/x-python",
   "name": "python",
   "nbconvert_exporter": "python",
   "pygments_lexer": "ipython3",
   "version": "3.7.3"
  }
 },
 "nbformat": 4,
 "nbformat_minor": 2
}
