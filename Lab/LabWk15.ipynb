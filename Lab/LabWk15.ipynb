{
 "cells": [
  {
   "cell_type": "code",
   "execution_count": 1,
   "metadata": {},
   "outputs": [],
   "source": [
    "# Goal is to calculate an acceptance score for the student data in the list given as a parameter\n",
    "\n",
    "# normalizedSAT = SAT SCORE / 160\n",
    "# normalizedGPA = GPA SCORE * 2\n",
    "# score = (normalizedSAT * 0.3) + (normalisedGPA * 0.3) + (Interest * 0.2) + (curriculum* 0.2)\n",
    "def calculateAcceptanceScoreSansDonor(studentData):\n",
    "    # studentData is a list of 4 numbers and a boolean\n",
    "    # SAT score (index 0) - from 0 to 1600\n",
    "    # GPA (index 1) - from 0.0 to 5.0\n",
    "    # Interest (index 2) - from 0 to 10\n",
    "    # Curriculum (index 3) - from 0 to 10\n",
    "    # Donated (index 4) - True or Falsev  <-- Ignore this index\n",
    "    \n",
    "    # Calculate normalized SAT score\n",
    "    normalizedSAT = float(studentData[0]) / 160\n",
    "    # Calculate normalized GPA score\n",
    "    normalizedGPA = float(studentData[1]) * 2\n",
    "    # ----\n",
    "    \n",
    "    # Each of these listed is an individual variable\n",
    "    # Get the SAT Score from studentData\n",
    "    sat = normalizedSAT * 0.3\n",
    "    # Get the GPA Score from studentData\n",
    "    gpa = normalizedGPA * 0.3\n",
    "    # Get the Interest from studentData\n",
    "    interest = float(studentData[2]) * 0.2\n",
    "    # Get the curriculum from studentData\n",
    "    quality = float(studentData[3]) * 0.2\n",
    "\n",
    "    # calculate acceptanceScore without donor\n",
    "    acceptanceScore = sat + gpa + interest + quality\n",
    "    \n",
    "    # rounding acceptanceScore\n",
    "    acceptanceScoreRound = round(acceptanceScore, 2)\n",
    "    \n",
    "    # return acceptanceScoreRound\n",
    "    return acceptanceScoreRound\n",
    "    \n",
    "\n",
    "    \n",
    "# Hint:\n",
    "    #1. Pull data from the list and print those variables to make sure they are correct\n",
    "    #2. Make sure you have all the numbers for the score equation (which means you will\n",
    "    # need the normalized SAT and GPA)."
   ]
  },
  {
   "cell_type": "code",
   "execution_count": 2,
   "metadata": {},
   "outputs": [
    {
     "data": {
      "text/plain": [
       "8.0"
      ]
     },
     "execution_count": 2,
     "metadata": {},
     "output_type": "execute_result"
    }
   ],
   "source": [
    "studentData = [1300,3.61,10,7,True]\n",
    "calculateAcceptanceScoreSansDonor(studentData)"
   ]
  },
  {
   "cell_type": "code",
   "execution_count": null,
   "metadata": {},
   "outputs": [],
   "source": []
  },
  {
   "cell_type": "code",
   "execution_count": 11,
   "metadata": {},
   "outputs": [],
   "source": [
    "# Return list of cities whose average temp is above temp_value\n",
    "# print there are no cities phrase if none are found\n",
    "\n",
    "def city_temps(city_temp_dictionary, temp_value):\n",
    "    # city_temp_dictionary (dictionary whose keys are city names)\n",
    "    # and the values are the average temp. for that city\n",
    "    # temp_value (number) whihc is the threshold for choosing cities\n",
    "    # i.e. the ave. temp has to ve above temp_value to be chosen\n",
    "    \n",
    "    # for each key in the city_temp_dictionary\n",
    "    # i.e. looking at each of the cities\n",
    "    \n",
    "    newlist = []\n",
    "    \n",
    "    for city in city_temp_dictionary:\n",
    "        # city is the key of the dictionary\n",
    "        print(city)\n",
    "        # get the city average temp.\n",
    "        avg_temp = city_temp_dictionary[city]\n",
    "        print(avg_temp)\n",
    "        \n",
    "        # check to make sure the avg temp is above our threshold\n",
    "        # i.e. it must be greater than temp_value\n",
    "        if (avg_temp > temp_value):\n",
    "            newList.append(city)\n",
    "            #print(newList)"
   ]
  },
  {
   "cell_type": "code",
   "execution_count": 12,
   "metadata": {},
   "outputs": [
    {
     "name": "stdout",
     "output_type": "stream",
     "text": [
      "Chicago\n",
      "2\n",
      "Los Angelese\n",
      "40\n"
     ]
    },
    {
     "ename": "NameError",
     "evalue": "name 'newList' is not defined",
     "output_type": "error",
     "traceback": [
      "\u001b[1;31m---------------------------------------------------------------------------\u001b[0m",
      "\u001b[1;31mNameError\u001b[0m                                 Traceback (most recent call last)",
      "\u001b[1;32m<ipython-input-12-0f71e36adf70>\u001b[0m in \u001b[0;36m<module>\u001b[1;34m\u001b[0m\n\u001b[0;32m      1\u001b[0m \u001b[0mmyDict\u001b[0m \u001b[1;33m=\u001b[0m \u001b[1;33m{\u001b[0m\u001b[1;34m'Chicago'\u001b[0m\u001b[1;33m:\u001b[0m \u001b[1;36m2\u001b[0m\u001b[1;33m,\u001b[0m \u001b[1;34m'Los Angelese'\u001b[0m\u001b[1;33m:\u001b[0m \u001b[1;36m40\u001b[0m\u001b[1;33m,\u001b[0m \u001b[1;34m'Moscow'\u001b[0m\u001b[1;33m:\u001b[0m \u001b[1;36m10\u001b[0m\u001b[1;33m,\u001b[0m \u001b[1;34m'Tampa'\u001b[0m\u001b[1;33m:\u001b[0m \u001b[1;36m55\u001b[0m\u001b[1;33m}\u001b[0m\u001b[1;33m\u001b[0m\u001b[1;33m\u001b[0m\u001b[0m\n\u001b[1;32m----> 2\u001b[1;33m \u001b[0mcity_temps\u001b[0m\u001b[1;33m(\u001b[0m\u001b[0mmyDict\u001b[0m\u001b[1;33m,\u001b[0m \u001b[1;36m30\u001b[0m\u001b[1;33m)\u001b[0m\u001b[1;33m\u001b[0m\u001b[1;33m\u001b[0m\u001b[0m\n\u001b[0m",
      "\u001b[1;32m<ipython-input-11-b199fcd1102c>\u001b[0m in \u001b[0;36mcity_temps\u001b[1;34m(city_temp_dictionary, temp_value)\u001b[0m\n\u001b[0;32m     23\u001b[0m         \u001b[1;31m# i.e. it must be greater than temp_value\u001b[0m\u001b[1;33m\u001b[0m\u001b[1;33m\u001b[0m\u001b[1;33m\u001b[0m\u001b[0m\n\u001b[0;32m     24\u001b[0m         \u001b[1;32mif\u001b[0m \u001b[1;33m(\u001b[0m\u001b[0mavg_temp\u001b[0m \u001b[1;33m>\u001b[0m \u001b[0mtemp_value\u001b[0m\u001b[1;33m)\u001b[0m\u001b[1;33m:\u001b[0m\u001b[1;33m\u001b[0m\u001b[1;33m\u001b[0m\u001b[0m\n\u001b[1;32m---> 25\u001b[1;33m             \u001b[0mnewList\u001b[0m\u001b[1;33m.\u001b[0m\u001b[0mappend\u001b[0m\u001b[1;33m(\u001b[0m\u001b[0mcity\u001b[0m\u001b[1;33m)\u001b[0m\u001b[1;33m\u001b[0m\u001b[1;33m\u001b[0m\u001b[0m\n\u001b[0m\u001b[0;32m     26\u001b[0m             \u001b[1;31m#print(newList)\u001b[0m\u001b[1;33m\u001b[0m\u001b[1;33m\u001b[0m\u001b[1;33m\u001b[0m\u001b[0m\n",
      "\u001b[1;31mNameError\u001b[0m: name 'newList' is not defined"
     ]
    }
   ],
   "source": [
    "myDict = {'Chicago': 2, 'Los Angelese': 40, 'Moscow': 10, 'Tampa': 55}\n",
    "city_temps(myDict, 30)"
   ]
  },
  {
   "cell_type": "code",
   "execution_count": null,
   "metadata": {},
   "outputs": [],
   "source": []
  },
  {
   "cell_type": "code",
   "execution_count": null,
   "metadata": {},
   "outputs": [],
   "source": []
  }
 ],
 "metadata": {
  "kernelspec": {
   "display_name": "Python 3",
   "language": "python",
   "name": "python3"
  },
  "language_info": {
   "codemirror_mode": {
    "name": "ipython",
    "version": 3
   },
   "file_extension": ".py",
   "mimetype": "text/x-python",
   "name": "python",
   "nbconvert_exporter": "python",
   "pygments_lexer": "ipython3",
   "version": "3.7.3"
  }
 },
 "nbformat": 4,
 "nbformat_minor": 2
}
