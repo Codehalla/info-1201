{
 "cells": [
  {
   "cell_type": "markdown",
   "metadata": {},
   "source": [
    "# Lab Week 8\n",
    "## What are “bugs” in code?\n",
    "Definition: A software **bug** is an error, flaw, failure or fault in a computer program or system that causes it to produce an incorrect or unexpected result, or to behave in unintended ways.\n",
    "\n",
    "TL;DR: If your code isn’t working, there is a **bug** somewhere. \n",
    "\n",
    "### What is debugging?\n",
    "Debugging is the process of detecting and removing of existing and potential errors.\n",
    "\n",
    "To debug a program, user has to start with a problem, isolate the source code of the problem, and then fix it.\n",
    "\n",
    "### Common Strategies\n",
    "1. Print a lot of things to understand how your code is working.\n",
    "    * Are you making it into the if block? the for loop block?\n",
    "    * Understand how variables are changing their values? \n",
    "2. Run your code after every small change\n",
    "3. Read the error message. And ask:\n",
    "    * What are the types of the variables? \n",
    "    * Is everything named correctly?\n",
    "    * Is my indentation correct?\n",
    "4. Comment out code. This can help you figure out what is not working.\n",
    "5. Walk through your code line by line. What are you telling the computer to do?"
   ]
  },
  {
   "cell_type": "markdown",
   "metadata": {},
   "source": [
    "### Python Errors"
   ]
  },
  {
   "cell_type": "code",
   "execution_count": 1,
   "metadata": {},
   "outputs": [
    {
     "name": "stdout",
     "output_type": "stream",
     "text": [
      "8\n"
     ]
    }
   ],
   "source": [
    "# Isn't 3 + 5 = 8\n",
    "num1 = 5\n",
    "num2 = 3\n",
    "sumValue = num1 + num2\n",
    "print(sumValue)"
   ]
  },
  {
   "cell_type": "code",
   "execution_count": 2,
   "metadata": {},
   "outputs": [
    {
     "name": "stdout",
     "output_type": "stream",
     "text": [
      "Run!\n"
     ]
    }
   ],
   "source": [
    "# But I copied and pasted it exactly!\n",
    "# companions copied from a file\n",
    "companions = [\"Rose Tyler\", \"Martha Jones\", \"Donna\", \"Amy Pond\"]\n",
    "for person in companions:\n",
    "    if person == \"Rose Tyler\":\n",
    "        print(\"Run!\")"
   ]
  },
  {
   "cell_type": "code",
   "execution_count": 4,
   "metadata": {},
   "outputs": [
    {
     "name": "stdout",
     "output_type": "stream",
     "text": [
      "Let's go swimming\n"
     ]
    }
   ],
   "source": [
    "# Am I missing something?\n",
    "raining = False\n",
    "if not raining:\n",
    "    print(\"Let's go swimming\")\n"
   ]
  },
  {
   "cell_type": "code",
   "execution_count": 18,
   "metadata": {},
   "outputs": [
    {
     "name": "stdout",
     "output_type": "stream",
     "text": [
      "The movie is Aristocats\n",
      "The movie is Oliver & Company\n",
      "The movie is Peter Pan\n",
      "The movie is Robin Hood\n"
     ]
    }
   ],
   "source": [
    "# But I'm going through the loop!\n",
    "movies = [\"Aristocats\", \"Oliver & Company\", \"Peter Pan\", \"Robin Hood\"]\n",
    "# Fix 1 is to change what is being concatenated\n",
    "# also change i to a variable name that makes sense\n",
    "for i in movies:\n",
    "    print(\"The movie is \" + i)"
   ]
  },
  {
   "cell_type": "code",
   "execution_count": 15,
   "metadata": {},
   "outputs": [
    {
     "name": "stdout",
     "output_type": "stream",
     "text": [
      "Aang\n",
      "This guy is the avatar!\n",
      "Katara\n",
      "Sokka\n",
      "Toph\n",
      "Suki\n",
      "Zuko\n"
     ]
    }
   ],
   "source": [
    "# Sometimes you fix one to find another\n",
    "gaang = [\"Aang\", \"Katara\", \"Sokka\", \"Toph\", \"Suki\", \"Zuko\"]\n",
    "for member in gaang:\n",
    "    print(member)\n",
    "    if member == \"Aang\": \n",
    "        print(\"This guy is the avatar!\")\n"
   ]
  },
  {
   "cell_type": "markdown",
   "metadata": {},
   "source": [
    "### Logical Errors\n",
    "Sometimes the \"error\" isn't something that will cause Python to give you an **error**. There are logical errors in the functions below. Identify and fix the errors in the functions."
   ]
  },
  {
   "cell_type": "code",
   "execution_count": 42,
   "metadata": {},
   "outputs": [],
   "source": [
    "# What am I missing?\n",
    "# Goal: Return a string containing the first letter of each string in the list\n",
    "# Example: calling firstLetters([\"Aang\", \"Katara\", \"Sokka\", \"Zuko\", \"Toph\"]) would return \"AKSZT\"\n",
    "def firstLetters(listOfStrings):\n",
    "    # fl stands for first letter\n",
    "    flString = \"\"\n",
    "    for string in listOfStrings:\n",
    "        # what we want is it to be equal to the old\n",
    "        # flstring plus the new first letter\n",
    "        flString += string[0]   #flstring = flstring + string[0]\n",
    "    return flString"
   ]
  },
  {
   "cell_type": "code",
   "execution_count": 44,
   "metadata": {},
   "outputs": [
    {
     "name": "stdout",
     "output_type": "stream",
     "text": [
      "HHRGGF\n"
     ]
    }
   ],
   "source": [
    "# Expected value of func_output is \"HHRGGF\"\n",
    "func_output = firstLetters([\"Harry\", \"Hermione\", \"Ron\", \"Ginny\", \"George\", \"Fred\"])\n",
    "print(func_output)"
   ]
  },
  {
   "cell_type": "code",
   "execution_count": 4,
   "metadata": {},
   "outputs": [],
   "source": [
    "# Is this the right order?\n",
    "# Goal: Given a number myNum, return whether or not a sum (from 0 to & including myNum) is even or odd\n",
    "# Example: calling oddOrEvenSum(2) would print \"The total 3 is odd\"\n",
    "def oddOrEvenSum(myNum):\n",
    "    mySum = 0\n",
    "    if (mySum % 2 == 0):\n",
    "        for n in range(0,myNum+1):\n",
    "            mySum = mySum + n\n",
    "        print(\"The total \" + str(mySum) + \" is even\")\n",
    "    else:\n",
    "        print(\"The total \" + str(mySum) + \" is odd\")\n"
   ]
  },
  {
   "cell_type": "code",
   "execution_count": 5,
   "metadata": {},
   "outputs": [
    {
     "name": "stdout",
     "output_type": "stream",
     "text": [
      "The total 15 is even\n"
     ]
    }
   ],
   "source": [
    "# Expected print will be \"The total 15 is odd\"\n",
    "oddOrEvenSum(5)"
   ]
  },
  {
   "cell_type": "code",
   "execution_count": 6,
   "metadata": {},
   "outputs": [],
   "source": [
    "# Why doesn't this list work the way I want\n",
    "# Goal: return the index position of item if found. If not, return -1\n",
    "def findThing(listOfThings, thing):\n",
    "    for position in range(0, len(listOfThings)):\n",
    "        if (position == thing):\n",
    "            return position\n",
    "    return -1"
   ]
  },
  {
   "cell_type": "code",
   "execution_count": 7,
   "metadata": {},
   "outputs": [
    {
     "name": "stdout",
     "output_type": "stream",
     "text": [
      "Index of 3\n",
      "3\n"
     ]
    }
   ],
   "source": [
    "# Expected value of threeIndex is 0, since 3 is first item in list.\n",
    "threeIndex = findThing([3,\"Hello\", False, \"World\"], 3)\n",
    "print(\"Index of 3\")\n",
    "print(threeIndex)"
   ]
  },
  {
   "cell_type": "code",
   "execution_count": 8,
   "metadata": {},
   "outputs": [
    {
     "name": "stdout",
     "output_type": "stream",
     "text": [
      "Index of 4\n",
      "4\n"
     ]
    }
   ],
   "source": [
    "# Expected value of fourIndex is -1 because 4 is not in the list\n",
    "fourIndex = findThing([\"This\", \"is\", \"a\", \"list\", \"of\", \"strings\"], 4)\n",
    "print(\"Index of 4\")\n",
    "print(fourIndex)"
   ]
  },
  {
   "cell_type": "code",
   "execution_count": 9,
   "metadata": {},
   "outputs": [
    {
     "name": "stdout",
     "output_type": "stream",
     "text": [
      "Index of cat\n",
      "-1\n"
     ]
    }
   ],
   "source": [
    "# Expected value of catIndex is 3 because cat is the fourth item in list\n",
    "catIndex = findThing([\"dog\", \"frog\", \"rat\", \"cat\", \"owl\"], \"cat\")\n",
    "print(\"Index of cat\")\n",
    "print(catIndex)"
   ]
  },
  {
   "cell_type": "markdown",
   "metadata": {},
   "source": [
    "### Challenge Problems\n",
    "If you want a challenge and extra practice debugging logical errors"
   ]
  },
  {
   "cell_type": "code",
   "execution_count": 10,
   "metadata": {},
   "outputs": [],
   "source": [
    "# Why is it printing only first and second item?\n",
    "# Goal: Print every item in the list starting with the first \n",
    "# (i.e. print items with even indices)\n",
    "def printEveryOther(listOfThings):\n",
    "    for position in range(0, len(listOfThings)):\n",
    "        print(listOfThings[position % 2])"
   ]
  },
  {
   "cell_type": "code",
   "execution_count": 11,
   "metadata": {},
   "outputs": [
    {
     "name": "stdout",
     "output_type": "stream",
     "text": [
      "cat\n",
      "dog\n",
      "cat\n",
      "dog\n",
      "cat\n",
      "dog\n",
      "cat\n",
      "dog\n"
     ]
    }
   ],
   "source": [
    "# Expected to print\n",
    "# cat\n",
    "# magic\n",
    "# wand\n",
    "# dragon\n",
    "printEveryOther([\"cat\", \"dog\", \"magic\", \"owl\", \"wand\", \"rat\", \"dragon\", \"werewolf\"])"
   ]
  },
  {
   "cell_type": "code",
   "execution_count": 12,
   "metadata": {},
   "outputs": [],
   "source": [
    "# Bonus bug. For those you want a challenge\n",
    "# Goal: given a list, an index, and an item. Add the item at the index into the list\n",
    "def addThing(listOfThings, index, newThing):\n",
    "    for thing in listOfThings:\n",
    "        listOfThings.insert(index, newThing)\n",
    "    return listOfThings"
   ]
  },
  {
   "cell_type": "code",
   "execution_count": 13,
   "metadata": {},
   "outputs": [
    {
     "ename": "KeyboardInterrupt",
     "evalue": "",
     "output_type": "error",
     "traceback": [
      "\u001b[0;31m---------------------------------------------------------------------------\u001b[0m",
      "\u001b[0;31mKeyboardInterrupt\u001b[0m                         Traceback (most recent call last)",
      "\u001b[0;32m<ipython-input-13-b4e772e10cd2>\u001b[0m in \u001b[0;36m<module>\u001b[0;34m()\u001b[0m\n\u001b[1;32m      1\u001b[0m \u001b[0;31m# Expected value of newList is [\"Aang\", \"Katara\", \"Sokka\", \"Toph\", \"Zuko\"]\u001b[0m\u001b[0;34m\u001b[0m\u001b[0;34m\u001b[0m\u001b[0;34m\u001b[0m\u001b[0m\n\u001b[0;32m----> 2\u001b[0;31m \u001b[0mnewList\u001b[0m \u001b[0;34m=\u001b[0m \u001b[0maddThing\u001b[0m\u001b[0;34m(\u001b[0m\u001b[0;34m[\u001b[0m\u001b[0;34m\"Aang\"\u001b[0m\u001b[0;34m,\u001b[0m \u001b[0;34m\"Katara\"\u001b[0m\u001b[0;34m,\u001b[0m \u001b[0;34m\"Toph\"\u001b[0m\u001b[0;34m,\u001b[0m \u001b[0;34m\"Zuko\"\u001b[0m\u001b[0;34m]\u001b[0m\u001b[0;34m,\u001b[0m \u001b[0;36m2\u001b[0m\u001b[0;34m,\u001b[0m \u001b[0;34m\"Sokka\"\u001b[0m\u001b[0;34m)\u001b[0m\u001b[0;34m\u001b[0m\u001b[0;34m\u001b[0m\u001b[0m\n\u001b[0m\u001b[1;32m      3\u001b[0m \u001b[0mprint\u001b[0m\u001b[0;34m(\u001b[0m\u001b[0mnewList\u001b[0m\u001b[0;34m)\u001b[0m\u001b[0;34m\u001b[0m\u001b[0;34m\u001b[0m\u001b[0m\n",
      "\u001b[0;32m<ipython-input-12-e70c2d09cf90>\u001b[0m in \u001b[0;36maddThing\u001b[0;34m(listOfThings, index, newThing)\u001b[0m\n\u001b[1;32m      3\u001b[0m \u001b[0;32mdef\u001b[0m \u001b[0maddThing\u001b[0m\u001b[0;34m(\u001b[0m\u001b[0mlistOfThings\u001b[0m\u001b[0;34m,\u001b[0m \u001b[0mindex\u001b[0m\u001b[0;34m,\u001b[0m \u001b[0mnewThing\u001b[0m\u001b[0;34m)\u001b[0m\u001b[0;34m:\u001b[0m\u001b[0;34m\u001b[0m\u001b[0;34m\u001b[0m\u001b[0m\n\u001b[1;32m      4\u001b[0m     \u001b[0;32mfor\u001b[0m \u001b[0mthing\u001b[0m \u001b[0;32min\u001b[0m \u001b[0mlistOfThings\u001b[0m\u001b[0;34m:\u001b[0m\u001b[0;34m\u001b[0m\u001b[0;34m\u001b[0m\u001b[0m\n\u001b[0;32m----> 5\u001b[0;31m         \u001b[0mlistOfThings\u001b[0m\u001b[0;34m.\u001b[0m\u001b[0minsert\u001b[0m\u001b[0;34m(\u001b[0m\u001b[0mindex\u001b[0m\u001b[0;34m,\u001b[0m \u001b[0mnewThing\u001b[0m\u001b[0;34m)\u001b[0m\u001b[0;34m\u001b[0m\u001b[0;34m\u001b[0m\u001b[0m\n\u001b[0m\u001b[1;32m      6\u001b[0m     \u001b[0;32mreturn\u001b[0m \u001b[0mlistOfThings\u001b[0m\u001b[0;34m\u001b[0m\u001b[0;34m\u001b[0m\u001b[0m\n",
      "\u001b[0;31mKeyboardInterrupt\u001b[0m: "
     ]
    }
   ],
   "source": [
    "# Expected value of newList is [\"Aang\", \"Katara\", \"Sokka\", \"Toph\", \"Zuko\"]\n",
    "# But if you run this, it will go on forever and you have to hit the stop button.\n",
    "newList = addThing([\"Aang\", \"Katara\", \"Toph\", \"Zuko\"], 2, \"Sokka\")\n",
    "print(newList)"
   ]
  }
 ],
 "metadata": {
  "kernelspec": {
   "display_name": "Python 3",
   "language": "python",
   "name": "python3"
  },
  "language_info": {
   "codemirror_mode": {
    "name": "ipython",
    "version": 3
   },
   "file_extension": ".py",
   "mimetype": "text/x-python",
   "name": "python",
   "nbconvert_exporter": "python",
   "pygments_lexer": "ipython3",
   "version": "3.7.3"
  }
 },
 "nbformat": 4,
 "nbformat_minor": 2
}
