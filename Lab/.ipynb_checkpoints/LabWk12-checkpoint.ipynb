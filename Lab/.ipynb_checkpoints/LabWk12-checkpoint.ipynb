{
 "cells": [
  {
   "cell_type": "code",
   "execution_count": null,
   "metadata": {},
   "outputs": [],
   "source": [
    "# Goal: write the stuff from the list into the file on separate lines\n",
    "def writeListToFile(fileName, listOfStuff):\n",
    "    # fileName  (string) is the name of the file we are writing to listOfStuff (liist of anything)\n",
    "    # and is what we are writing to the file\n",
    "    \n",
    "    # open the file using fileName for writing (i.e. mode 'w')\n",
    "    \n",
    "    # go through each item in the listOfStuff\n",
    "        # write the item to the file (cast to string, str(item))\n",
    "        # write the newline character so the next item is on a new line\n",
    "        \n",
    "    # close file"
   ]
  }
 ],
 "metadata": {
  "kernelspec": {
   "display_name": "Python 3",
   "language": "python",
   "name": "python3"
  },
  "language_info": {
   "codemirror_mode": {
    "name": "ipython",
    "version": 3
   },
   "file_extension": ".py",
   "mimetype": "text/x-python",
   "name": "python",
   "nbconvert_exporter": "python",
   "pygments_lexer": "ipython3",
   "version": "3.7.3"
  }
 },
 "nbformat": 4,
 "nbformat_minor": 2
}
