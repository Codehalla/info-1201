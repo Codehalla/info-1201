{
 "cells": [
  {
   "cell_type": "code",
   "execution_count": 5,
   "metadata": {},
   "outputs": [
    {
     "ename": "SyntaxError",
     "evalue": "unexpected EOF while parsing (<ipython-input-5-a5c2a54fb039>, line 8)",
     "output_type": "error",
     "traceback": [
      "\u001b[1;36m  File \u001b[1;32m\"<ipython-input-5-a5c2a54fb039>\"\u001b[1;36m, line \u001b[1;32m8\u001b[0m\n\u001b[1;33m    # print the number\u001b[0m\n\u001b[1;37m                      ^\u001b[0m\n\u001b[1;31mSyntaxError\u001b[0m\u001b[1;31m:\u001b[0m unexpected EOF while parsing\n"
     ]
    }
   ],
   "source": [
    "# Go through the numbers including and between startNum and endNum\n",
    "for i in range(startNum, endNum, divisor):\n",
    "    # find out if the current number modulo he divisor is 0\n",
    "    # then it is evenly divisible\n",
    "        # if yes, print he phrase \"WUBBA LUBBA DUB DUB!\"\n",
    "    # otherwise,\n",
    "    # i.e. when not divisible by the divisor\n",
    "        # print the number\n"
   ]
  },
  {
   "cell_type": "code",
   "execution_count": 28,
   "metadata": {},
   "outputs": [
    {
     "name": "stdout",
     "output_type": "stream",
     "text": [
      "We made a function\n"
     ]
    }
   ],
   "source": [
    "# LAB PROBLEM 2\n",
    "\n",
    "\n",
    "def snacksAndDrinks(snack, drink, X):\n",
    "    # Our goal is to write & print two strings, one with snack written x times, and the other with our drink\n",
    "    # written 2x times\n",
    "    \n",
    "    # snack is a string telling us the snack\n",
    "    # drink is a string telling us the drink\n",
    "    # X is a number telling us how many times to add the snack/drink to our strings\n",
    "    \n",
    "    # we need to have our ending strings defined as empty strings first \n",
    "    # We use the empty strings because anything other strings plus the empty string equals the other string\n",
    "    # \"\" + \"Hello\"\n",
    "    \n",
    "    snackPhrase = \"\"\n",
    "    drinkPhrase = \"\"\n",
    "\n",
    "    for i in range(X):\n",
    "        # in the loop, we want to add snack to the snackHouse\n",
    "        snackPhrase = snackPhrase + snack\n",
    "        # print the phrase after the loop so it only prints once and it prints after the loop runs\n",
    "    print(snackPhrase)\n",
    "    \n",
    "    for i in range(2 * X): \n",
    "        drinkPhrase = drinkPhrase + drink\n",
    "    print(drinkPhrase)\n",
    "print(\"We made a function\")"
   ]
  },
  {
   "cell_type": "code",
   "execution_count": 29,
   "metadata": {},
   "outputs": [
    {
     "name": "stdout",
     "output_type": "stream",
     "text": [
      "chipschipschipschipschips\n",
      "drinksdrinksdrinksdrinksdrinksdrinksdrinksdrinksdrinksdrinks\n"
     ]
    }
   ],
   "source": [
    "snacksAndDrinks(\"chips\", \"drinks\", 5)"
   ]
  },
  {
   "cell_type": "code",
   "execution_count": null,
   "metadata": {},
   "outputs": [],
   "source": []
  },
  {
   "cell_type": "code",
   "execution_count": null,
   "metadata": {},
   "outputs": [],
   "source": []
  }
 ],
 "metadata": {
  "kernelspec": {
   "display_name": "Python 3",
   "language": "python",
   "name": "python3"
  },
  "language_info": {
   "codemirror_mode": {
    "name": "ipython",
    "version": 3
   },
   "file_extension": ".py",
   "mimetype": "text/x-python",
   "name": "python",
   "nbconvert_exporter": "python",
   "pygments_lexer": "ipython3",
   "version": "3.7.3"
  }
 },
 "nbformat": 4,
 "nbformat_minor": 2
}
