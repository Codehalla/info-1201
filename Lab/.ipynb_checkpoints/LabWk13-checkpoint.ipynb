{
 "cells": [
  {
   "cell_type": "code",
   "execution_count": 2,
   "metadata": {},
   "outputs": [
    {
     "ename": "FileNotFoundError",
     "evalue": "[Errno 2] No such file or directory: 'exampleNotFound.txt'",
     "output_type": "error",
     "traceback": [
      "\u001b[1;31m---------------------------------------------------------------------------\u001b[0m",
      "\u001b[1;31mFileNotFoundError\u001b[0m                         Traceback (most recent call last)",
      "\u001b[1;32m<ipython-input-2-243c3feb340d>\u001b[0m in \u001b[0;36m<module>\u001b[1;34m\u001b[0m\n\u001b[0;32m      1\u001b[0m \u001b[1;31m# if the file name is not connected to a file in the folder you are working in\u001b[0m\u001b[1;33m\u001b[0m\u001b[1;33m\u001b[0m\u001b[1;33m\u001b[0m\u001b[0m\n\u001b[0;32m      2\u001b[0m \u001b[0mfileName\u001b[0m \u001b[1;33m=\u001b[0m \u001b[1;34m'exampleNotFound.txt'\u001b[0m\u001b[1;33m\u001b[0m\u001b[1;33m\u001b[0m\u001b[0m\n\u001b[1;32m----> 3\u001b[1;33m \u001b[0mfile\u001b[0m \u001b[1;33m=\u001b[0m \u001b[0mopen\u001b[0m\u001b[1;33m(\u001b[0m\u001b[0mfileName\u001b[0m\u001b[1;33m,\u001b[0m \u001b[1;34m'r'\u001b[0m\u001b[1;33m)\u001b[0m\u001b[1;33m\u001b[0m\u001b[1;33m\u001b[0m\u001b[0m\n\u001b[0m\u001b[0;32m      4\u001b[0m \u001b[0mfile\u001b[0m\u001b[1;33m.\u001b[0m\u001b[0mclose\u001b[0m\u001b[1;33m(\u001b[0m\u001b[1;33m)\u001b[0m\u001b[1;33m\u001b[0m\u001b[1;33m\u001b[0m\u001b[0m\n\u001b[0;32m      5\u001b[0m \u001b[1;33m\u001b[0m\u001b[0m\n",
      "\u001b[1;31mFileNotFoundError\u001b[0m: [Errno 2] No such file or directory: 'exampleNotFound.txt'"
     ]
    }
   ],
   "source": [
    "# if the file name is not connected to a file in the folder you are working in\n",
    "fileName = 'exampleNotFound.txt'\n",
    "file = open(fileName, 'r')\n",
    "file.close()\n",
    "\n",
    "# File is in the wrong folder, it doesn't exist, or it is named slightly differently\n",
    "\n",
    "# AllBeatlesLyrics exist to us but does not exist to the computer because of the improper address"
   ]
  },
  {
   "cell_type": "code",
   "execution_count": 4,
   "metadata": {},
   "outputs": [
    {
     "name": "stdout",
     "output_type": "stream",
     "text": [
      "<_io.TextIOWrapper name='example.txt' mode='r' encoding='cp1252'>\n"
     ]
    }
   ],
   "source": [
    "fileName = 'example.txt'\n",
    "file = open(fileName, 'r')\n",
    "print(file)\n",
    "file.close()\n"
   ]
  },
  {
   "cell_type": "code",
   "execution_count": 5,
   "metadata": {},
   "outputs": [
    {
     "name": "stdout",
     "output_type": "stream",
     "text": [
      "First Content: Line 1,\n",
      "2nd Line.\n",
      "Third Line!\n",
      "Line 4?\n",
      "Line 5;\n",
      "Second Content: \n",
      "<_io.TextIOWrapper name='example.txt' mode='r' encoding='cp1252'>\n"
     ]
    }
   ],
   "source": [
    "# .read() reads from the cuurent position the file handler is at to the end of the file note, \n",
    "# if you just open the file, it will read the archive file\n",
    "\n",
    "fileName = 'example.txt'\n",
    "file = open(fileName, 'r')\n",
    "contentFirst = file.read()\n",
    "\n",
    "# .read() was already used and read the first content, thus nothing will be printed for the second\n",
    "contentSecond = file.read()\n",
    "\n",
    "print(\"First Content: \" + contentFirst)\n",
    "print('Second Content: ' + contentSecond)\n",
    "print(file)\n",
    "file.close()\n"
   ]
  },
  {
   "cell_type": "code",
   "execution_count": 7,
   "metadata": {},
   "outputs": [
    {
     "name": "stdout",
     "output_type": "stream",
     "text": [
      "firstLine: Line 1,\n",
      "\n",
      "secondLine: 2nd Line.\n",
      "\n"
     ]
    }
   ],
   "source": [
    "# .readline()\n",
    "    # Will keep the newline(\\n) character\n",
    "    # All contents will be returned as a string\n",
    "    \n",
    "fileName = 'example.txt'\n",
    "file = open(fileName, 'r')\n",
    "\n",
    "firstLine = file.readline()\n",
    "secondLine = file.readline()\n",
    "\n",
    "print(\"firstLine: \" + firstLine)\n",
    "print(\"secondLine: \"+ secondLine)\n",
    "file.close()\n"
   ]
  },
  {
   "cell_type": "code",
   "execution_count": 11,
   "metadata": {},
   "outputs": [
    {
     "name": "stdout",
     "output_type": "stream",
     "text": [
      "firstLine: \n",
      "['Line 1,\\n', '2nd Line.\\n', 'Third Line!\\n', 'Line 4?\\n', 'Line 5;']\n"
     ]
    }
   ],
   "source": [
    "# .readlines()\n",
    "    # puts each string(each line) into a list\n",
    "    # Newline(\\n) character still exist\n",
    "fileName = 'example.txt'\n",
    "file = open(fileName, 'r')\n",
    "\n",
    "firstLine = file.readlines()\n",
    "\n",
    "print(\"firstLine: \")\n",
    "print(firstLine)\n",
    "\n",
    "file.close()"
   ]
  },
  {
   "cell_type": "code",
   "execution_count": 15,
   "metadata": {},
   "outputs": [
    {
     "name": "stdout",
     "output_type": "stream",
     "text": [
      "Line 1,\n",
      "2nd Line.\n",
      "Third Line!\n",
      "Line 4?\n",
      "Line 5;\n",
      "\n",
      "['Line 1,', '2nd Line.', 'Third Line!', 'Line 4?', 'Line 5;']\n"
     ]
    }
   ],
   "source": [
    "# .splitlines()\n",
    "    # Used for a string\n",
    "    # spilts strings at the newline character(\\n)\n",
    "    # return string into A LIST OF STRINGS\n",
    "    # There is no newline Character\n",
    "\n",
    "fileName = 'example.txt'\n",
    "file = open(fileName, 'r')\n",
    "allTheContents = file.read()\n",
    "print(allTheContents)\n",
    "\n",
    "print()\n",
    "\n",
    "allTheLines = allTheContents.splitlines()\n",
    "print(allTheLines)\n",
    "\n",
    "file.close()"
   ]
  },
  {
   "cell_type": "code",
   "execution_count": 17,
   "metadata": {},
   "outputs": [
    {
     "name": "stdout",
     "output_type": "stream",
     "text": [
      "All the words in the file: \n",
      "['Line', '1,', '2nd', 'Line.', 'Third', 'Line!', 'Line', '4?', 'Line', '5;']\n"
     ]
    }
   ],
   "source": [
    "# .split()\n",
    "    # with no parameter .split will split strings at their whitespace\n",
    "    # but if there is a parameter such as ,',', 'asd', '1', '!'. .split will split at these\n",
    "    # parameters\n",
    "    # returns a list of strings, which is  a list of words\n",
    "    \n",
    "fileName = 'example.txt'\n",
    "file = open(fileName, 'r')\n",
    "\n",
    "contents = file.read()\n",
    "\n",
    "file.close()\n",
    "\n",
    "listOfWords = contents.split()\n",
    "print(\"All the words in the file: \")\n",
    "print(listOfWords)\n",
    "file.close()"
   ]
  },
  {
   "cell_type": "code",
   "execution_count": null,
   "metadata": {},
   "outputs": [],
   "source": []
  }
 ],
 "metadata": {
  "kernelspec": {
   "display_name": "Python 3",
   "language": "python",
   "name": "python3"
  },
  "language_info": {
   "codemirror_mode": {
    "name": "ipython",
    "version": 3
   },
   "file_extension": ".py",
   "mimetype": "text/x-python",
   "name": "python",
   "nbconvert_exporter": "python",
   "pygments_lexer": "ipython3",
   "version": "3.7.3"
  }
 },
 "nbformat": 4,
 "nbformat_minor": 2
}
