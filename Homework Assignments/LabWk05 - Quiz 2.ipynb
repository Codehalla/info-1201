{
 "cells": [
  {
   "cell_type": "code",
   "execution_count": 22,
   "metadata": {},
   "outputs": [],
   "source": [
    "# PROBLEM 1\n",
    "# Goal: to determine if both friends are 21 or older to drink\n",
    "# What do we know: my_age and my_friend_age, you need to be at least 21 to drink; otherwise, they can drink coca-cola\n",
    "# What do we need to find out: is my_age and my_friend_age is greater than or equal to 21\n",
    "# print, return, or both: print\n",
    "\n",
    "def AtTheBar(my_age, my_friend_age):\n",
    "    # Determine if both people are 21 so they can drink  \n",
    "    # OPTION 1 - see if they are 21\n",
    "        # Check to see if my age and friend's age are both at least 21\n",
    "            # if yes, print \"Cheers!\"\n",
    "            # otherwise, print \"let's go get Coca-Cola!\"\n",
    "    if (my_age >= 21 and my_friend_age >= 21):\n",
    "        print(\"Cheers!\")\n",
    "    else:\n",
    "        print(\"Let's go get Coca-Cola!\")\n",
    "\n",
    "        \n"
   ]
  },
  {
   "cell_type": "code",
   "execution_count": 23,
   "metadata": {},
   "outputs": [
    {
     "name": "stdout",
     "output_type": "stream",
     "text": [
      "Let's go get Coca-Cola!\n"
     ]
    }
   ],
   "source": [
    "AtTheBar(21,20)"
   ]
  },
  {
   "cell_type": "code",
   "execution_count": 12,
   "metadata": {},
   "outputs": [],
   "source": [
    "# OPTION 2 - For the problem AtTheBar\n",
    "    # OPTION 2 - see if one or the other is under 21\n",
    "        # Check to see if my age and friend's age is under 21\n",
    "            # if yes, print \"let's go get Coca-Cola!\"\n",
    "            # otherwise, print \"Cheers!\"\n",
    "\n",
    "def AtTheBar(my_age, my_friend_age):\n",
    "    if (my_age < 21 or my_friend_age < 21):\n",
    "        print(\"Let's go get Coca-Cola!\")\n",
    "    else:\n",
    "        print(\"Cheers!\")"
   ]
  },
  {
   "cell_type": "code",
   "execution_count": 16,
   "metadata": {},
   "outputs": [
    {
     "name": "stdout",
     "output_type": "stream",
     "text": [
      "What is your age? 20\n",
      "What is your friend's age? 9\n",
      "Let's go get Coca-Cola!\n"
     ]
    }
   ],
   "source": [
    "x = int(input(\"What is your age? \"))\n",
    "y = int(input(\"What is your friend's age? \"))\n",
    "\n",
    "AtTheBar(x,y)"
   ]
  },
  {
   "cell_type": "code",
   "execution_count": null,
   "metadata": {},
   "outputs": [],
   "source": []
  },
  {
   "cell_type": "code",
   "execution_count": null,
   "metadata": {},
   "outputs": [],
   "source": []
  },
  {
   "cell_type": "code",
   "execution_count": 18,
   "metadata": {},
   "outputs": [],
   "source": [
    "# PROBLEM 2 - WAGE CALCULATIONS\n",
    "def calcWeeklyWages(totalHours, hourlyWage):\n",
    "    if (totalHours <= 40):\n",
    "        payWithoutOvertime = totalHours * hourlyWage\n",
    "        print(payWithoutOvertime)\n",
    "    else:\n",
    "        overtimePay = (totalHours - 40) * (2*hourlyWage)\n",
    "        normalPay = 40 * hourlyWage\n",
    "        payWithOvertime = overtimePay + normalPay\n",
    "        print(payWithOvertime)"
   ]
  },
  {
   "cell_type": "code",
   "execution_count": 15,
   "metadata": {},
   "outputs": [
    {
     "name": "stdout",
     "output_type": "stream",
     "text": [
      "42\n"
     ]
    }
   ],
   "source": [
    "calcWeeklyWages(41, 1)"
   ]
  },
  {
   "cell_type": "code",
   "execution_count": null,
   "metadata": {},
   "outputs": [],
   "source": []
  }
 ],
 "metadata": {
  "kernelspec": {
   "display_name": "Python 3",
   "language": "python",
   "name": "python3"
  },
  "language_info": {
   "codemirror_mode": {
    "name": "ipython",
    "version": 3
   },
   "file_extension": ".py",
   "mimetype": "text/x-python",
   "name": "python",
   "nbconvert_exporter": "python",
   "pygments_lexer": "ipython3",
   "version": "3.7.3"
  }
 },
 "nbformat": 4,
 "nbformat_minor": 2
}
