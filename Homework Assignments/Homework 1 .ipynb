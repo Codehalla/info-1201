{
 "cells": [
  {
   "cell_type": "code",
   "execution_count": null,
   "metadata": {},
   "outputs": [],
   "source": [
    "#What information is given to me?\n",
    "#what information must I find?\n",
    "#How should I display my answer? phrase, return, or both?"
   ]
  },
  {
   "cell_type": "code",
   "execution_count": null,
   "metadata": {},
   "outputs": [],
   "source": []
  },
  {
   "cell_type": "code",
   "execution_count": 2,
   "metadata": {},
   "outputs": [
    {
     "data": {
      "text/plain": [
       "12576859"
      ]
     },
     "execution_count": 2,
     "metadata": {},
     "output_type": "execute_result"
    }
   ],
   "source": [
    "#PROBLEM # 1\n",
    "#calc year to seconds\n",
    "    # a year equals 365 days\n",
    "    # a day equals 24 hours\n",
    "    # an hour equals 3600 sec\n",
    "conversion = 365*24*3600\n",
    "\n",
    "#calc number of births, deaths, and immigrants\n",
    "#rate of birth: one every 2 sec\n",
    "# What it's already winter?!\n",
    "births = conversion // 2\n",
    "\n",
    "#rate of death: one every 7 sec\n",
    "#Chicago: what every 7 seconds, gotta lower it!\n",
    "death = conversion // 7\n",
    "\n",
    "#rate of immigrants: one every 24 sec\n",
    "#America: Were still the land of opportunity\n",
    "immigrants = conversion // 24\n",
    "\n",
    "def calcUSPopulation(startPopulation):\n",
    "    newPopulation = startPopulation + births + immigrants - death\n",
    "    return newPopulation\n",
    "\n",
    "calcUSPopulation(1)"
   ]
  },
  {
   "cell_type": "code",
   "execution_count": 5,
   "metadata": {},
   "outputs": [
    {
     "name": "stdout",
     "output_type": "stream",
     "text": [
      "1000 is 1 kilograms and 0 grams\n"
     ]
    }
   ],
   "source": [
    "#PROBLEM # 2\n",
    "# 1 kg = 1000 g\n",
    "# Goal: find the number of kilograms in a given Weight and spit out remainder\n",
    "    # i.e. 5001 is 5 kg and 1 g\n",
    "    # i.e. 4123 is 4 kg and 123 g\n",
    "    # i.e. 1234 is 1 kg and 234 g\n",
    "#gramWeight is a parameter of the function calcGramsAndKg\n",
    "\n",
    "def calcGramsAndKg(gramWeight):\n",
    "    x = gramWeight // 1000        #<-- use floor division\n",
    "    y = gramWeight % 1000         #<-- use modulo\n",
    "    print(str(gramWeight) + ' is ' + str(x) + \" kilograms and \" + str(y) + \" grams\")\n",
    "\n",
    "calcGramsAndKg(1000)\n"
   ]
  },
  {
   "cell_type": "code",
   "execution_count": 2,
   "metadata": {},
   "outputs": [],
   "source": [
    "#PROBLEM # 3\n",
    "#conversion: celsius to fahrenheit\n",
    "#Conversion is still a problem, not even the pros can do it right. And that's why we can't get things into mars\n",
    "\n",
    "#use algebraic manipulation to solve for F in the problem c=(5/9)(F-32)\n",
    "#F = (c*(9/5))+32\n",
    "\n",
    "def calcFahrenheit(celsiusTemp):\n",
    "    fahrenheit = ((celsiusTemp*(9/5))+32)\n",
    "    return round(fahrenheit,2)\n"
   ]
  },
  {
   "cell_type": "code",
   "execution_count": 3,
   "metadata": {},
   "outputs": [
    {
     "data": {
      "text/plain": [
       "32.0"
      ]
     },
     "execution_count": 3,
     "metadata": {},
     "output_type": "execute_result"
    }
   ],
   "source": [
    "calcFahrenheit(0)"
   ]
  },
  {
   "cell_type": "code",
   "execution_count": null,
   "metadata": {},
   "outputs": [],
   "source": []
  }
 ],
 "metadata": {
  "kernelspec": {
   "display_name": "Python 3",
   "language": "python",
   "name": "python3"
  },
  "language_info": {
   "codemirror_mode": {
    "name": "ipython",
    "version": 3
   },
   "file_extension": ".py",
   "mimetype": "text/x-python",
   "name": "python",
   "nbconvert_exporter": "python",
   "pygments_lexer": "ipython3",
   "version": "3.7.4"
  }
 },
 "nbformat": 4,
 "nbformat_minor": 2
}
