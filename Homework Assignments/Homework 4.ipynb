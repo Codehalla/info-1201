{
 "cells": [
  {
   "cell_type": "code",
   "execution_count": 15,
   "metadata": {},
   "outputs": [],
   "source": [
    "listOfStrings = [\"Luke Skywalker\", \"Leia Organa\", \"Han Solo\"]\n"
   ]
  },
  {
   "cell_type": "code",
   "execution_count": 16,
   "metadata": {},
   "outputs": [],
   "source": [
    "def printStringItems(listOfStrings):\n",
    "    for i in range(len(listOfStrings)):\n",
    "        print(listOfStrings[i])"
   ]
  },
  {
   "cell_type": "code",
   "execution_count": 14,
   "metadata": {},
   "outputs": [
    {
     "name": "stdout",
     "output_type": "stream",
     "text": [
      "Luke Skywalker\n",
      "Leia Organa\n",
      "Han Solo\n"
     ]
    }
   ],
   "source": [
    "printStringItems(listOfStrings)"
   ]
  },
  {
   "cell_type": "code",
   "execution_count": null,
   "metadata": {},
   "outputs": [],
   "source": [
    "\n"
   ]
  },
  {
   "cell_type": "code",
   "execution_count": null,
   "metadata": {},
   "outputs": [],
   "source": []
  },
  {
   "cell_type": "code",
   "execution_count": 22,
   "metadata": {},
   "outputs": [],
   "source": [
    "def printItemAtIndex(listOfThings, thingIndex):\n",
    "    print(listOfThings[thingIndex])"
   ]
  },
  {
   "cell_type": "code",
   "execution_count": 23,
   "metadata": {},
   "outputs": [],
   "source": [
    "listOfThings = [\"Baroness\", \"Mastodon\", \"Red Fang\", \"Telekinetic Yeti\"]"
   ]
  },
  {
   "cell_type": "code",
   "execution_count": 24,
   "metadata": {},
   "outputs": [
    {
     "name": "stdout",
     "output_type": "stream",
     "text": [
      "Red Fang\n"
     ]
    }
   ],
   "source": [
    "printItemAtIndex(listOfThings, 2)"
   ]
  },
  {
   "cell_type": "code",
   "execution_count": null,
   "metadata": {},
   "outputs": [],
   "source": []
  },
  {
   "cell_type": "code",
   "execution_count": 3,
   "metadata": {},
   "outputs": [],
   "source": [
    "def printOddOrEven(listOfThings):\n",
    "    if (len(listOfThings) % 2 == 0):\n",
    "        print(\"There is an even number of items in the list.\")\n",
    "    else:\n",
    "        print(\"There is an odd number of items in the list.\")\n",
    "            "
   ]
  },
  {
   "cell_type": "code",
   "execution_count": 26,
   "metadata": {},
   "outputs": [],
   "source": [
    "def printOddOrEven(listOfThings):\n",
    "    for i in range(len(listOfThings)):\n",
    "        if listOfThings[i] % 2 == 0:\n",
    "            print(\"There is an even number of items in the list.\")\n",
    "        else:\n",
    "            print(\"There is an odd number of items in the list.\")"
   ]
  },
  {
   "cell_type": "code",
   "execution_count": 27,
   "metadata": {},
   "outputs": [],
   "source": [
    "listOfThings = [0,1,2,3,4,5,6,7]"
   ]
  },
  {
   "cell_type": "code",
   "execution_count": 28,
   "metadata": {},
   "outputs": [
    {
     "name": "stdout",
     "output_type": "stream",
     "text": [
      "There is an even number of items in the list.\n",
      "There is an odd number of items in the list.\n",
      "There is an even number of items in the list.\n",
      "There is an odd number of items in the list.\n",
      "There is an even number of items in the list.\n",
      "There is an odd number of items in the list.\n",
      "There is an even number of items in the list.\n",
      "There is an odd number of items in the list.\n"
     ]
    }
   ],
   "source": [
    "printOddOrEven(listOfThings)"
   ]
  },
  {
   "cell_type": "code",
   "execution_count": null,
   "metadata": {},
   "outputs": [],
   "source": []
  },
  {
   "cell_type": "code",
   "execution_count": null,
   "metadata": {},
   "outputs": [],
   "source": []
  },
  {
   "cell_type": "code",
   "execution_count": 16,
   "metadata": {},
   "outputs": [],
   "source": [
    "listOfStrings = [\"Luke Skywalker\", \"Leia Organa\", \"Han Solo\", \"R2-D2\"]"
   ]
  },
  {
   "cell_type": "code",
   "execution_count": 2,
   "metadata": {},
   "outputs": [],
   "source": [
    "def countListCharacters(listOfStrings):\n",
    "    lengthOfString = 0\n",
    "    for i in range(len(listOfStrings)):\n",
    "        lengthOfString += len(listOfStrings[i])\n",
    "    return lengthOfString"
   ]
  },
  {
   "cell_type": "code",
   "execution_count": 18,
   "metadata": {},
   "outputs": [
    {
     "name": "stdout",
     "output_type": "stream",
     "text": [
      "38\n"
     ]
    }
   ],
   "source": [
    "countListCharacters(listOfStrings)"
   ]
  },
  {
   "cell_type": "code",
   "execution_count": null,
   "metadata": {},
   "outputs": [],
   "source": []
  }
 ],
 "metadata": {
  "kernelspec": {
   "display_name": "Python 3",
   "language": "python",
   "name": "python3"
  },
  "language_info": {
   "codemirror_mode": {
    "name": "ipython",
    "version": 3
   },
   "file_extension": ".py",
   "mimetype": "text/x-python",
   "name": "python",
   "nbconvert_exporter": "python",
   "pygments_lexer": "ipython3",
   "version": "3.7.3"
  }
 },
 "nbformat": 4,
 "nbformat_minor": 2
}
