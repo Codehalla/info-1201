{
 "cells": [
  {
   "cell_type": "code",
   "execution_count": 69,
   "metadata": {},
   "outputs": [],
   "source": [
    "def writeListToFile(fileName, listOfStuff):\n",
    "    fileHandler = open(fileName, 'a')\n",
    "    for i in range(0, len(listOfStuff)):\n",
    "        fileHandler.write(listOfStuff[i] + '\\n')\n",
    "    fileHandler.close()"
   ]
  },
  {
   "cell_type": "code",
   "execution_count": 70,
   "metadata": {},
   "outputs": [],
   "source": [
    "listOfStuff = ['apple','banana','strawberry','kiwi']\n",
    "writeListToFile('output.txt', listOfStuff)"
   ]
  },
  {
   "cell_type": "code",
   "execution_count": null,
   "metadata": {},
   "outputs": [],
   "source": []
  },
  {
   "cell_type": "code",
   "execution_count": null,
   "metadata": {},
   "outputs": [],
   "source": []
  },
  {
   "cell_type": "code",
   "execution_count": 76,
   "metadata": {},
   "outputs": [],
   "source": [
    "def calculateTestAverage(fileName):\n",
    "    import csv\n",
    "    fileHandler = open(fileName, 'r')\n",
    "    csvReader = csv.reader(fileHandler, delimiter=\",\")\n",
    "    next(csvReader)\n",
    "    \n",
    "    divisor = 0\n",
    "    dividend = 0\n",
    "    for row in csvReader:\n",
    "        divisor += 1\n",
    "        dividend += float(row[1])\n",
    "    print(dividend/divisor)\n",
    "    fileHandler.close()"
   ]
  },
  {
   "cell_type": "code",
   "execution_count": 77,
   "metadata": {},
   "outputs": [
    {
     "name": "stdout",
     "output_type": "stream",
     "text": [
      "77.5\n"
     ]
    }
   ],
   "source": [
    "calculateTestAverage('testscores.csv')"
   ]
  },
  {
   "cell_type": "code",
   "execution_count": null,
   "metadata": {},
   "outputs": [],
   "source": []
  },
  {
   "cell_type": "code",
   "execution_count": null,
   "metadata": {},
   "outputs": [],
   "source": []
  },
  {
   "cell_type": "code",
   "execution_count": 85,
   "metadata": {},
   "outputs": [],
   "source": [
    "def printAssocValue(fileName, searchString):\n",
    "    import csv\n",
    "    fileHandler = open(fileName, 'r')\n",
    "    csvReader = csv.reader(fileHandler, delimiter=\",\", quotechar='\"')\n",
    "    \n",
    "    # OMG I love the csv module\n",
    "    \n",
    "    for row in csvReader:\n",
    "        if (row[0] == searchString):\n",
    "            print(row[1])\n",
    "    fileHandler.close()"
   ]
  },
  {
   "cell_type": "code",
   "execution_count": 86,
   "metadata": {},
   "outputs": [
    {
     "name": "stdout",
     "output_type": "stream",
     "text": [
      "Carcosa\n",
      "Sputnik II\n",
      "Pumpkin Pi\n"
     ]
    }
   ],
   "source": [
    "printAssocValue('myFile.csv', 'Fuzz')"
   ]
  },
  {
   "cell_type": "code",
   "execution_count": null,
   "metadata": {},
   "outputs": [],
   "source": []
  },
  {
   "cell_type": "code",
   "execution_count": null,
   "metadata": {},
   "outputs": [],
   "source": []
  },
  {
   "cell_type": "code",
   "execution_count": 88,
   "metadata": {},
   "outputs": [],
   "source": [
    "def calculateTestScore(fileName, studentName):\n",
    "    import csv\n",
    "    fileHandler = open(fileName, 'r')\n",
    "    csvReader = csv.reader(fileHandler, delimiter=\",\")\n",
    "    next(csvReader)\n",
    "    \n",
    "    dividend = 0\n",
    "    divisor = 0\n",
    "    \n",
    "    for row in csvReader:\n",
    "        if (row[0] == studentName):\n",
    "            divisor += 1\n",
    "            dividend += float(row[1])\n",
    "    print(dividend/divisor)\n",
    "    fileHandler.close()\n",
    "            "
   ]
  },
  {
   "cell_type": "code",
   "execution_count": 89,
   "metadata": {},
   "outputs": [
    {
     "name": "stdout",
     "output_type": "stream",
     "text": [
      "91.0\n"
     ]
    }
   ],
   "source": [
    "calculateTestScore('studentData.csv', 'Mr. Meeseeks')"
   ]
  },
  {
   "cell_type": "code",
   "execution_count": null,
   "metadata": {},
   "outputs": [],
   "source": []
  }
 ],
 "metadata": {
  "kernelspec": {
   "display_name": "Python 3",
   "language": "python",
   "name": "python3"
  },
  "language_info": {
   "codemirror_mode": {
    "name": "ipython",
    "version": 3
   },
   "file_extension": ".py",
   "mimetype": "text/x-python",
   "name": "python",
   "nbconvert_exporter": "python",
   "pygments_lexer": "ipython3",
   "version": "3.7.4"
  }
 },
 "nbformat": 4,
 "nbformat_minor": 2
}
