{
 "cells": [
  {
   "cell_type": "code",
   "execution_count": 1,
   "metadata": {},
   "outputs": [],
   "source": [
    "def addAThingToAList(listOfThings, thingToAdd):\n",
    "    listOfThings.append(thingToAdd)\n",
    "    print(listOfThings)"
   ]
  },
  {
   "cell_type": "code",
   "execution_count": 4,
   "metadata": {},
   "outputs": [
    {
     "name": "stdout",
     "output_type": "stream",
     "text": [
      "['Elder', 'Mantra Machine', 'Jagannatha', 'Gorm', 'Sageness']\n"
     ]
    }
   ],
   "source": [
    "listOfThings = [\"Elder\", \"Mantra Machine\", \"Jagannatha\", \"Gorm\"]\n",
    "addAThingToAList(listOfThings, \"Sageness\")"
   ]
  },
  {
   "cell_type": "code",
   "execution_count": null,
   "metadata": {},
   "outputs": [],
   "source": []
  },
  {
   "cell_type": "code",
   "execution_count": null,
   "metadata": {},
   "outputs": [],
   "source": []
  },
  {
   "cell_type": "code",
   "execution_count": 6,
   "metadata": {},
   "outputs": [],
   "source": [
    "def addToTheFrontOrBack(listOfThings, thingToAdd, addToFront):\n",
    "    if (addToFront == True):\n",
    "        listOfThings.insert(0, thingToAdd)\n",
    "        return listOfThings\n",
    "    elif (addToFront == False):\n",
    "        listOfThings.append(thingToAdd)\n",
    "        return listOfThings"
   ]
  },
  {
   "cell_type": "code",
   "execution_count": 8,
   "metadata": {},
   "outputs": [
    {
     "data": {
      "text/plain": [
       "['Fuzz', 'Phaser', 'Tremolo', 'Delay', 'Freeze', 'Wah']"
      ]
     },
     "execution_count": 8,
     "metadata": {},
     "output_type": "execute_result"
    }
   ],
   "source": [
    "listOfThings = [\"Fuzz\", \"Phaser\", \"Tremolo\", \"Delay\", \"Freeze\"]\n",
    "thingToAdd = \"Wah\"\n",
    "addToFront = False\n",
    "addToTheFrontOrBack(listOfThings, thingToAdd, addToFront)"
   ]
  },
  {
   "cell_type": "code",
   "execution_count": null,
   "metadata": {},
   "outputs": [],
   "source": []
  },
  {
   "cell_type": "code",
   "execution_count": null,
   "metadata": {},
   "outputs": [],
   "source": []
  },
  {
   "cell_type": "code",
   "execution_count": 13,
   "metadata": {},
   "outputs": [],
   "source": [
    "def returnLetterCount(aString, letterToFind):\n",
    "    letterCount = 0\n",
    "    for letter in aString:\n",
    "        if (letter in letterToFind):\n",
    "            letterCount += 1\n",
    "    return letterCount"
   ]
  },
  {
   "cell_type": "code",
   "execution_count": 15,
   "metadata": {},
   "outputs": [
    {
     "data": {
      "text/plain": [
       "3"
      ]
     },
     "execution_count": 15,
     "metadata": {},
     "output_type": "execute_result"
    }
   ],
   "source": [
    "aString = \"supercalifragilisticexpialidocious\"\n",
    "letterToFind = \"a\"\n",
    "returnLetterCount(aString,letterToFind)"
   ]
  },
  {
   "cell_type": "code",
   "execution_count": null,
   "metadata": {},
   "outputs": [],
   "source": []
  },
  {
   "cell_type": "code",
   "execution_count": null,
   "metadata": {},
   "outputs": [],
   "source": []
  },
  {
   "cell_type": "code",
   "execution_count": 18,
   "metadata": {},
   "outputs": [],
   "source": [
    "def printLetterCountInList(listOfStrings, letterToFind):\n",
    "    counter = 0\n",
    "    for word in listOfStrings:\n",
    "        for letter in word:\n",
    "            if (letter in letterToFind):\n",
    "                counter += 1\n",
    "    print(counter)"
   ]
  },
  {
   "cell_type": "code",
   "execution_count": 19,
   "metadata": {},
   "outputs": [
    {
     "name": "stdout",
     "output_type": "stream",
     "text": [
      "2\n"
     ]
    }
   ],
   "source": [
    "listOfThings = [\"Elder\", \"Mantra Machine\", \"Jagannatha\", \"Gorm\"]\n",
    "letterToFind = \"e\"\n",
    "printLetterCountInList(listOfThings, letterToFind)"
   ]
  },
  {
   "cell_type": "code",
   "execution_count": null,
   "metadata": {},
   "outputs": [],
   "source": []
  }
 ],
 "metadata": {
  "kernelspec": {
   "display_name": "Python 3",
   "language": "python",
   "name": "python3"
  },
  "language_info": {
   "codemirror_mode": {
    "name": "ipython",
    "version": 3
   },
   "file_extension": ".py",
   "mimetype": "text/x-python",
   "name": "python",
   "nbconvert_exporter": "python",
   "pygments_lexer": "ipython3",
   "version": "3.7.3"
  }
 },
 "nbformat": 4,
 "nbformat_minor": 2
}
