{
 "cells": [
  {
   "cell_type": "code",
   "execution_count": 2,
   "metadata": {},
   "outputs": [],
   "source": [
    "def deliverAd1(ownsDog):\n",
    "    if (ownsDog):\n",
    "        print(\"Dog Food Ad: Give your dog some good food. Or don't.w\")\n",
    "    else:\n",
    "        print(\"Ad: You should rent Bill and Ted's Excellent Adventure\")"
   ]
  },
  {
   "cell_type": "code",
   "execution_count": 1,
   "metadata": {},
   "outputs": [],
   "source": [
    "# Goal: Based off # of friends give out an ad with dog or cat\n",
    "# What do we know: 500+ get ad with dog, > 500 get ad with cat, numberOfFriends\n",
    "# What do we need to find out:\n",
    "# Print, Return, or Both: print\n",
    "\n",
    "def deliverAd2(numberOfFriends):\n",
    "    # based on # of friends, give out an ad with a dog or cat\n",
    "    # numberOfFriends is # of friends a user has\n",
    "    \n",
    "    # determine if number of friends is less than 500\n",
    "        # if yes, print \"Ad with Cat: FILL IN YOUR TEXT\"\n",
    "    # otherwise, when equal or greater to 500\n",
    "        # print \"Ad with dog: FILL IN YOUR TEXT\"\n",
    "    \n",
    "    # IF YOU WANTED TO ADD MORE DECISIONS INTO THE FUNCTION\n",
    "    # IN REPLACEMENT OF THE IF/ELSE PSEUDOCODE ABOVE\n",
    "    # if a person has less than 100 friends\n",
    "        # print \"Ad with cat: AD TEST ABOUT FAMILY + CAT\"\n",
    "    # otherwise if a person has less than 300 friends\n",
    "        # print \"Ad with cat: AD TEXT WITH CAT + HOUSEHOLD PRODUCT\"\n",
    "    # otherwise if a person has less than 1000\n",
    "        # print \"Ad with dog: FILL IN YOUR TEXT\"\n",
    "    if (numberOfFriends < 500):\n",
    "        print(\"Ad with Cat: Cat Cafe\")\n",
    "    elif (numberOfFriends >= 500):\n",
    "        print(\"Ad with Dog: Hot Diggy Dog\")"
   ]
  },
  {
   "cell_type": "code",
   "execution_count": 2,
   "metadata": {},
   "outputs": [
    {
     "name": "stdout",
     "output_type": "stream",
     "text": [
      "Ad with Cat: Cat Cafe\n"
     ]
    }
   ],
   "source": [
    "deliverAd2(250)"
   ]
  },
  {
   "cell_type": "code",
   "execution_count": 12,
   "metadata": {},
   "outputs": [],
   "source": [
    "def deliverAd3(zipcode, age):\n",
    "    if (zipcode >= 80301 and zipcode <= 80310 and age >= 25):\n",
    "        print(\"Expensive Product Ad: Boulder, home of the rich Coloradans\")\n",
    "    elif (zipcode >= 80301 and zipcode <= 80310 and age <= 25):\n",
    "        print(\"Cheap Product Ad: $1,000 a month the cheapest you'll get in Boulder\")\n",
    "    else:\n",
    "        print(\"Tourist Ad: We got the best food vendors and environment friendly\")"
   ]
  },
  {
   "cell_type": "code",
   "execution_count": 16,
   "metadata": {},
   "outputs": [
    {
     "name": "stdout",
     "output_type": "stream",
     "text": [
      "Cheap Product Ad: $1,000 a month the cheapest you'll get in Boulder\n"
     ]
    }
   ],
   "source": [
    "deliverAd3(80301, 5)"
   ]
  },
  {
   "cell_type": "code",
   "execution_count": null,
   "metadata": {},
   "outputs": [],
   "source": []
  },
  {
   "cell_type": "code",
   "execution_count": null,
   "metadata": {},
   "outputs": [],
   "source": []
  }
 ],
 "metadata": {
  "kernelspec": {
   "display_name": "Python 3",
   "language": "python",
   "name": "python3"
  },
  "language_info": {
   "codemirror_mode": {
    "name": "ipython",
    "version": 3
   },
   "file_extension": ".py",
   "mimetype": "text/x-python",
   "name": "python",
   "nbconvert_exporter": "python",
   "pygments_lexer": "ipython3",
   "version": "3.7.3"
  }
 },
 "nbformat": 4,
 "nbformat_minor": 2
}
