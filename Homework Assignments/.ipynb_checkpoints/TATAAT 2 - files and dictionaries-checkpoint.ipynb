{
 "cells": [
  {
   "cell_type": "code",
   "execution_count": 1,
   "metadata": {},
   "outputs": [],
   "source": [
    "# in real life, we read from data files instead of requesting data because it is faster and when\n",
    "# there's lots of data it's better to read from a file\n",
    "\n",
    "# To read from a file syntax\n",
    "# fileHandler = open('fileName', mode)  <-- This has no content\n",
    "    # There are 3 types of mode: 'read (r),' 'write (w),' 'append (a)'\n",
    "        # 'r' --> allows you to read from a file, but no edits can be done\n",
    "        # 'w' --> allows you to write into a file, but BE WARY EACH TIME IT NEEDS TO WRITE ANY \n",
    "            # EXISITING CONTENT WILL BE ERASED\n",
    "        # 'a' --> allows you to write into a function, but does not erase any existing content\n",
    "# To have content syntax\n",
    "    # fileContent = fileHandler.read()\n",
    "        # There are several call methods, when you want to read from a file\n",
    "            #.read() --> is a method that wil give you a string containing all of contents in a file\n",
    "            #.readline --> is a method that will read one line at a time from your file, including \n",
    "                # the newline character(\\n), tab charater(\\t), carriage return(\\r)\n",
    "            #.readlines --> is a method that will read all of the contents of the file, including any\n",
    "                # whitespace characters and when there's a new line a list will be created\n",
    "            # THERE ARE SO MANY OTHER METHODS\n",
    "                # .split() will split any string into a list and will split each word base on their \n",
    "                    # whitespace\n",
    "                # .splitlines() will split lines into list based on the newline character(\\n)\n",
    "        # There's another method when you chose write mode\n",
    "            # .write()\n",
    "        # when you want to appnd use\n",
    "            # .append()\n",
    "# Everything thats gets read from a file is always a string\n",
    "# What if I hate the newline character?\n",
    "    # we can use .rstrip()\n",
    "        # This will strip anything that is specified in the parentheses\n",
    "            # In this case it is the newline character --> .rstrip('\\n')\n",
    "# It is crucial that we close a file after opening it use .close()\n",
    "# To make files easier to read we can use modules, which are extentions of python but we have to\n",
    "    # import it first\n",
    "        # using import moduleName\n",
    "            #In this case it is\n",
    "                # import csv\n",
    "                # synax for csv reader\n",
    "                    # csvReader = csv.reader(fileName, delimiter=\"\", quotechar='')\n",
    "                        # if we just specif the fileName, csv will recognize the delimiter as a comma\n",
    "                            # quotechar as a double quote by default\n",
    "    # Files in many cases have several datas that are usually separated by a delimiter, most of the\n",
    "        # time it is a comma, but it can be anything else  such as |\\/\n",
    "    #-----------------------------------------------\n",
    "# Dictionary are used to create a key and store a value with the key\n",
    "# Dictionary syntax\n",
    "    # dictionaryName = {}\n",
    "        # empty dictionary\n",
    "    # dictionary = {'key': 'value'}\n",
    "# How to call a dictionary <-- has to be the exact key\n",
    "    # dictionaryName[key]\n",
    "# We can replace a key value by using\n",
    "    # dictionaryName[key] = value"
   ]
  }
 ],
 "metadata": {
  "kernelspec": {
   "display_name": "Python 3",
   "language": "python",
   "name": "python3"
  },
  "language_info": {
   "codemirror_mode": {
    "name": "ipython",
    "version": 3
   },
   "file_extension": ".py",
   "mimetype": "text/x-python",
   "name": "python",
   "nbconvert_exporter": "python",
   "pygments_lexer": "ipython3",
   "version": "3.7.3"
  }
 },
 "nbformat": 4,
 "nbformat_minor": 2
}
