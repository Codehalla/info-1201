{
 "cells": [
  {
   "cell_type": "code",
   "execution_count": 195,
   "metadata": {},
   "outputs": [],
   "source": [
    "def printNumLinesInFile(fileName):\n",
    "    count = 0\n",
    "    fileHandler = open(fileName, \"r\")\n",
    "    for line in fileHandler: \n",
    "        count += 1\n",
    "    print(count)"
   ]
  },
  {
   "cell_type": "code",
   "execution_count": 196,
   "metadata": {},
   "outputs": [
    {
     "name": "stdout",
     "output_type": "stream",
     "text": [
      "2\n"
     ]
    }
   ],
   "source": [
    "printNumLinesInFile(\"homework6.txt\")"
   ]
  },
  {
   "cell_type": "code",
   "execution_count": null,
   "metadata": {},
   "outputs": [],
   "source": []
  },
  {
   "cell_type": "code",
   "execution_count": null,
   "metadata": {},
   "outputs": [],
   "source": []
  },
  {
   "cell_type": "code",
   "execution_count": 154,
   "metadata": {},
   "outputs": [],
   "source": [
    "def printNumWordsInFile(fileName):\n",
    "    file = open(fileName, \"r\")\n",
    "    fileContent = file.read()\n",
    "    fileSplit = fileContent.split()\n",
    "    counter = 0\n",
    "    for word in fileSplit:\n",
    "        counter += 1\n",
    "    print(counter)"
   ]
  },
  {
   "cell_type": "code",
   "execution_count": 155,
   "metadata": {},
   "outputs": [
    {
     "name": "stdout",
     "output_type": "stream",
     "text": [
      "6\n"
     ]
    }
   ],
   "source": [
    "printNumWordsInFile(\"homework6.txt\")"
   ]
  },
  {
   "cell_type": "code",
   "execution_count": null,
   "metadata": {},
   "outputs": [],
   "source": []
  },
  {
   "cell_type": "code",
   "execution_count": null,
   "metadata": {},
   "outputs": [],
   "source": []
  },
  {
   "cell_type": "code",
   "execution_count": 152,
   "metadata": {},
   "outputs": [],
   "source": [
    "def processTweetFile(fileName):\n",
    "    fileHandler = open(fileName, \"r\")\n",
    "    fileContent = fileHandler.read()\n",
    "    fileSplit = fileContent.split()\n",
    "    counter = 0\n",
    "    for word in fileSplit:\n",
    "        if (\"#\" in word):\n",
    "            counter += 1\n",
    "    print(counter)\n",
    "    fileHandler.close()"
   ]
  },
  {
   "cell_type": "code",
   "execution_count": 153,
   "metadata": {},
   "outputs": [
    {
     "name": "stdout",
     "output_type": "stream",
     "text": [
      "1\n"
     ]
    }
   ],
   "source": [
    "processTweetFile(\"homework6.txt\")"
   ]
  },
  {
   "cell_type": "code",
   "execution_count": null,
   "metadata": {},
   "outputs": [],
   "source": []
  },
  {
   "cell_type": "code",
   "execution_count": null,
   "metadata": {},
   "outputs": [],
   "source": []
  },
  {
   "cell_type": "code",
   "execution_count": 6,
   "metadata": {},
   "outputs": [],
   "source": [
    "def processFiles(listOfFileNames):\n",
    "    counter = 0\n",
    "    for i in listOfFileNames:\n",
    "        fileHandler = open(i)\n",
    "        fileContent = fileHandler.read()\n",
    "        fileSpilt = fileContent.split()\n",
    "        for word in fileSpilt:\n",
    "            counter += 1\n",
    "    print(counter)\n",
    "    fileHandler.close()"
   ]
  },
  {
   "cell_type": "code",
   "execution_count": 7,
   "metadata": {},
   "outputs": [
    {
     "name": "stdout",
     "output_type": "stream",
     "text": [
      "5\n"
     ]
    }
   ],
   "source": [
    "listOfFileNames = [\"homework6.txt\", \"input1.txt\"]\n",
    "processFiles(listOfFileNames)"
   ]
  },
  {
   "cell_type": "code",
   "execution_count": 16,
   "metadata": {},
   "outputs": [],
   "source": [
    "def processFiles(listOfFileNames):\n",
    "    counter = 0\n",
    "    for i in listOfFileNames:\n",
    "        file = len(open(i).read().split())\n",
    "        counter += file\n",
    "    print(counter)"
   ]
  },
  {
   "cell_type": "code",
   "execution_count": 17,
   "metadata": {},
   "outputs": [
    {
     "name": "stdout",
     "output_type": "stream",
     "text": [
      "5\n"
     ]
    }
   ],
   "source": [
    "listOfFileNames = [\"homework6.txt\", \"input1.txt\"]\n",
    "processFiles(listOfFileNames)"
   ]
  },
  {
   "cell_type": "code",
   "execution_count": null,
   "metadata": {},
   "outputs": [],
   "source": []
  }
 ],
 "metadata": {
  "kernelspec": {
   "display_name": "Python 3",
   "language": "python",
   "name": "python3"
  },
  "language_info": {
   "codemirror_mode": {
    "name": "ipython",
    "version": 3
   },
   "file_extension": ".py",
   "mimetype": "text/x-python",
   "name": "python",
   "nbconvert_exporter": "python",
   "pygments_lexer": "ipython3",
   "version": "3.7.3"
  }
 },
 "nbformat": 4,
 "nbformat_minor": 2
}
