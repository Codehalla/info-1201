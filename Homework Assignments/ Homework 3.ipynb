{
 "cells": [
  {
   "cell_type": "code",
   "execution_count": 21,
   "metadata": {},
   "outputs": [],
   "source": [
    "def printNumbers(startNum, endNum, stepSize, includeEnd):\n",
    "    if (includeEnd == True):\n",
    "        for i in range(startNum, endNum + 1, stepSize):\n",
    "            print(i)\n",
    "    else:\n",
    "        for i in range(startNum, endNum, stepSize):\n",
    "            print(i)\n",
    "            \n",
    "        \n"
   ]
  },
  {
   "cell_type": "code",
   "execution_count": 22,
   "metadata": {},
   "outputs": [
    {
     "name": "stdout",
     "output_type": "stream",
     "text": [
      "1\n",
      "2\n",
      "3\n",
      "4\n"
     ]
    }
   ],
   "source": [
    "printNumbers(1,5,1,False)"
   ]
  },
  {
   "cell_type": "code",
   "execution_count": null,
   "metadata": {},
   "outputs": [],
   "source": []
  },
  {
   "cell_type": "code",
   "execution_count": 40,
   "metadata": {},
   "outputs": [],
   "source": [
    "def printSomeNumbers(startNum, endNum, divisor):\n",
    "    for i in range(startNum, endNum + 1):\n",
    "        if (i % int(divisor) == 0):\n",
    "            print(\"WUBBA LUBBA DUB DUB!\")\n",
    "        else:\n",
    "            print(i)\n",
    "        "
   ]
  },
  {
   "cell_type": "code",
   "execution_count": 41,
   "metadata": {},
   "outputs": [
    {
     "name": "stdout",
     "output_type": "stream",
     "text": [
      "WUBBA LUBBA DUB DUB!\n",
      "1\n",
      "WUBBA LUBBA DUB DUB!\n",
      "3\n"
     ]
    }
   ],
   "source": [
    "printSomeNumbers(0,3,2)"
   ]
  },
  {
   "cell_type": "code",
   "execution_count": null,
   "metadata": {},
   "outputs": [],
   "source": []
  },
  {
   "cell_type": "code",
   "execution_count": 68,
   "metadata": {},
   "outputs": [],
   "source": [
    "def isSumEven(startNum, endNum):\n",
    "    summation = 0\n",
    "    for i in range(startNum, endNum + 1):\n",
    "        summation = summation + i\n",
    "    if (summation % 2 == 0):\n",
    "        return True\n",
    "    else:\n",
    "        return False\n",
    "    "
   ]
  },
  {
   "cell_type": "code",
   "execution_count": 69,
   "metadata": {},
   "outputs": [
    {
     "data": {
      "text/plain": [
       "False"
      ]
     },
     "execution_count": 69,
     "metadata": {},
     "output_type": "execute_result"
    }
   ],
   "source": [
    "isSumEven(5,10)"
   ]
  },
  {
   "cell_type": "code",
   "execution_count": null,
   "metadata": {},
   "outputs": [],
   "source": []
  },
  {
   "cell_type": "code",
   "execution_count": 48,
   "metadata": {},
   "outputs": [],
   "source": [
    "def printNumbers(startNum, endNum, stepSize, includeEnd):\n",
    "    if (includeEnd == True):\n",
    "        for i in range(startNum, endNum + 1, stepSize):\n",
    "            print(i, end=\"\")\n",
    "    else:\n",
    "        for i in range(startNum, endNum, stepSize):\n",
    "            print(i, end=\"\")\n",
    "            # New to Python 3: end=\"\" is a delimiter\n",
    "                # We can add any character within the quotations of end=\"\".\n",
    "                # space, or no space, |?@#$% can be used\n",
    "                # A delimiter is a sequence of one or more characters for \n",
    "                # specifying the boundary between separate, independent regions in plain text \n",
    "                #or other data streams\n",
    "                # This delimiter does not print out new lines for i, but in one single line \n",
    "            \n",
    "        "
   ]
  },
  {
   "cell_type": "code",
   "execution_count": 50,
   "metadata": {},
   "outputs": [
    {
     "name": "stdout",
     "output_type": "stream",
     "text": [
      "10111213"
     ]
    }
   ],
   "source": [
    "printNumbers(10,13,1, True)"
   ]
  },
  {
   "cell_type": "code",
   "execution_count": 5,
   "metadata": {},
   "outputs": [],
   "source": [
    "# PROBLEM 4 WIH SRING CONCATENAION\n",
    "def printNumbers(startNum, endNum, stepSize, includeEnd):\n",
    "    concatenation = \"\"\n",
    "    if (includeEnd == True):\n",
    "        for i in range(startNum, endNum + 1, stepSize):\n",
    "            concatenation = concatenation + str(i)\n",
    "        print(concatenation)\n",
    "    else:\n",
    "        for i in range(startNum, endNum, stepSize):\n",
    "            concatenation = concatenation + str(i)\n",
    "        print(concatenation)\n",
    "\n",
    "            \n",
    "        "
   ]
  },
  {
   "cell_type": "code",
   "execution_count": 7,
   "metadata": {},
   "outputs": [
    {
     "name": "stdout",
     "output_type": "stream",
     "text": [
      "101112\n"
     ]
    }
   ],
   "source": [
    "printNumbers(10,13,1, False)"
   ]
  },
  {
   "cell_type": "code",
   "execution_count": null,
   "metadata": {},
   "outputs": [],
   "source": []
  }
 ],
 "metadata": {
  "kernelspec": {
   "display_name": "Python 3",
   "language": "python",
   "name": "python3"
  },
  "language_info": {
   "codemirror_mode": {
    "name": "ipython",
    "version": 3
   },
   "file_extension": ".py",
   "mimetype": "text/x-python",
   "name": "python",
   "nbconvert_exporter": "python",
   "pygments_lexer": "ipython3",
   "version": "3.7.3"
  }
 },
 "nbformat": 4,
 "nbformat_minor": 2
}
