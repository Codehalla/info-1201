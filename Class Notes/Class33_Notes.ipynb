{
 "cells": [
  {
   "cell_type": "code",
   "execution_count": 30,
   "metadata": {},
   "outputs": [],
   "source": [
    "# csv reader defaults from last time's clickers\n",
    "import csv\n",
    "myFile = open('RollingStoneAlbumList.csv', 'r')\n",
    "csvReader = csv.reader(myFile)\n",
    "# if  you do this, the defaults for the parameters we specified last time are as follows:\n",
    "# delimiter = \",\"\n",
    "# quotechar = '\"'\n",
    "# csvReader = csv.reader(myFile, delimiter=\",\", quotechar='\"')\n",
    "# if you don't specify delimiter and/or quotechar, csv.reader assumes the above values\n",
    "# for these parameters\n",
    "myFile.close()"
   ]
  },
  {
   "cell_type": "code",
   "execution_count": 31,
   "metadata": {},
   "outputs": [],
   "source": [
    "# dictionaries\n",
    "# What are dictionaries?\n",
    "# they are a data type similar to lists in that they can store multiple things \n",
    "# dictionaries store data in key/value pairs\n",
    "# the key is like an index that you can access directly"
   ]
  },
  {
   "cell_type": "code",
   "execution_count": 32,
   "metadata": {},
   "outputs": [],
   "source": [
    "albumDictionary  = {}  # this creates an empty dictionary\n",
    "# to add a key/value pair  to the dictionary, we do this:\n",
    "albumDictionary['The Beatles'] = 10 \n",
    "# dictionaryName[keyName] = value\n",
    "# this stores the key \"The Beatles\" with an associated value of 10"
   ]
  },
  {
   "cell_type": "code",
   "execution_count": 33,
   "metadata": {},
   "outputs": [
    {
     "name": "stdout",
     "output_type": "stream",
     "text": [
      "10\n"
     ]
    }
   ],
   "source": [
    "# to access the value associated with a key\n",
    "print(albumDictionary[\"The Beatles\"])\n",
    "# print(dictionaryName[keyName]) will print the value of keyName"
   ]
  },
  {
   "cell_type": "code",
   "execution_count": 34,
   "metadata": {},
   "outputs": [
    {
     "ename": "KeyError",
     "evalue": "'Beatles'",
     "output_type": "error",
     "traceback": [
      "\u001b[1;31m---------------------------------------------------------------------------\u001b[0m",
      "\u001b[1;31mKeyError\u001b[0m                                  Traceback (most recent call last)",
      "\u001b[1;32m<ipython-input-34-0369dcd14917>\u001b[0m in \u001b[0;36m<module>\u001b[1;34m\u001b[0m\n\u001b[1;32m----> 1\u001b[1;33m \u001b[0mprint\u001b[0m\u001b[1;33m(\u001b[0m\u001b[0malbumDictionary\u001b[0m\u001b[1;33m[\u001b[0m\u001b[1;34m'Beatles'\u001b[0m\u001b[1;33m]\u001b[0m\u001b[1;33m)\u001b[0m\u001b[1;33m\u001b[0m\u001b[1;33m\u001b[0m\u001b[0m\n\u001b[0m\u001b[0;32m      2\u001b[0m \u001b[1;31m# we get a key error when we specify a key that doesn't exist in the dictionary\u001b[0m\u001b[1;33m\u001b[0m\u001b[1;33m\u001b[0m\u001b[1;33m\u001b[0m\u001b[0m\n",
      "\u001b[1;31mKeyError\u001b[0m: 'Beatles'"
     ]
    }
   ],
   "source": [
    "print(albumDictionary['Beatles'])\n",
    "# we get a key error when we specify a key that doesn't exist in the dictionary"
   ]
  },
  {
   "cell_type": "code",
   "execution_count": 35,
   "metadata": {},
   "outputs": [],
   "source": [
    "# we can keep adding to this dictionary\n",
    "albumDictionary[\"Rolling Stones\"] = 9\n",
    "albumDictionary[\"Bob Dylan\"] = 8"
   ]
  },
  {
   "cell_type": "code",
   "execution_count": 36,
   "metadata": {},
   "outputs": [
    {
     "name": "stdout",
     "output_type": "stream",
     "text": [
      "{'The Beatles': 10, 'Rolling Stones': 9, 'Bob Dylan': 8}\n"
     ]
    }
   ],
   "source": [
    "print(albumDictionary)"
   ]
  },
  {
   "cell_type": "code",
   "execution_count": 37,
   "metadata": {},
   "outputs": [],
   "source": [
    "# items in a dictionary are ordered in insertion order\n",
    "# this is as of python 3.6"
   ]
  },
  {
   "cell_type": "code",
   "execution_count": 38,
   "metadata": {},
   "outputs": [
    {
     "name": "stdout",
     "output_type": "stream",
     "text": [
      "3\n"
     ]
    }
   ],
   "source": [
    "# how do we get the length of a dictionary?\n",
    "print(len(albumDictionary))"
   ]
  },
  {
   "cell_type": "code",
   "execution_count": 39,
   "metadata": {},
   "outputs": [],
   "source": [
    "# keys can only be in the dictionary one time. you can't have two identical keys"
   ]
  },
  {
   "cell_type": "code",
   "execution_count": 40,
   "metadata": {},
   "outputs": [
    {
     "name": "stdout",
     "output_type": "stream",
     "text": [
      "key in dictionary\n"
     ]
    }
   ],
   "source": [
    "# how do we see if something is in a dictionary?\n",
    "# we use the in keyword\n",
    "# if (key in dititonaryName)\n",
    "if ('The Beatles' in albumDictionary):\n",
    "    print('key in dictionary')\n",
    "else:\n",
    "    print('Item not in dictionary')"
   ]
  },
  {
   "cell_type": "code",
   "execution_count": 41,
   "metadata": {},
   "outputs": [],
   "source": [
    "# This is super important!\n",
    "    # if (key in dictionaryName):\n",
    "        # do something\n",
    "    # else:\n",
    "        # do something else"
   ]
  },
  {
   "cell_type": "code",
   "execution_count": 42,
   "metadata": {},
   "outputs": [
    {
     "name": "stdout",
     "output_type": "stream",
     "text": [
      "The Beatles\n",
      "10\n",
      "Rolling Stones\n",
      "9\n",
      "Bob Dylan\n",
      "8\n"
     ]
    }
   ],
   "source": [
    "# how do we print out the contents of a dictionary?\n",
    "for item in albumDictionary:  # each key is assigned to the variable\n",
    "    # item for each loop\n",
    "    print(item)\n",
    "    # let's print the key's value\n",
    "    print(albumDictionary[item])"
   ]
  },
  {
   "cell_type": "code",
   "execution_count": 43,
   "metadata": {},
   "outputs": [
    {
     "name": "stdout",
     "output_type": "stream",
     "text": [
      "{'The Beatles': 10, 'Rolling Stones': 7, 'Bob Dylan': 8}\n"
     ]
    }
   ],
   "source": [
    "# if you want to chang the value associated with a key,\n",
    "# you use the same syntax as when you add something to a dictionary\n",
    "albumDictionary['Rolling Stones'] = 7\n",
    "# syntax:\n",
    "    # dictionaryName[key] = newValue\n",
    "print(albumDictionary)"
   ]
  },
  {
   "cell_type": "code",
   "execution_count": 44,
   "metadata": {},
   "outputs": [],
   "source": [
    "# you can also create dicitonaries with stuff already in them\n",
    "# (you don't have to start with an empty dictionary)\n",
    "newDictionary = {\"The Beatles\": 10, \"Rolling Stones\": 9}\n",
    "# syntax: dictionaryName = {keyName:value, keyName:value, ...}"
   ]
  },
  {
   "cell_type": "code",
   "execution_count": 45,
   "metadata": {},
   "outputs": [
    {
     "name": "stdout",
     "output_type": "stream",
     "text": [
      "{'The Beatles': 10, 'Rolling Stones': 9}\n"
     ]
    }
   ],
   "source": [
    "print(newDictionary)"
   ]
  },
  {
   "cell_type": "code",
   "execution_count": 52,
   "metadata": {},
   "outputs": [],
   "source": [
    "# let's add up the number of albums each artist has\n",
    "import csv\n",
    "def findAlbumTotalsRST500(fileName):\n",
    "    # this function will read through fileName which is the\n",
    "    # Rolling Stone Top 500 album list and count up the number of albums each artist has.\n",
    "    # It will store this information in a dictionary, where the keys are the names of the artists\n",
    "    # and the values are thre numbers of albums each artist has\n",
    "    \n",
    "    # we need a dictionary!\n",
    "    albumTotals = {}\n",
    "    \n",
    "    # we need to open the file\n",
    "    myFile = open(fileName,\"r\")\n",
    "    \n",
    "    # use the csv reader to read through the file\n",
    "    csvReader = csv.reader(myFile)\n",
    "    # Note: to specifying delimiter or quotechar as the defaults for these things are what we want\n",
    "    # skip header\n",
    "    next(csvReader)\n",
    "    \n",
    "    # iterate row by row\n",
    "    for row in csvReader:\n",
    "        if (row[3] not in albumTotals):\n",
    "            # If the artist isn't in the dictionary, add them to the dictionary\n",
    "            # and set its value equal to 1\n",
    "            albumTotals[row[3]] = 1\n",
    "            # syntax for adding into the dictionary\n",
    "            # dictionaryName[key] = value\n",
    "        else:\n",
    "            albumTotals[row[3]] += 1\n",
    "            # how do you get the value for an associated key?\n",
    "            # dictionaryName[key]\n",
    "            # you could also do the following: albumTotals[row[3]] = albumTotals[row[3]] + 1\n",
    "    myFile.close()\n",
    "    \n",
    "    return albumTotals\n",
    "    # We return the dictionary so we can reuse it outside of a function"
   ]
  },
  {
   "cell_type": "code",
   "execution_count": 53,
   "metadata": {},
   "outputs": [],
   "source": [
    "albums = findAlbumTotalsRST500('RollingStoneAlbumList.csv')"
   ]
  },
  {
   "cell_type": "code",
   "execution_count": 54,
   "metadata": {},
   "outputs": [
    {
     "name": "stdout",
     "output_type": "stream",
     "text": [
      "{'The Beatles': 10, 'The Beach Boys': 3, 'Bob Dylan': 10, 'Marvin Gaye': 3, 'The Rolling Stones': 10, 'The Clash': 3, 'Elvis Presley': 3, 'Miles Davis': 3, 'The Velvet Underground': 4, 'The Jimi Hendrix Experience': 3, 'Nirvana': 3, 'Bruce Springsteen': 8, 'Van Morrison': 2, 'Michael Jackson': 3, 'Chuck Berry': 1, 'Robert Johnson': 1, 'John Lennon / Plastic Ono Band': 1, 'Stevie Wonder': 4, 'James Brown': 3, 'Fleetwood Mac': 2, 'U2': 5, 'The Who': 7, 'Led Zeppelin': 5, 'Joni Mitchell': 2, 'Ramones': 2, 'The Band': 2, 'David Bowie': 5, 'Carole King': 1, 'Eagles': 2, 'Muddy Waters': 3, 'Love': 1, 'Sex Pistols': 1, 'The Doors': 3, 'Pink Floyd': 4, 'Patti Smith': 1, 'Bob Marley & The Wailers': 3, 'John Coltrane': 2, 'Public Enemy': 2, 'The Allman Brothers Band': 1, 'Little Richard': 1, 'Simon & Garfunkel': 3, 'Al Green': 3, 'Ray Charles': 3, 'Creedence Clearwater Revival': 2, 'Captain Beefheart & His Magic Band': 1, 'Sly & The Family Stone': 4, \"Guns N' Roses\": 1, 'Phil Spector': 2, 'Radiohead': 5, 'Billy Joel': 2, 'Paul Simon': 2, 'Curtis Mayfield': 1, 'Neil Young': 3, 'Prince and the Revolution': 1, 'AC/DC': 2, 'Otis Redding': 3, 'John Lennon': 1, 'Aretha Franklin': 2, 'Johnny Cash': 2, 'Dusty Springfield': 1, 'Elton John': 5, 'Buddy Holly': 1, 'Prince': 3, 'Hank Williams': 1, 'Elvis Costello': 2, 'The Zombies': 1, 'Frank Sinatra': 2, 'Cream': 3, 'James Taylor': 1, 'Sam Cooke': 2, 'The Mamas and the Papas': 1, 'Derek and the Dominos': 1, 'Kanye West': 3, 'Etta James': 1, 'The Byrds': 4, 'Various Artists': 5, 'Run D.M.C.': 2, 'Moby Grape': 1, 'Janis Joplin': 1, 'The Wailers': 2, 'Iggy and The Stooges': 1, 'Talking Heads': 4, 'Television': 1, 'Black Sabbath': 3, 'The Notorious B.I.G.': 2, 'Pavement': 2, 'The Replacements': 2, 'Dr. Dre': 1, 'The Meters': 2, 'Blondie': 1, 'B.B. King': 2, 'Dr. John, the Night Tripper': 1, 'N.W.A': 1, 'Steely Dan': 3, 'Jefferson Airplane': 2, 'Crosby, Stills, Nash & Young': 1, 'Santana': 2, 'Arcade Fire': 1, \"The B 52's\": 1, 'A Tribe Called Quest': 1, \"Howlin' Wolf\": 2, 'Pretenders': 1, 'Beastie Boys': 2, 'Joy Division': 1, 'KISS': 2, 'T. Rex': 1, 'Linda Ronstadt': 1, 'Elvis Costello & The Attractions': 2, 'Metallica': 2, 'Rod Stewart': 1, 'Todd Rundgren': 1, 'Carpenters': 1, 'Aerosmith': 2, 'Funkadelic': 2, 'Curtis Mayfield and The Impressions': 1, 'ABBA': 1, 'Willie Nelson': 2, 'Madonna': 3, 'The Stooges': 2, 'Peter Gabriel': 1, 'Buffalo Springfield': 1, 'Quicksilver Messenger Service': 1, 'The Flying Burrito Brothers': 1, 'Green Day': 2, 'Lou Reed': 2, 'John Mayall & The Bluesbreakers': 1, 'R.E.M.': 3, 'Little Walter': 1, 'The Strokes': 1, 'Nine Inch Nails': 1, 'Cat Stevens': 1, 'Pearl Jam': 2, 'Neil Young & Crazy Horse': 2, 'Ike & Tina Turner': 1, 'New York Dolls': 1, 'Bo Diddley': 1, 'Bobby \"Blue\" Bland': 1, 'The Smiths': 4, 'My Bloody Valentine': 1, 'Professor Longhair': 1, 'Neil Diamond': 1, 'Pixies': 2, 'Eric B. & Rakim': 1, 'Bonnie Raitt': 2, 'Queen': 1, 'The Kinks': 3, 'Patsy Cline': 1, 'Jackie Wilson': 1, 'Eminem': 2, 'Jerry Lee Lewis': 1, 'The Mothers of Invention': 2, 'The Grateful Dead': 1, 'Ornette Coleman': 1, 'Jay Z': 3, 'Kraftwerk': 1, 'Whitney Houston': 1, 'Janet': 1, 'Grateful Dead': 3, 'Crosby, Stills & Nash': 1, 'Tracy Chapman': 1, 'Blood, Sweat & Tears': 1, 'The Jesus and Mary Chain': 1, 'Sleater Kinney': 1, 'Smokey Robinson & The Miracles': 1, 'LaBelle': 1, 'Parliament': 1, 'Janet Jackson': 1, 'Various': 2, 'Mary J. Blige': 1, 'Barry White': 1, 'The Cars': 1, 'X': 2, 'Bob Dylan and the Band': 1, 'MC5': 2, 'Leonard Cohen': 1, 'Weezer': 1, 'Dolly Parton': 1, 'Jeff Buckley': 1, 'Lucinda Williams': 1, 'Beck': 2, 'Red Hot Chili Peppers': 2, \"Jane's Addiction\": 1, 'Lauryn Hill': 1, 'Tom Petty and the Heartbreakers': 1, \"The O'Jays\": 1, 'Nick Drake': 1, 'Randy Newman': 3, 'The Police': 4, 'Eric Clapton': 2, 'The Cure': 2, 'Liz Phair': 1, 'Sonic Youth': 1, 'Richard & Linda Thompson': 2, 'Graham Parker & The Rumour': 1, 'Soundgarden': 1, 'Jethro Tull': 1, 'Big Brother & the Holding Company': 1, 'Tom Waits': 3, 'Black Flag': 1, 'Moby': 1, 'Depeche Mode': 1, 'Meat Loaf': 1, 'De La Soul': 1, 'The Yardbirds': 2, 'Dire Straits': 1, 'Buzzcocks': 1, 'OutKast': 2, 'The Smashing Pumpkins': 1, 'New Order': 1, 'Rage Against the Machine': 1, 'Mott the Hoople': 2, 'Arctic Monkeys': 1, 'Roxy Music': 2, 'Jackson Browne': 3, 'Bjork': 1, 'John Lee Hooker': 1, 'Oasis': 1, 'TLC': 1, 'Toots & The Maytals': 1, 'The Modern Lovers': 1, 'Wu Tang Clan': 1, 'Don Henley': 1, 'The White Stripes': 2, 'M.I.A.': 1, 'LCD Soundsystem': 1, 'Massive Attack': 1, 'ZZ Top': 2, 'The Temptations': 1, 'Nas': 1, 'Lynyrd Skynyrd': 1, 'Dr. John': 1, 'Big Star': 3, 'PJ Harvey': 2, \"Sinead O'Connor\": 1, 'Wire': 1, 'Minutemen': 1, \"The Go Go's\": 1, 'Van Halen': 1, 'Paul McCartney & Wings': 1, 'Portishead': 1, 'The Crickets': 1, 'The Ronettes': 1, 'Diana Ross & The Supremes': 1, 'Gram Parsons': 1, 'Cheap Trick': 2, 'Peter Wolf': 1, 'Brian Eno': 2, 'Vampire Weekend': 1, 'George Harrison': 1, 'Lil Wayne': 1, 'The Pogues': 1, 'Suicide': 1, 'DEVO': 1, 'War': 1, 'Steve Miller Band': 1, 'Stan GetzÂ\\xa0/Â\\xa0Joao GilbertoÂ\\xa0featuringÂ\\xa0Antonio Carlos Jobim': 1, 'Amy Winehouse': 1, 'John Prine': 1, 'EPMD': 1, 'Alice Cooper': 1, 'Los Lobos': 1, 'My Morning Jacket': 1, 'The Drifters': 1, 'Hole': 1, 'Public Image Ltd.': 1, 'Echo and The Bunnymen': 1, 'Def Leppard': 1, 'The Magnetic Fields': 1, 'Coldplay': 1, 'The Paul Butterfield Blues Band': 1, 'Fugees': 1, 'L.L. Cool J': 1, 'George Michael': 1, 'Manu Chao': 1, 'Merle Haggard': 1, 'Loretta Lynn': 1, 'Raekwon': 1, \"D'Angelo\": 1, 'Steve Earle': 1, 'Gang of Four': 1, 'Earth, Wind & Fire': 1, 'Cyndi Lauper': 1, 'Husker Du': 1, 'Albert King': 1, 'Eurythmics': 1, 'Wilco': 1, 'MGMT': 1, 'Boz Scaggs': 1, 'The Stone Roses': 1}\n"
     ]
    }
   ],
   "source": [
    "print(albums)"
   ]
  },
  {
   "cell_type": "code",
   "execution_count": 55,
   "metadata": {},
   "outputs": [],
   "source": [
    "# The dictionary is in the order that we put stuff in it, not sorted by the\n",
    "# number of albums each artist has.\n",
    "# Let's sort the dictionary\n",
    "# Make sure you have downloaded the sortDictionary file from moodle\n",
    "import sortdictionary\n",
    "sortedDictionary = sortdictionary.sortDictionaryByValues(albums,True)\n",
    "# sortDictionaryByValues takes a dictionary as the first parameter\n",
    "# and a boolean as the second parameter. If the boolean is True, the function sorts the dictionary\n",
    "# by values Greatest-to-Least. If the boolean is False, the function sorts the dictionary by values\n",
    "# Least-to-Greatest. The function returns the sorted dictionary -it DOES NOT sort the original \n",
    "# dictionary that you pass to the function"
   ]
  },
  {
   "cell_type": "code",
   "execution_count": 56,
   "metadata": {},
   "outputs": [
    {
     "name": "stdout",
     "output_type": "stream",
     "text": [
      "{'The Beatles': 10, 'Bob Dylan': 10, 'The Rolling Stones': 10, 'Bruce Springsteen': 8, 'The Who': 7, 'U2': 5, 'Led Zeppelin': 5, 'David Bowie': 5, 'Radiohead': 5, 'Elton John': 5, 'Various Artists': 5, 'The Velvet Underground': 4, 'Stevie Wonder': 4, 'Pink Floyd': 4, 'Sly & The Family Stone': 4, 'The Byrds': 4, 'Talking Heads': 4, 'The Smiths': 4, 'The Police': 4, 'The Beach Boys': 3, 'Marvin Gaye': 3, 'The Clash': 3, 'Elvis Presley': 3, 'Miles Davis': 3, 'The Jimi Hendrix Experience': 3, 'Nirvana': 3, 'Michael Jackson': 3, 'James Brown': 3, 'Muddy Waters': 3, 'The Doors': 3, 'Bob Marley & The Wailers': 3, 'Simon & Garfunkel': 3, 'Al Green': 3, 'Ray Charles': 3, 'Neil Young': 3, 'Otis Redding': 3, 'Prince': 3, 'Cream': 3, 'Kanye West': 3, 'Black Sabbath': 3, 'Steely Dan': 3, 'Madonna': 3, 'R.E.M.': 3, 'The Kinks': 3, 'Jay Z': 3, 'Grateful Dead': 3, 'Randy Newman': 3, 'Tom Waits': 3, 'Jackson Browne': 3, 'Big Star': 3, 'Van Morrison': 2, 'Fleetwood Mac': 2, 'Joni Mitchell': 2, 'Ramones': 2, 'The Band': 2, 'Eagles': 2, 'John Coltrane': 2, 'Public Enemy': 2, 'Creedence Clearwater Revival': 2, 'Phil Spector': 2, 'Billy Joel': 2, 'Paul Simon': 2, 'AC/DC': 2, 'Aretha Franklin': 2, 'Johnny Cash': 2, 'Elvis Costello': 2, 'Frank Sinatra': 2, 'Sam Cooke': 2, 'Run D.M.C.': 2, 'The Wailers': 2, 'The Notorious B.I.G.': 2, 'Pavement': 2, 'The Replacements': 2, 'The Meters': 2, 'B.B. King': 2, 'Jefferson Airplane': 2, 'Santana': 2, \"Howlin' Wolf\": 2, 'Beastie Boys': 2, 'KISS': 2, 'Elvis Costello & The Attractions': 2, 'Metallica': 2, 'Aerosmith': 2, 'Funkadelic': 2, 'Willie Nelson': 2, 'The Stooges': 2, 'Green Day': 2, 'Lou Reed': 2, 'Pearl Jam': 2, 'Neil Young & Crazy Horse': 2, 'Pixies': 2, 'Bonnie Raitt': 2, 'Eminem': 2, 'The Mothers of Invention': 2, 'Various': 2, 'X': 2, 'MC5': 2, 'Beck': 2, 'Red Hot Chili Peppers': 2, 'Eric Clapton': 2, 'The Cure': 2, 'Richard & Linda Thompson': 2, 'The Yardbirds': 2, 'OutKast': 2, 'Mott the Hoople': 2, 'Roxy Music': 2, 'The White Stripes': 2, 'ZZ Top': 2, 'PJ Harvey': 2, 'Cheap Trick': 2, 'Brian Eno': 2, 'Chuck Berry': 1, 'Robert Johnson': 1, 'John Lennon / Plastic Ono Band': 1, 'Carole King': 1, 'Love': 1, 'Sex Pistols': 1, 'Patti Smith': 1, 'The Allman Brothers Band': 1, 'Little Richard': 1, 'Captain Beefheart & His Magic Band': 1, \"Guns N' Roses\": 1, 'Curtis Mayfield': 1, 'Prince and the Revolution': 1, 'John Lennon': 1, 'Dusty Springfield': 1, 'Buddy Holly': 1, 'Hank Williams': 1, 'The Zombies': 1, 'James Taylor': 1, 'The Mamas and the Papas': 1, 'Derek and the Dominos': 1, 'Etta James': 1, 'Moby Grape': 1, 'Janis Joplin': 1, 'Iggy and The Stooges': 1, 'Television': 1, 'Dr. Dre': 1, 'Blondie': 1, 'Dr. John, the Night Tripper': 1, 'N.W.A': 1, 'Crosby, Stills, Nash & Young': 1, 'Arcade Fire': 1, \"The B 52's\": 1, 'A Tribe Called Quest': 1, 'Pretenders': 1, 'Joy Division': 1, 'T. Rex': 1, 'Linda Ronstadt': 1, 'Rod Stewart': 1, 'Todd Rundgren': 1, 'Carpenters': 1, 'Curtis Mayfield and The Impressions': 1, 'ABBA': 1, 'Peter Gabriel': 1, 'Buffalo Springfield': 1, 'Quicksilver Messenger Service': 1, 'The Flying Burrito Brothers': 1, 'John Mayall & The Bluesbreakers': 1, 'Little Walter': 1, 'The Strokes': 1, 'Nine Inch Nails': 1, 'Cat Stevens': 1, 'Ike & Tina Turner': 1, 'New York Dolls': 1, 'Bo Diddley': 1, 'Bobby \"Blue\" Bland': 1, 'My Bloody Valentine': 1, 'Professor Longhair': 1, 'Neil Diamond': 1, 'Eric B. & Rakim': 1, 'Queen': 1, 'Patsy Cline': 1, 'Jackie Wilson': 1, 'Jerry Lee Lewis': 1, 'The Grateful Dead': 1, 'Ornette Coleman': 1, 'Kraftwerk': 1, 'Whitney Houston': 1, 'Janet': 1, 'Crosby, Stills & Nash': 1, 'Tracy Chapman': 1, 'Blood, Sweat & Tears': 1, 'The Jesus and Mary Chain': 1, 'Sleater Kinney': 1, 'Smokey Robinson & The Miracles': 1, 'LaBelle': 1, 'Parliament': 1, 'Janet Jackson': 1, 'Mary J. Blige': 1, 'Barry White': 1, 'The Cars': 1, 'Bob Dylan and the Band': 1, 'Leonard Cohen': 1, 'Weezer': 1, 'Dolly Parton': 1, 'Jeff Buckley': 1, 'Lucinda Williams': 1, \"Jane's Addiction\": 1, 'Lauryn Hill': 1, 'Tom Petty and the Heartbreakers': 1, \"The O'Jays\": 1, 'Nick Drake': 1, 'Liz Phair': 1, 'Sonic Youth': 1, 'Graham Parker & The Rumour': 1, 'Soundgarden': 1, 'Jethro Tull': 1, 'Big Brother & the Holding Company': 1, 'Black Flag': 1, 'Moby': 1, 'Depeche Mode': 1, 'Meat Loaf': 1, 'De La Soul': 1, 'Dire Straits': 1, 'Buzzcocks': 1, 'The Smashing Pumpkins': 1, 'New Order': 1, 'Rage Against the Machine': 1, 'Arctic Monkeys': 1, 'Bjork': 1, 'John Lee Hooker': 1, 'Oasis': 1, 'TLC': 1, 'Toots & The Maytals': 1, 'The Modern Lovers': 1, 'Wu Tang Clan': 1, 'Don Henley': 1, 'M.I.A.': 1, 'LCD Soundsystem': 1, 'Massive Attack': 1, 'The Temptations': 1, 'Nas': 1, 'Lynyrd Skynyrd': 1, 'Dr. John': 1, \"Sinead O'Connor\": 1, 'Wire': 1, 'Minutemen': 1, \"The Go Go's\": 1, 'Van Halen': 1, 'Paul McCartney & Wings': 1, 'Portishead': 1, 'The Crickets': 1, 'The Ronettes': 1, 'Diana Ross & The Supremes': 1, 'Gram Parsons': 1, 'Peter Wolf': 1, 'Vampire Weekend': 1, 'George Harrison': 1, 'Lil Wayne': 1, 'The Pogues': 1, 'Suicide': 1, 'DEVO': 1, 'War': 1, 'Steve Miller Band': 1, 'Stan GetzÂ\\xa0/Â\\xa0Joao GilbertoÂ\\xa0featuringÂ\\xa0Antonio Carlos Jobim': 1, 'Amy Winehouse': 1, 'John Prine': 1, 'EPMD': 1, 'Alice Cooper': 1, 'Los Lobos': 1, 'My Morning Jacket': 1, 'The Drifters': 1, 'Hole': 1, 'Public Image Ltd.': 1, 'Echo and The Bunnymen': 1, 'Def Leppard': 1, 'The Magnetic Fields': 1, 'Coldplay': 1, 'The Paul Butterfield Blues Band': 1, 'Fugees': 1, 'L.L. Cool J': 1, 'George Michael': 1, 'Manu Chao': 1, 'Merle Haggard': 1, 'Loretta Lynn': 1, 'Raekwon': 1, \"D'Angelo\": 1, 'Steve Earle': 1, 'Gang of Four': 1, 'Earth, Wind & Fire': 1, 'Cyndi Lauper': 1, 'Husker Du': 1, 'Albert King': 1, 'Eurythmics': 1, 'Wilco': 1, 'MGMT': 1, 'Boz Scaggs': 1, 'The Stone Roses': 1}\n"
     ]
    }
   ],
   "source": [
    "print(sortedDictionary)"
   ]
  },
  {
   "cell_type": "code",
   "execution_count": 57,
   "metadata": {},
   "outputs": [],
   "source": [
    "# write this data to a csv file that we will then open in excel\n",
    "# the data will then be plotted with a bar chart\n",
    "\n",
    "# open data file\n",
    "myFile = open(\"artistTotals.csv\", 'w')\n",
    "# write header\n",
    "myFile.write(\"Artist Name, Album Total\\n\")\n",
    "\n",
    "for key in sortedDictionary:\n",
    "    # key stores the artist name\n",
    "    # the value is accessed with sortedDictionary[key]\n",
    "    myFile.write(key + \",\" + str(sortedDictionary[key]) + \"\\n\")\n",
    "    # what we should really do here is put all artist names inside of double quotes\n",
    "    \n",
    "    \n",
    "myFile.close()\n"
   ]
  },
  {
   "cell_type": "code",
   "execution_count": null,
   "metadata": {},
   "outputs": [],
   "source": []
  },
  {
   "cell_type": "code",
   "execution_count": null,
   "metadata": {},
   "outputs": [],
   "source": []
  },
  {
   "cell_type": "code",
   "execution_count": null,
   "metadata": {},
   "outputs": [],
   "source": []
  }
 ],
 "metadata": {
  "kernelspec": {
   "display_name": "Python 3",
   "language": "python",
   "name": "python3"
  },
  "language_info": {
   "codemirror_mode": {
    "name": "ipython",
    "version": 3
   },
   "file_extension": ".py",
   "mimetype": "text/x-python",
   "name": "python",
   "nbconvert_exporter": "python",
   "pygments_lexer": "ipython3",
   "version": "3.7.6"
  }
 },
 "nbformat": 4,
 "nbformat_minor": 4
}
