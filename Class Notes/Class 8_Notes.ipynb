{
 "cells": [
  {
   "cell_type": "code",
   "execution_count": 28,
   "metadata": {},
   "outputs": [],
   "source": [
    "#write a function that takes 3 parameters and does the following:\n",
    "# sum of the first and the second parameters, then print the sum's remainder when it's divided by\n",
    "#the third parameter. Return the quotient of the sum (floor division) when divided by the remainder\n",
    "\n",
    "# e.g., num1 = 8, num = 2, num3 = 2\n",
    "# 8+ 10 % 2 = 0 so you you'd print 0\n",
    "# 8 + 10 // 2 = 9 so you you'd return 9\n",
    "\n",
    "def numberFun(num1, num2, num3):\n",
    "    summation = num1 + num2\n",
    "    quotient = summation // num3\n",
    "    remainder = summation % num3\n",
    "    print(remainder)\n",
    "    return quotient\n"
   ]
  },
  {
   "cell_type": "code",
   "execution_count": 29,
   "metadata": {},
   "outputs": [
    {
     "name": "stdout",
     "output_type": "stream",
     "text": [
      "11\n"
     ]
    }
   ],
   "source": [
    "result = numberFun(4,7,18)"
   ]
  },
  {
   "cell_type": "code",
   "execution_count": 30,
   "metadata": {},
   "outputs": [
    {
     "name": "stdout",
     "output_type": "stream",
     "text": [
      "0\n"
     ]
    }
   ],
   "source": [
    "print(result)"
   ]
  },
  {
   "cell_type": "code",
   "execution_count": 31,
   "metadata": {},
   "outputs": [
    {
     "name": "stdout",
     "output_type": "stream",
     "text": [
      "0\n"
     ]
    }
   ],
   "source": [
    "result = numberFun(8,10,2)\n",
    "#result is 8+10 // 2\n",
    "#but what is printing out here is 8+10 % 2"
   ]
  },
  {
   "cell_type": "code",
   "execution_count": 33,
   "metadata": {},
   "outputs": [
    {
     "name": "stdout",
     "output_type": "stream",
     "text": [
      "9\n"
     ]
    }
   ],
   "source": [
    "print(result)"
   ]
  },
  {
   "cell_type": "code",
   "execution_count": 37,
   "metadata": {},
   "outputs": [],
   "source": [
    "# write a function that prints a word a bunch of times\n",
    "#given a string word, print it bunchOfTimes without any spaces between the word\n",
    "# example: given word = \"friday\" and bunchOfTimes = 3\n",
    "#fucntion should print fridayfridayfriday \n",
    "\n",
    "def printAWordABunchOfTimes(word,bunchOfTimes):\n",
    "    printer = word*bunchOfTimes\n",
    "    print(printer)"
   ]
  },
  {
   "cell_type": "code",
   "execution_count": 51,
   "metadata": {},
   "outputs": [
    {
     "name": "stdout",
     "output_type": "stream",
     "text": [
      "What word would you like to print a bunch of times? HELPME\n",
      "How many times you want to print it? 3\n",
      "HELPMEHELPMEHELPME\n"
     ]
    }
   ],
   "source": [
    "name = input(\"What word would you like to print a bunch of times? \")\n",
    "num = input(\"How many times you want to print it? \")\n",
    "printAWordABunchOfTimes(name, int(num))"
   ]
  },
  {
   "cell_type": "code",
   "execution_count": 58,
   "metadata": {},
   "outputs": [],
   "source": [
    "#write a function called squareIt that takes a number myNum and squares it and prints the following:\n",
    "# The square of myNum is myNumSquared\n",
    "# for example, given myNum = 2, your function should print the square of 2 is 4\n",
    "\n",
    "#hint: how do get the square of something? multiply it by itself\n",
    "\n",
    "def squareIt(myNum):\n",
    "    myNumSquared = myNum*myNum\n",
    "    print(\"The square of \" + str(myNum) + \" is \" + str(myNumSquared))"
   ]
  },
  {
   "cell_type": "code",
   "execution_count": 60,
   "metadata": {},
   "outputs": [
    {
     "name": "stdout",
     "output_type": "stream",
     "text": [
      "The square of 2.216273482349569 is 4.911868148565885\n"
     ]
    }
   ],
   "source": [
    "squareIt(2.216273482349568877362415)"
   ]
  },
  {
   "cell_type": "code",
   "execution_count": null,
   "metadata": {},
   "outputs": [],
   "source": []
  },
  {
   "cell_type": "code",
   "execution_count": null,
   "metadata": {},
   "outputs": [],
   "source": []
  },
  {
   "cell_type": "code",
   "execution_count": null,
   "metadata": {},
   "outputs": [],
   "source": []
  }
 ],
 "metadata": {
  "kernelspec": {
   "display_name": "Python 3",
   "language": "python",
   "name": "python3"
  },
  "language_info": {
   "codemirror_mode": {
    "name": "ipython",
    "version": 3
   },
   "file_extension": ".py",
   "mimetype": "text/x-python",
   "name": "python",
   "nbconvert_exporter": "python",
   "pygments_lexer": "ipython3",
   "version": "3.7.3"
  }
 },
 "nbformat": 4,
 "nbformat_minor": 2
}
