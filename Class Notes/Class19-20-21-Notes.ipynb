{
 "cells": [
  {
   "cell_type": "code",
   "execution_count": 4,
   "metadata": {},
   "outputs": [],
   "source": [
    "# teach a ta a thing next week!\n",
    "\n",
    "# pseudocode for folding laundry\n",
    "\n",
    "# for item in hamper\n",
    "#  if (item == socks):\n",
    "#    # pair socks and make sock ball\n",
    "#  elif (item == tshirt):\n",
    "#    # fold in thirds, sort by color\n",
    "#  elif (item == pants):\n",
    "#    # hang pants"
   ]
  },
  {
   "cell_type": "code",
   "execution_count": 5,
   "metadata": {},
   "outputs": [],
   "source": [
    "# more with lists\n",
    "# given a list of words, how many times does a given word occur in the list of words?\n",
    "# for example\n",
    "myList = [\"phone\",\"wallet\",\"keys\",\"passport\", \"keychain\",\"telephone\",\"phone\"]\n",
    "# phone occurs 2 times\n",
    "# keychain occurs 1 time\n",
    "# keys occurs 1 time\n",
    "# key?\n",
    "# pho?\n",
    "# these occur as substrings\n",
    "# let's just look for whole words"
   ]
  },
  {
   "cell_type": "code",
   "execution_count": 6,
   "metadata": {},
   "outputs": [],
   "source": [
    "def returnWordCount(listOfStrings,wholeWordToFind):\n",
    "    # need a variable to store how many times we find wholeWordToFind\n",
    "    # set it equal to zero\n",
    "    count = 0\n",
    "    \n",
    "    # look at each thing in the list\n",
    "    for word in listOfStrings:\n",
    "        # see if the current word we're looking at matches wholeWordToFind\n",
    "        # if it does, add one to our counter variable\n",
    "        if (word == wholeWordToFind):\n",
    "            # match!\n",
    "            count += 1\n",
    "    # return the number of times you found the word\n",
    "    return count"
   ]
  },
  {
   "cell_type": "code",
   "execution_count": 7,
   "metadata": {},
   "outputs": [],
   "source": [
    "# bonus clickers: press A (you know, when you get a chance.)"
   ]
  },
  {
   "cell_type": "code",
   "execution_count": 8,
   "metadata": {},
   "outputs": [
    {
     "name": "stdout",
     "output_type": "stream",
     "text": [
      "2\n"
     ]
    }
   ],
   "source": [
    "print(returnWordCount(myList,\"phone\")) # this will print the value that the function\n",
    "#returns"
   ]
  },
  {
   "cell_type": "code",
   "execution_count": 9,
   "metadata": {},
   "outputs": [
    {
     "name": "stdout",
     "output_type": "stream",
     "text": [
      "0\n"
     ]
    }
   ],
   "source": [
    "print(returnWordCount(myList,\"key\"))"
   ]
  },
  {
   "cell_type": "code",
   "execution_count": 10,
   "metadata": {},
   "outputs": [],
   "source": [
    "# when we're looking for a string inside of another string, we call the \"portion\"\n",
    "# that we're looking for the substring"
   ]
  },
  {
   "cell_type": "code",
   "execution_count": 11,
   "metadata": {},
   "outputs": [
    {
     "name": "stdout",
     "output_type": "stream",
     "text": [
      "success!\n"
     ]
    }
   ],
   "source": [
    "# so how can we find substrings in strings?\n",
    "if (\"key\" in \"keys\"):\n",
    "    print(\"success!\")\n",
    "else:\n",
    "    print(\"no success!\")"
   ]
  },
  {
   "cell_type": "code",
   "execution_count": 12,
   "metadata": {},
   "outputs": [
    {
     "name": "stdout",
     "output_type": "stream",
     "text": [
      "True\n"
     ]
    }
   ],
   "source": [
    "print(\"key\" in \"keys\")"
   ]
  },
  {
   "cell_type": "code",
   "execution_count": 13,
   "metadata": {},
   "outputs": [
    {
     "name": "stdout",
     "output_type": "stream",
     "text": [
      "False\n"
     ]
    }
   ],
   "source": [
    "print(\"yek\" in \"keys\")"
   ]
  },
  {
   "cell_type": "code",
   "execution_count": 14,
   "metadata": {},
   "outputs": [
    {
     "name": "stdout",
     "output_type": "stream",
     "text": [
      "True\n"
     ]
    }
   ],
   "source": [
    "print(\"y\" in \"keys\")"
   ]
  },
  {
   "cell_type": "code",
   "execution_count": 15,
   "metadata": {},
   "outputs": [],
   "source": [
    "# write a function that looks for substrings in a list of strings\n",
    "def printSubstringCount(listOfWords,substring):\n",
    "    # function should look through listOfWords and count how many times\n",
    "    # substring occurs in that list of words\n",
    "    count = 0\n",
    "    for word in listOfWords:\n",
    "        # word is a variable that stores each word in listOfWords \n",
    "        # for each loop\n",
    "        if (substring in word):\n",
    "            # word in substring is different than substring in word\n",
    "            count+=1\n",
    "        \n",
    "    print(substring + \" occurs \" + str(count) + \" times\")\n",
    "# for example, given [\"keys\",\"wallet\",\"phone\",\"keychain\",\"minor key\"]\n",
    "# function should print \n",
    "# key occurs 3 times"
   ]
  },
  {
   "cell_type": "code",
   "execution_count": 16,
   "metadata": {},
   "outputs": [
    {
     "name": "stdout",
     "output_type": "stream",
     "text": [
      "key occurs 3 times\n"
     ]
    }
   ],
   "source": [
    "myList =[\"keys\",\"wallet\",\"phone\",\"keychain\",\"minor key\"]\n",
    "printSubstringCount(myList,\"key\")"
   ]
  },
  {
   "cell_type": "code",
   "execution_count": 17,
   "metadata": {},
   "outputs": [
    {
     "name": "stdout",
     "output_type": "stream",
     "text": [
      "key occurs 4 times\n"
     ]
    }
   ],
   "source": [
    "anotherList = [\"keys\",\"keys\",\"keykey\",\"keykeykey\",\"phone\",\"falafel\",\"chicken\",\"waffles\"]\n",
    "printSubstringCount(anotherList,\"key\")"
   ]
  },
  {
   "cell_type": "code",
   "execution_count": 18,
   "metadata": {},
   "outputs": [
    {
     "name": "stdout",
     "output_type": "stream",
     "text": [
      "False\n"
     ]
    }
   ],
   "source": [
    "print(\"keys\" in \"y\")"
   ]
  },
  {
   "cell_type": "code",
   "execution_count": 19,
   "metadata": {},
   "outputs": [
    {
     "name": "stdout",
     "output_type": "stream",
     "text": [
      "True\n"
     ]
    }
   ],
   "source": [
    "print(\"y\" in \"keys\")"
   ]
  },
  {
   "cell_type": "code",
   "execution_count": 20,
   "metadata": {},
   "outputs": [
    {
     "name": "stdout",
     "output_type": "stream",
     "text": [
      "keys\n",
      "wallet\n",
      "phone\n",
      "keychain\n",
      "minor key\n"
     ]
    }
   ],
   "source": [
    "for word in myList:\n",
    "    print(word)"
   ]
  },
  {
   "cell_type": "code",
   "execution_count": 21,
   "metadata": {},
   "outputs": [
    {
     "name": "stdout",
     "output_type": "stream",
     "text": [
      "keys\n",
      "wallet\n",
      "phone\n",
      "keychain\n",
      "minor key\n"
     ]
    }
   ],
   "source": [
    "for i in range(0,len(myList)):\n",
    "    print(myList[i])"
   ]
  },
  {
   "cell_type": "code",
   "execution_count": 22,
   "metadata": {},
   "outputs": [
    {
     "name": "stdout",
     "output_type": "stream",
     "text": [
      "['keys', 'keys', 'keykey', 'keykeykey', 'phone', 'falafel', 'chicken', 'waffles']\n",
      "0\n"
     ]
    }
   ],
   "source": [
    "print(anotherList)\n",
    "print(anotherList.count(\"key\")) # .count on a list will match will look for a\n",
    "# \"complete\" match, not a substring\n",
    "# syntax: listName.count(stringToFind) <- this behaves like returnWordCount"
   ]
  },
  {
   "cell_type": "code",
   "execution_count": 23,
   "metadata": {},
   "outputs": [
    {
     "name": "stdout",
     "output_type": "stream",
     "text": [
      "3\n"
     ]
    }
   ],
   "source": [
    "myString = \"key key key\"\n",
    "print(myString.count(\"key\"))\n",
    "# .count on a string will count the number of times the substring is in the string\n",
    "# syntax: stringName.count(substring)"
   ]
  },
  {
   "cell_type": "code",
   "execution_count": 24,
   "metadata": {},
   "outputs": [
    {
     "name": "stdout",
     "output_type": "stream",
     "text": [
      "6\n",
      "0\n"
     ]
    }
   ],
   "source": [
    "myString = \"key key keyyyyyyy keykeykey\"\n",
    "print(myString.count(\"key\"))\n",
    "print(myString.count(\"yek\"))\n"
   ]
  },
  {
   "cell_type": "code",
   "execution_count": 25,
   "metadata": {},
   "outputs": [
    {
     "name": "stdout",
     "output_type": "stream",
     "text": [
      "True\n"
     ]
    }
   ],
   "source": [
    "print(\"key\" in myString)"
   ]
  },
  {
   "cell_type": "code",
   "execution_count": 26,
   "metadata": {},
   "outputs": [],
   "source": [
    "# returnSubstringCount should return the number of times that a substring\n",
    "# occurs in listOfWords. our previous attempt at this wasn't entirely correct\n",
    "# because it didn't get the right number of a substring showed up multiple times\n",
    "# in one word\n",
    "def returnSubstringCount(listOfWords,substring):     \n",
    "    # function needs to count the number of times the substring occurs in all words\n",
    "    # in the list\n",
    "    substringCount = 0\n",
    "    # function needs to look at each word in the list\n",
    "    for word in listOfWords:\n",
    "        # print(word)\n",
    "        # in each word, count the number of times the \n",
    "        # substring occurs\n",
    "        # do i need to check if the substring is in the word?\n",
    "        substringCount += word.count(substring)\n",
    "    \n",
    "    # return the number of times the substring occurs\n",
    "    return substringCount"
   ]
  },
  {
   "cell_type": "code",
   "execution_count": 27,
   "metadata": {},
   "outputs": [
    {
     "name": "stdout",
     "output_type": "stream",
     "text": [
      "3\n"
     ]
    }
   ],
   "source": [
    "myList = [\"pickles\",\"picks\",\"pickguard\",\"ketchup\",\"mustard\"]\n",
    "print(returnSubstringCount(myList,\"pick\"))"
   ]
  },
  {
   "cell_type": "code",
   "execution_count": 28,
   "metadata": {},
   "outputs": [
    {
     "name": "stdout",
     "output_type": "stream",
     "text": [
      "2\n"
     ]
    }
   ],
   "source": [
    "print(returnSubstringCount(myList,\"e\"))"
   ]
  },
  {
   "cell_type": "code",
   "execution_count": 29,
   "metadata": {},
   "outputs": [
    {
     "name": "stdout",
     "output_type": "stream",
     "text": [
      "The substring pick occurs in myList\n"
     ]
    }
   ],
   "source": [
    "if (returnSubstringCount(myList,\"pick\") > 0):\n",
    "    print(\"The substring pick occurs in myList\")\n",
    "else:\n",
    "    print(\"The substring pick doesn't occur in myList\")"
   ]
  },
  {
   "cell_type": "code",
   "execution_count": 30,
   "metadata": {},
   "outputs": [
    {
     "name": "stdout",
     "output_type": "stream",
     "text": [
      "The substring pck doesn't occur in myList\n"
     ]
    }
   ],
   "source": [
    "if (returnSubstringCount(myList,\"pck\") > 0):\n",
    "    print(\"The substring pck occurs in myList\")\n",
    "else:\n",
    "    print(\"The substring pck doesn't occur in myList\")"
   ]
  },
  {
   "cell_type": "code",
   "execution_count": 31,
   "metadata": {},
   "outputs": [],
   "source": [
    "def calcSum():\n",
    "    sum = 0\n",
    "    for i in range(4,7,2):\n",
    "        sum+=i\n",
    "        return sum\n",
    "    return 0"
   ]
  },
  {
   "cell_type": "code",
   "execution_count": 32,
   "metadata": {},
   "outputs": [
    {
     "name": "stdout",
     "output_type": "stream",
     "text": [
      "4\n"
     ]
    }
   ],
   "source": [
    "print(calcSum())"
   ]
  },
  {
   "cell_type": "code",
   "execution_count": 33,
   "metadata": {},
   "outputs": [
    {
     "name": "stdout",
     "output_type": "stream",
     "text": [
      "pickles\n",
      "picks\n",
      "pickguard\n",
      "ketchup\n",
      "mustard\n"
     ]
    }
   ],
   "source": [
    "for i in range(0,len(myList)):\n",
    "    print(myList[i])"
   ]
  },
  {
   "cell_type": "code",
   "execution_count": 34,
   "metadata": {},
   "outputs": [
    {
     "name": "stdout",
     "output_type": "stream",
     "text": [
      "pickles\n",
      "picks\n",
      "pickguard\n",
      "ketchup\n",
      "mustard\n"
     ]
    }
   ],
   "source": [
    "for thing in myList:\n",
    "    print(thing)"
   ]
  },
  {
   "cell_type": "code",
   "execution_count": 35,
   "metadata": {},
   "outputs": [
    {
     "ename": "TypeError",
     "evalue": "'list' object cannot be interpreted as an integer",
     "output_type": "error",
     "traceback": [
      "\u001b[1;31m---------------------------------------------------------------------------\u001b[0m",
      "\u001b[1;31mTypeError\u001b[0m                                 Traceback (most recent call last)",
      "\u001b[1;32m<ipython-input-35-2c27c4fc5de2>\u001b[0m in \u001b[0;36m<module>\u001b[1;34m\u001b[0m\n\u001b[1;32m----> 1\u001b[1;33m \u001b[1;32mfor\u001b[0m \u001b[0mi\u001b[0m \u001b[1;32min\u001b[0m \u001b[0mrange\u001b[0m\u001b[1;33m(\u001b[0m\u001b[0mmyList\u001b[0m\u001b[1;33m)\u001b[0m\u001b[1;33m:\u001b[0m\u001b[1;33m\u001b[0m\u001b[1;33m\u001b[0m\u001b[0m\n\u001b[0m\u001b[0;32m      2\u001b[0m     \u001b[0mprint\u001b[0m\u001b[1;33m(\u001b[0m\u001b[0mi\u001b[0m\u001b[1;33m)\u001b[0m\u001b[1;33m\u001b[0m\u001b[1;33m\u001b[0m\u001b[0m\n",
      "\u001b[1;31mTypeError\u001b[0m: 'list' object cannot be interpreted as an integer"
     ]
    }
   ],
   "source": [
    "for i in range(myList):\n",
    "    print(i)"
   ]
  },
  {
   "cell_type": "code",
   "execution_count": null,
   "metadata": {},
   "outputs": [],
   "source": []
  }
 ],
 "metadata": {
  "kernelspec": {
   "display_name": "Python 3",
   "language": "python",
   "name": "python3"
  },
  "language_info": {
   "codemirror_mode": {
    "name": "ipython",
    "version": 3
   },
   "file_extension": ".py",
   "mimetype": "text/x-python",
   "name": "python",
   "nbconvert_exporter": "python",
   "pygments_lexer": "ipython3",
   "version": "3.7.6"
  }
 },
 "nbformat": 4,
 "nbformat_minor": 4
}
