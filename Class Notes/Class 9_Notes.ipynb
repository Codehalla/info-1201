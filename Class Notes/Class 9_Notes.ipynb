{
 "cells": [
  {
   "cell_type": "code",
   "execution_count": 6,
   "metadata": {},
   "outputs": [],
   "source": [
    "# greeting function\n",
    "# make a decision\n",
    "# given a person's name, greet them differently depending on the first letter of their name\n",
    "# if the name starts with A-M, say \"Hey\" and then the name\n",
    "# otherwise (else), say \"Hey there\" and then the name\n",
    "# we're making a decision\n",
    "# in code, we make decisions using if/else\n",
    "\n",
    "# if (expression):\n",
    "    # do something\n",
    "# else:\n",
    "    # do something else\n",
    "    \n",
    "# if expression is true, do something\n",
    "# else, do something else"
   ]
  },
  {
   "cell_type": "code",
   "execution_count": 7,
   "metadata": {},
   "outputs": [],
   "source": [
    "def evenNumberCheck(myNum):\n",
    "    if (myNum % 2 == 0):\n",
    "        # why two equals? Because = is the assignment operator\n",
    "        # == checks for equality\n",
    "        print(\"The number is even!\")\n",
    "    else:\n",
    "        print(\"The number is odd!\")"
   ]
  },
  {
   "cell_type": "code",
   "execution_count": 14,
   "metadata": {},
   "outputs": [
    {
     "name": "stdout",
     "output_type": "stream",
     "text": [
      "The number is even!\n"
     ]
    }
   ],
   "source": [
    "evenNumberCheck(0)"
   ]
  },
  {
   "cell_type": "code",
   "execution_count": 15,
   "metadata": {},
   "outputs": [
    {
     "name": "stdout",
     "output_type": "stream",
     "text": [
      "we just wrote a function\n"
     ]
    }
   ],
   "source": [
    "# let's talk about whitespace\n",
    "def oddNumberCheck(myNum):\n",
    "    if (myNum % 2 == 1):\n",
    "        print(\"The number is odd\")\n",
    "        print(\"The number is odd\")\n",
    "        print(\"The number is odd\")\n",
    "        # anything that is indeted after the if statement will run\n",
    "        # if the expression is true\n",
    "    else:\n",
    "        print(\"The number is even\")\n",
    "    #notice the whitespace\n",
    "    # indenting tells us \"where things live\"\n",
    "    #everything in the function is indented one tab\n",
    "print(\"we just wrote a function\")\n"
   ]
  },
  {
   "cell_type": "code",
   "execution_count": 17,
   "metadata": {},
   "outputs": [
    {
     "name": "stdout",
     "output_type": "stream",
     "text": [
      "The number is odd\n",
      "The number is odd\n",
      "The number is odd\n"
     ]
    }
   ],
   "source": [
    "oddNumberCheck(99)"
   ]
  },
  {
   "cell_type": "code",
   "execution_count": 18,
   "metadata": {},
   "outputs": [],
   "source": [
    "# anytime we make a decision in code, we use if/else\n",
    "#vwe call if/else a control structure"
   ]
  },
  {
   "cell_type": "code",
   "execution_count": 19,
   "metadata": {},
   "outputs": [],
   "source": [
    "# there are a few ways to check things\n",
    "# == tests for equality\n",
    "# > left side greater than the right side\n",
    "# < left side less than the right side\n",
    "# >= greater than or equal to\n",
    "# <= less than or equal to\n",
    "# != not equal"
   ]
  },
  {
   "cell_type": "code",
   "execution_count": 25,
   "metadata": {},
   "outputs": [],
   "source": [
    "# write a function that testts if two numbers are equal. If they are, print \"numbers are equal\". If they are not, print\n",
    "# \"numbers are not equal\"\n",
    "def testEquality(num1, num2):\n",
    "    if (num1 == num2):\n",
    "        print(\"equal\")\n",
    "    else:\n",
    "        print(\"not equal\")"
   ]
  },
  {
   "cell_type": "code",
   "execution_count": 26,
   "metadata": {},
   "outputs": [
    {
     "name": "stdout",
     "output_type": "stream",
     "text": [
      "not equal\n"
     ]
    }
   ],
   "source": [
    "testEquality(9,11)"
   ]
  },
  {
   "cell_type": "code",
   "execution_count": 27,
   "metadata": {},
   "outputs": [
    {
     "name": "stdout",
     "output_type": "stream",
     "text": [
      "not equal\n"
     ]
    }
   ],
   "source": [
    "# you can test the equality with strings\n",
    "testEquality(\"dogs\", \"cats\")"
   ]
  },
  {
   "cell_type": "code",
   "execution_count": 30,
   "metadata": {},
   "outputs": [],
   "source": [
    "def testEqualityDeux(thing1, thing2):\n",
    "    if (thing1 != thing2):\n",
    "        print(\"things are not equal\")\n",
    "    else:\n",
    "        print(\"things are equal\")"
   ]
  },
  {
   "cell_type": "code",
   "execution_count": 31,
   "metadata": {},
   "outputs": [
    {
     "name": "stdout",
     "output_type": "stream",
     "text": [
      "things are equal\n"
     ]
    }
   ],
   "source": [
    "testEqualityDeux(\"cat\", \"cat\")"
   ]
  },
  {
   "cell_type": "code",
   "execution_count": 37,
   "metadata": {},
   "outputs": [],
   "source": [
    "# what if I want to test something and if it's true do something, otherwise, do nothing?\n",
    "\n",
    "def do(var1, var2):\n",
    "    if (var1 == var2):\n",
    "\n",
    "        \n",
    "    else:\n",
    "        exit()"
   ]
  },
  {
   "cell_type": "code",
   "execution_count": 4,
   "metadata": {},
   "outputs": [
    {
     "name": "stdout",
     "output_type": "stream",
     "text": [
      "make breakfast\n",
      "post snap of breakfast\n",
      "eat breakfast\n"
     ]
    }
   ],
   "source": [
    "numEggs = 4\n",
    "if (numEggs>= 3):\n",
    "    print(\"make breakfast\")\n",
    "    print(\"post snap of breakfast\")\n",
    "    print(\"eat breakfast\")"
   ]
  },
  {
   "cell_type": "code",
   "execution_count": 11,
   "metadata": {},
   "outputs": [
    {
     "name": "stdout",
     "output_type": "stream",
     "text": [
      "Number is greater than 10 and even\n"
     ]
    }
   ],
   "source": [
    "# I want to know if a number is greater than or equal to 10 and even\n",
    "myNum = 12\n",
    "if (myNum >= 10):\n",
    "    if (myNum % 2 == 0):\n",
    "        print(\"Number is greater than 10 and even\")\n",
    "    else:\n",
    "        print(\"Number is greater than 10 and odd\")\n",
    "else:\n",
    "    print(\"Number is not greater than 10\")"
   ]
  },
  {
   "cell_type": "code",
   "execution_count": 18,
   "metadata": {},
   "outputs": [
    {
     "name": "stdout",
     "output_type": "stream",
     "text": [
      "Number is either odd or less than 10\n"
     ]
    }
   ],
   "source": [
    "# Better version from above\n",
    "myNum = 13\n",
    "if (myNum >= 10 and myNum % 2 == 0):\n",
    "    print(\"Number is greater than 10 and even\")\n",
    "else:\n",
    "    print(\"Number is either odd or less than 10\")\n",
    "    \n",
    "# to combine two if statements we can use \" and \""
   ]
  },
  {
   "cell_type": "code",
   "execution_count": 21,
   "metadata": {},
   "outputs": [
    {
     "name": "stdout",
     "output_type": "stream",
     "text": [
      "myNum is greater than 30 or equal to 100\n"
     ]
    }
   ],
   "source": [
    "# Whay if you wanted to know id something is less than or equal to 30 or not\n",
    "myNum = 100\n",
    "if (myNum <= 30 or myNum !=100):\n",
    "    print(\"myNum is less than or equal to 30 or not 100\")\n",
    "else:\n",
    "    print(\"myNum is greater than 30 or equal to 100\")\n",
    "    \n",
    "# using \" or \""
   ]
  },
  {
   "cell_type": "code",
   "execution_count": 39,
   "metadata": {},
   "outputs": [
    {
     "name": "stdout",
     "output_type": "stream",
     "text": [
      "Number is greater than 10, is even, less than 100, and can be divided by 7\n"
     ]
    }
   ],
   "source": [
    "#we can string as many ands and ors together as we want, but it might be useful to start using parentheses\n",
    "myNumber = 28\n",
    "if ((myNumber > 10) and (myNumber % 2 == 0) and (myNumber < 100) and (myNumber % 7 == 0)):\n",
    "    print(\"Number is greater than 10, is even, less than 100, and can be divided by 7\")\n",
    "else:\n",
    "    print(\"Number is either less than 10, or odd, or less than 100, or cannot be divided by 7\")\n",
    "    "
   ]
  },
  {
   "cell_type": "code",
   "execution_count": 46,
   "metadata": {},
   "outputs": [
    {
     "name": "stdout",
     "output_type": "stream",
     "text": [
      "myNumber is less than 40 and odd and not divisible by 5\n"
     ]
    }
   ],
   "source": [
    "# for ands, all conditions need to be true\n",
    "# for ors, only one condition needs to be true\n",
    "\n",
    "# check if my number is greater than 40 or even divisible by 4\n",
    "myNumber = 1\n",
    "if (myNumber > 40 or myNumber % 2 == 0 or myNumber % 5 ==0):\n",
    "    print(\"myNumber is either greater than 40 or even or evenly divisible by 5\")\n",
    "else:\n",
    "    print(\"myNumber is less than 40 and odd and not divisible by 5\")"
   ]
  },
  {
   "cell_type": "code",
   "execution_count": null,
   "metadata": {},
   "outputs": [],
   "source": [
    "# what happens if we need to make a decision among multiple options?\n",
    "# burrito, sausage, bacon, hashbrowns\n",
    "# if/else will not cut it\n",
    "# SOMETHING NEW!\n",
    "    # if, elif, else\n",
    "# elif = else if"
   ]
  }
 ],
 "metadata": {
  "kernelspec": {
   "display_name": "Python 3",
   "language": "python",
   "name": "python3"
  },
  "language_info": {
   "codemirror_mode": {
    "name": "ipython",
    "version": 3
   },
   "file_extension": ".py",
   "mimetype": "text/x-python",
   "name": "python",
   "nbconvert_exporter": "python",
   "pygments_lexer": "ipython3",
   "version": "3.7.3"
  }
 },
 "nbformat": 4,
 "nbformat_minor": 2
}
