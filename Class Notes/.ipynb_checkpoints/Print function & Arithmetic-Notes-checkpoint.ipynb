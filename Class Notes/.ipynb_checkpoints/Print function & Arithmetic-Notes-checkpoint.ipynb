{
 "cells": [
  {
   "cell_type": "code",
   "execution_count": 7,
   "metadata": {},
   "outputs": [
    {
     "name": "stdout",
     "output_type": "stream",
     "text": [
      "Hello World!\n"
     ]
    }
   ],
   "source": [
    "# this is a comment\n",
    "# anything after a pound sign doesn't get interpreted as code\n",
    "\n",
    "#first thing called \"Hello World\"\n",
    "# use the function || print()\n",
    "print(\"Hello World!\")\n",
    "\n",
    "# \"Hellow World!\" is a string\n"
   ]
  },
  {
   "cell_type": "code",
   "execution_count": 9,
   "metadata": {},
   "outputs": [],
   "source": [
    "# function and variables\n",
    "# functions do things with variables\n",
    "#variables can vary, such as holding values "
   ]
  },
  {
   "cell_type": "code",
   "execution_count": 13,
   "metadata": {},
   "outputs": [],
   "source": [
    "greeting = \"Howdy World\"\n",
    "#variable name on the left\n",
    "#what's in the variable is on the right\n",
    "#The equal sign is called the \"ASSIGNMENT OPERATOR\"\n",
    "#it assign what's on the right to the variable on the left"
   ]
  },
  {
   "cell_type": "code",
   "execution_count": 15,
   "metadata": {},
   "outputs": [
    {
     "name": "stdout",
     "output_type": "stream",
     "text": [
      "Howdy World\n"
     ]
    }
   ],
   "source": [
    "print(greeting)"
   ]
  },
  {
   "cell_type": "code",
   "execution_count": 18,
   "metadata": {},
   "outputs": [],
   "source": [
    "# Rules of variables\n",
    "    #variable names cannot begin with numbers\n",
    "        # 12variable = \"Hey!\"  <--Syntax ERROR\n",
    "    #variables cannot have the same name as it's keyword(Resevered code-call)\n",
    "        #There are 33 keywords, such as the if, else, elif, then functions"
   ]
  },
  {
   "cell_type": "code",
   "execution_count": 20,
   "metadata": {},
   "outputs": [],
   "source": [
    "#Ways to name variables\n",
    "    # camelCase: myVariables, helpMe\n",
    "    #snake_case: my_variable, help_me\n",
    "    "
   ]
  },
  {
   "cell_type": "code",
   "execution_count": 33,
   "metadata": {},
   "outputs": [],
   "source": [
    "#What can we do with variables?\n",
    "#We assign stuff to them, we store things\n",
    "#variables have values, these values can be differentiated from one another\n",
    "#by their data type\n",
    "\n",
    "#What's data type?\n",
    "#A data type says what kind of thing a value is\n",
    "myNum = 47 #47 is an integer, it is a whole number\n",
    "greeting = \"boy howdy!\"  #\"boy howdy!\" is a string\n",
    "#string is any number of chatracters, from 0 to a large number\n",
    "#these characters are inside of quotation marks\n",
    "numberGreeting = \"33\" #this is a string\n",
    "floatNum = 3.145769 #this float is a number with a decimal"
   ]
  },
  {
   "cell_type": "code",
   "execution_count": 36,
   "metadata": {},
   "outputs": [
    {
     "name": "stdout",
     "output_type": "stream",
     "text": [
      "50.145769\n"
     ]
    }
   ],
   "source": [
    "#what can you do with numbers?\n",
    "#Math\n",
    "sumation = myNum + floatNum\n",
    "print(sumation)"
   ]
  },
  {
   "cell_type": "code",
   "execution_count": 43,
   "metadata": {},
   "outputs": [
    {
     "name": "stdout",
     "output_type": "stream",
     "text": [
      "53\n"
     ]
    }
   ],
   "source": [
    "subtraction = 100 - myNum\n",
    "print(subtraction)"
   ]
  },
  {
   "cell_type": "code",
   "execution_count": 45,
   "metadata": {
    "scrolled": true
   },
   "outputs": [
    {
     "name": "stdout",
     "output_type": "stream",
     "text": [
      "94\n"
     ]
    }
   ],
   "source": [
    "multiplication = 2*myNum\n",
    "print(multiplication)"
   ]
  },
  {
   "cell_type": "code",
   "execution_count": 48,
   "metadata": {},
   "outputs": [
    {
     "name": "stdout",
     "output_type": "stream",
     "text": [
      "23.5\n"
     ]
    }
   ],
   "source": [
    "division = myNum/2\n",
    "print(division)"
   ]
  },
  {
   "cell_type": "code",
   "execution_count": 56,
   "metadata": {},
   "outputs": [
    {
     "name": "stdout",
     "output_type": "stream",
     "text": [
      "floorDivision: 23\n",
      "modulo: 1\n"
     ]
    }
   ],
   "source": [
    "#how do we do division and get a whole number?\n",
    "#floor division\n",
    "floorDivision = myNum // 2\n",
    "modulo = myNum % 2\n",
    "print(\"floorDivision: \" + str(floorDivision))\n",
    "print(\"modulo: \" + str(modulo))"
   ]
  },
  {
   "cell_type": "code",
   "execution_count": 64,
   "metadata": {},
   "outputs": [
    {
     "name": "stdout",
     "output_type": "stream",
     "text": [
      "boy howdy!boy howdy!boy howdy!boy howdy!\n"
     ]
    }
   ],
   "source": [
    "# (some) operators also work on strings\n",
    "print(greeting+greeting+greeting+greeting)\n",
    "#this is called string concatenation"
   ]
  },
  {
   "cell_type": "code",
   "execution_count": 65,
   "metadata": {
    "scrolled": true
   },
   "outputs": [
    {
     "name": "stdout",
     "output_type": "stream",
     "text": [
      "boy howdy!boy howdy!boy howdy!boy howdy!\n"
     ]
    }
   ],
   "source": [
    "#you can also multiply stings\n",
    "print(greeting*4)"
   ]
  },
  {
   "cell_type": "code",
   "execution_count": 68,
   "metadata": {
    "scrolled": true
   },
   "outputs": [
    {
     "name": "stdout",
     "output_type": "stream",
     "text": [
      "boy howdy! boy howdy! boy howdy! boy howdy!\n"
     ]
    }
   ],
   "source": [
    "#You can use comma's (,) in order to create space betweeb strings\n",
    "print(greeting,greeting,greeting,greeting)"
   ]
  },
  {
   "cell_type": "code",
   "execution_count": 73,
   "metadata": {
    "scrolled": false
   },
   "outputs": [
    {
     "name": "stdout",
     "output_type": "stream",
     "text": [
      "Dividing 1234 by 3 gives us 411 and a remainder of 1\n",
      "1234\n"
     ]
    }
   ],
   "source": [
    "#write a sentence that describes the results of some math\n",
    "myNumber = 1234\n",
    "#lets divide it by 2 and output result(floor division and remainder)\n",
    "divis = myNumber // 3\n",
    "remainder = myNumber % 3\n",
    "print(\"Dividing \" + str(myNumber) + \" by 3 gives us \" + str(divis) + \" and a remainder of \" + str(remainder))"
   ]
  },
  {
   "cell_type": "code",
   "execution_count": 9,
   "metadata": {},
   "outputs": [],
   "source": [
    "# the print() function can only print out string values and not integers in concatenations, thus use str() function\n",
    "#to turn integers into strings"
   ]
  },
  {
   "cell_type": "code",
   "execution_count": 12,
   "metadata": {},
   "outputs": [
    {
     "name": "stdout",
     "output_type": "stream",
     "text": [
      "9.0\n",
      "4.333333333333333\n"
     ]
    }
   ],
   "source": [
    "#Order of operation: PEMDAS(Parentheses, exponents, multiply, divide, add, subtract)\n",
    "print(3+4+6/3)\n",
    "print((3+4+6)/3)"
   ]
  },
  {
   "cell_type": "code",
   "execution_count": 22,
   "metadata": {},
   "outputs": [
    {
     "name": "stdout",
     "output_type": "stream",
     "text": [
      "The population at the end of the year is 339776857\n"
     ]
    }
   ],
   "source": [
    "# US Census\n",
    "#start population\n",
    "#the populations changes via births, deaths, and immigration\n",
    "\n",
    "#in a year, there is a birth every 2 seconds\n",
    "#in a year, there is one person who dies every 7 seconds\n",
    "#in a year, there is a new immigrant every 24 seconds\n",
    "\n",
    "#pseudocode\n",
    "#pseudocode is \"common langugae\" that explains what your code is going to do\n",
    "#without using any actual code\n",
    "#pseudocode is like a recipe for code\n",
    "\n",
    "#given a starting population and the above information(rates of birth, deaths, and immigration), what is the us popukation\n",
    "#in one year\n",
    "\n",
    "#the final population will be the start population plus births per year\n",
    "#plus immigration in one year\n",
    "#minus deaths in one year\n",
    "\n",
    "#one year has 31536000 seconds\n",
    "timeYr = 31536000\n",
    "population = 327200000\n",
    "growthRate = ((timeYr/2) + (timeYr/24))-(timeYr/7)\n",
    "netPop = population + growthRate\n",
    "\n",
    "print(\"The population at the end of the year is \" + str(round(netPop)))\n",
    "\n",
    "#When solving problems, you always need to think about what you're calculating\n",
    "#Ask yourself does it make sense"
   ]
  },
  {
   "cell_type": "code",
   "execution_count": 44,
   "metadata": {},
   "outputs": [
    {
     "name": "stdout",
     "output_type": "stream",
     "text": [
      "There are 2 pounds and 2 ounces in 34 ounces\n"
     ]
    }
   ],
   "source": [
    "# given a weight in ounces, how many pounds and ounces are there?\n",
    "#for example, there are 2 pounds and 2 ounces in 34 ounces\n",
    "\n",
    "#given a weight in ounces, calculate the number of pounds and ounces in that weight\n",
    "#what are is/our given(s): a weight in ounces\n",
    "#what are we solving for: weight in pounds and remaining ounces\n",
    "\n",
    "#calculate number of pounds: floor divide given number of ounces by 16\n",
    "#calculate remaining ounces: modulo given number of ounces by 16\n",
    "\n",
    "startOunces = 34\n",
    "numPounds = startOunces // 16\n",
    "numOunces = startOunces % 16\n",
    "print(\"There are \"+ str(numPounds) +  \" pounds and \" + str(numOunces) + \" ounces in \" + str(startOunces) + \" ounces\")"
   ]
  },
  {
   "cell_type": "code",
   "execution_count": null,
   "metadata": {},
   "outputs": [],
   "source": []
  },
  {
   "cell_type": "code",
   "execution_count": null,
   "metadata": {},
   "outputs": [],
   "source": []
  },
  {
   "cell_type": "code",
   "execution_count": null,
   "metadata": {},
   "outputs": [],
   "source": []
  },
  {
   "cell_type": "code",
   "execution_count": null,
   "metadata": {},
   "outputs": [],
   "source": []
  },
  {
   "cell_type": "code",
   "execution_count": null,
   "metadata": {},
   "outputs": [],
   "source": []
  },
  {
   "cell_type": "code",
   "execution_count": null,
   "metadata": {},
   "outputs": [],
   "source": []
  },
  {
   "cell_type": "code",
   "execution_count": null,
   "metadata": {},
   "outputs": [],
   "source": []
  },
  {
   "cell_type": "code",
   "execution_count": null,
   "metadata": {},
   "outputs": [],
   "source": []
  },
  {
   "cell_type": "code",
   "execution_count": null,
   "metadata": {},
   "outputs": [],
   "source": []
  },
  {
   "cell_type": "code",
   "execution_count": 26,
   "metadata": {},
   "outputs": [],
   "source": [
    "registered = {}\n"
   ]
  },
  {
   "cell_type": "code",
   "execution_count": 37,
   "metadata": {},
   "outputs": [
    {
     "name": "stdout",
     "output_type": "stream",
     "text": [
      "Your username: josh \n",
      "your password: truong\n"
     ]
    }
   ],
   "source": [
    "x = input(\"Your username: \")\n",
    "y = input(\"your password: \")\n",
    "registered.update({'x':'y'})"
   ]
  },
  {
   "cell_type": "code",
   "execution_count": 40,
   "metadata": {},
   "outputs": [
    {
     "data": {
      "text/plain": [
       "'y'"
      ]
     },
     "execution_count": 40,
     "metadata": {},
     "output_type": "execute_result"
    }
   ],
   "source": [
    "registered['x']"
   ]
  },
  {
   "cell_type": "code",
   "execution_count": 33,
   "metadata": {},
   "outputs": [
    {
     "data": {
      "text/plain": [
       "'y'"
      ]
     },
     "execution_count": 33,
     "metadata": {},
     "output_type": "execute_result"
    }
   ],
   "source": []
  },
  {
   "cell_type": "code",
   "execution_count": 10,
   "metadata": {},
   "outputs": [
    {
     "name": "stdout",
     "output_type": "stream",
     "text": [
      "\n"
     ]
    }
   ],
   "source": [
    "x=0\n",
    "f = open(\"dataStore.txt\", \"a+\")\n",
    "while x<= 10:\n",
    "    f.write(str(x) + \"\\n\")\n",
    "    x+=1\n",
    "\n",
    "print(f.read())\n",
    "f.close()\n"
   ]
  }
 ],
 "metadata": {
  "kernelspec": {
   "display_name": "Python 3",
   "language": "python",
   "name": "python3"
  },
  "language_info": {
   "codemirror_mode": {
    "name": "ipython",
    "version": 3
   },
   "file_extension": ".py",
   "mimetype": "text/x-python",
   "name": "python",
   "nbconvert_exporter": "python",
   "pygments_lexer": "ipython3",
   "version": "3.7.3"
  }
 },
 "nbformat": 4,
 "nbformat_minor": 2
}
