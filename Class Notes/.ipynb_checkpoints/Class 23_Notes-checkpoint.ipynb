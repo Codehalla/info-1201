{
 "cells": [
  {
   "cell_type": "code",
   "execution_count": 1,
   "metadata": {},
   "outputs": [],
   "source": [
    "# we need one more tool before we're ready to start tackling some twitter data. If you have a tweet\n",
    "tweet = \"The best flavor @glaciericecream serves is #coffeecaramelcrunh, though it's unfair to make me pick just one\"\n",
    "# we're going to want to start lookin at individual words to see what people are talking about"
   ]
  },
  {
   "cell_type": "code",
   "execution_count": 2,
   "metadata": {},
   "outputs": [],
   "source": [
    "# if you have a string that contains multople words, e.g.,, a sentence , how do you look at each word?\n",
    "# we need to look at each word. we know we can look at each letter in a string, but we really want to\n",
    "# look at each word\n",
    "# we can use the split function\n",
    "#---------------------------------------\n",
    "# syntax: wordsList = stirngName.split()\n",
    "# split() by default, splits up strings by whitespace, so basically word by word\n",
    "# split return a list, and each word from the string is an item in that list"
   ]
  },
  {
   "cell_type": "code",
   "execution_count": 4,
   "metadata": {},
   "outputs": [
    {
     "name": "stdout",
     "output_type": "stream",
     "text": [
      "['The', 'best', 'flavor', '@glaciericecream', 'serves', 'is', '#coffeecaramelcrunh,', 'though', \"it's\", 'unfair', 'to', 'make', 'me', 'pick', 'just', 'one']\n"
     ]
    }
   ],
   "source": [
    "tweetWords = tweet.split()\n",
    "print(tweetWords)\n",
    "# tweetWords is a list, where the things in the list are the words from the tweet, in order"
   ]
  },
  {
   "cell_type": "code",
   "execution_count": 5,
   "metadata": {},
   "outputs": [
    {
     "name": "stdout",
     "output_type": "stream",
     "text": [
      "['COFFEE', 'AND', 'OTHER', 'STUFF']\n"
     ]
    }
   ],
   "source": [
    "# whitespace does not matter how much whitesace is between words, split will split on any amount \n",
    "# of whitespace\n",
    "anotherString = \"COFFEE       AND      OTHER      STUFF\"\n",
    "moreWords = anotherString.split()\n",
    "print(moreWords)"
   ]
  },
  {
   "cell_type": "code",
   "execution_count": 9,
   "metadata": {},
   "outputs": [
    {
     "name": "stdout",
     "output_type": "stream",
     "text": [
      "The\n",
      "best\n",
      "flavor\n",
      "@glaciericecream\n",
      "serves\n",
      "is\n",
      "#coffeecaramelcrunh,\n",
      "though\n",
      "it's\n",
      "unfair\n",
      "to\n",
      "make\n",
      "me\n",
      "pick\n",
      "just\n",
      "one\n"
     ]
    }
   ],
   "source": [
    "# now we have a list of words. how do i look at each word? #forloop\n",
    "# loop through tweetWords using a for loop\n",
    "# Method 1\n",
    "for i in range(0, len(tweetWords)):\n",
    "    print(tweetWords[i])"
   ]
  },
  {
   "cell_type": "code",
   "execution_count": 11,
   "metadata": {},
   "outputs": [
    {
     "name": "stdout",
     "output_type": "stream",
     "text": [
      "The\n",
      "best\n",
      "flavor\n",
      "@glaciericecream\n",
      "serves\n",
      "is\n",
      "#coffeecaramelcrunh,\n",
      "though\n",
      "it's\n",
      "unfair\n",
      "to\n",
      "make\n",
      "me\n",
      "pick\n",
      "just\n",
      "one\n"
     ]
    }
   ],
   "source": [
    "# Method 2\n",
    "for word in tweetWords:\n",
    "    print(word)"
   ]
  },
  {
   "cell_type": "code",
   "execution_count": 26,
   "metadata": {},
   "outputs": [
    {
     "name": "stdout",
     "output_type": "stream",
     "text": [
      "There are no use of @ or #\n",
      "There are no use of @ or #\n",
      "There are no use of @ or #\n",
      "@glaciericecream\n",
      "There are no use of @ or #\n",
      "There are no use of @ or #\n",
      "#coffeecaramelcrunh,\n",
      "There are no use of @ or #\n",
      "There are no use of @ or #\n",
      "There are no use of @ or #\n",
      "There are no use of @ or #\n",
      "There are no use of @ or #\n",
      "There are no use of @ or #\n",
      "There are no use of @ or #\n",
      "There are no use of @ or #\n",
      "There are no use of @ or #\n"
     ]
    }
   ],
   "source": [
    "for word in tweetWords:\n",
    "    if (\"@\" in word):\n",
    "        print(word)\n",
    "    elif (\"#\" in word):\n",
    "        print(word)\n",
    "    else:\n",
    "        print(\"There are no use of @ or #\")"
   ]
  },
  {
   "cell_type": "code",
   "execution_count": 27,
   "metadata": {},
   "outputs": [],
   "source": [
    "# Some words have more meaning depending on our needs\n",
    "    # @ symbol is used to mention someone\n",
    "    # # used to state a category"
   ]
  },
  {
   "cell_type": "code",
   "execution_count": 58,
   "metadata": {},
   "outputs": [
    {
     "name": "stdout",
     "output_type": "stream",
     "text": [
      "@glaciericecream is a mention\n",
      "#coffeecaramelcrunh, is a hashtag\n",
      "#noJoke is a hashtag\n",
      "#icecream is a hashtag\n"
     ]
    }
   ],
   "source": [
    "tweet = \"The best flavor @glaciericecream serves is #coffeecaramelcrunh, though it's unfair to make me pick just one #noJoke #icecream\"\n",
    "tweetList = tweet.split()\n",
    "\n",
    "# for loop --> word\n",
    "    # index into the first letter of the word to see if it is a # or @\n",
    "    # if word[0] is a # or @\n",
    "        # if word[0] is a #\n",
    "            # print the word and that it is a #\n",
    "        # elif word[0] is an @\n",
    "            # print the word and that it is a @\n",
    "\n",
    "# Method 1\n",
    "for word in tweetList:\n",
    "    if (word[0] == \"#\"):\n",
    "        print(word + \" is a hashtag\")\n",
    "    elif (word[0] == \"@\"):\n",
    "        print(word + \" is a mention\")"
   ]
  },
  {
   "cell_type": "code",
   "execution_count": 59,
   "metadata": {},
   "outputs": [
    {
     "name": "stdout",
     "output_type": "stream",
     "text": [
      "@glaciericecream\n",
      "#coffeecaramelcrunh,\n",
      "#noJoke\n",
      "#icecream\n"
     ]
    }
   ],
   "source": [
    "# Method 2\n",
    "for word in tweetList:\n",
    "    if (\"#\" in word):\n",
    "        print(word)\n",
    "    elif (\"@\" in word):\n",
    "        print(word)"
   ]
  },
  {
   "cell_type": "code",
   "execution_count": null,
   "metadata": {},
   "outputs": [],
   "source": []
  }
 ],
 "metadata": {
  "kernelspec": {
   "display_name": "Python 3",
   "language": "python",
   "name": "python3"
  },
  "language_info": {
   "codemirror_mode": {
    "name": "ipython",
    "version": 3
   },
   "file_extension": ".py",
   "mimetype": "text/x-python",
   "name": "python",
   "nbconvert_exporter": "python",
   "pygments_lexer": "ipython3",
   "version": "3.7.3"
  }
 },
 "nbformat": 4,
 "nbformat_minor": 2
}
