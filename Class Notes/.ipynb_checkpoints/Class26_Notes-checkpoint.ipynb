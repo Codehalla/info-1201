{
 "cells": [
  {
   "cell_type": "code",
   "execution_count": 1,
   "metadata": {},
   "outputs": [],
   "source": [
    "# more loops \n",
    "# for loops: either implicitly or explicitly know how man times we're going to loop\n",
    "# for i in range(0,6) --> explici: we're going to loop 6 times\n",
    "# for item in list --> implicit: we know implicitly how many times we're going to loop\n",
    "# by the number of things in the list"
   ]
  },
  {
   "cell_type": "code",
   "execution_count": 15,
   "metadata": {},
   "outputs": [],
   "source": [
    "# what do we do when we don't know how many times we're going to loop?\n",
    "# for loops won't work\n",
    "# Introduction to While Loops:\n",
    "    # syntax\n",
    "        # while(someExpression):\n",
    "            # Do something\n",
    "# While someExpression is True, the code under \"do somethting\" will run\n",
    "# and it will keep running as long as someExpression is True\n",
    "# it will stop running when someExpression is False"
   ]
  },
  {
   "cell_type": "code",
   "execution_count": 22,
   "metadata": {},
   "outputs": [
    {
     "name": "stdout",
     "output_type": "stream",
     "text": [
      "0\n",
      "1\n",
      "2\n",
      "3\n",
      "4\n",
      "5\n",
      "6\n",
      "7\n",
      "8\n",
      "9\n",
      "We are done with our loop\n"
     ]
    }
   ],
   "source": [
    "counter = 0\n",
    "while (counter < 10):\n",
    "    print(counter)\n",
    "    counter += 1   # this is the important part, without the counter the while loop will run forever\n",
    "print(\"We are done with our loop\")"
   ]
  },
  {
   "cell_type": "code",
   "execution_count": 24,
   "metadata": {},
   "outputs": [
    {
     "name": "stdout",
     "output_type": "stream",
     "text": [
      "0\n",
      "1\n",
      "2\n",
      "3\n",
      "4\n",
      "5\n",
      "6\n",
      "7\n",
      "8\n",
      "9\n",
      "10\n",
      "We are done with our loop\n"
     ]
    }
   ],
   "source": [
    "for i in range(0,11):\n",
    "    print(i)\n",
    "print(\"We are done with our loop\")"
   ]
  },
  {
   "cell_type": "code",
   "execution_count": 1,
   "metadata": {},
   "outputs": [
    {
     "name": "stdout",
     "output_type": "stream",
     "text": [
      "Type Something: tea\n",
      "tea\n"
     ]
    }
   ],
   "source": [
    "# Input from the keyboard\n",
    "myInput = input(\"Type Something: \")\n",
    "print(myInput)"
   ]
  },
  {
   "cell_type": "code",
   "execution_count": null,
   "metadata": {},
   "outputs": [],
   "source": [
    "# if you don't put any text inside the input function, you won't see any text before the textbox"
   ]
  },
  {
   "cell_type": "code",
   "execution_count": 1,
   "metadata": {},
   "outputs": [
    {
     "name": "stdout",
     "output_type": "stream",
     "text": [
      "Hello! What would you like today?\n",
      "food\n",
      "Okay! Here's your food\n",
      "Would you like anything else?\n",
      "Nothing\n",
      "Okay! Thanks for your order.\n"
     ]
    }
   ],
   "source": [
    "# bartista simulation\n",
    "print(\"Hello! What would you like today?\")\n",
    "order = input()\n",
    "while (order != \"Nothing\"):\n",
    "    print(\"Okay! Here's your \" + order)\n",
    "    print(\"Would you like anything else?\")\n",
    "    order = input()\n",
    "print(\"Okay! Thanks for your order.\")"
   ]
  },
  {
   "cell_type": "code",
   "execution_count": null,
   "metadata": {},
   "outputs": [],
   "source": []
  },
  {
   "cell_type": "code",
   "execution_count": null,
   "metadata": {},
   "outputs": [],
   "source": []
  }
 ],
 "metadata": {
  "kernelspec": {
   "display_name": "Python 3",
   "language": "python",
   "name": "python3"
  },
  "language_info": {
   "codemirror_mode": {
    "name": "ipython",
    "version": 3
   },
   "file_extension": ".py",
   "mimetype": "text/x-python",
   "name": "python",
   "nbconvert_exporter": "python",
   "pygments_lexer": "ipython3",
   "version": "3.7.3"
  }
 },
 "nbformat": 4,
 "nbformat_minor": 2
}
