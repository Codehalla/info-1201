{
 "cells": [
  {
   "cell_type": "code",
   "execution_count": 12,
   "metadata": {},
   "outputs": [],
   "source": [
    "# Write a function that checks which whole numbers within a range of numbers are evenly divisible by a\n",
    "# particular number. \n",
    "# Your function should take 3 parameters: the first is the first number that should be checked, the second\n",
    "# is the last number that should be and the last number is the divisor (The number we're dividing by).\n",
    "# Check each number in the range to see if it is evenly divisible by the divisor.\n",
    "# If so , print:\n",
    "\n",
    "# X is evenly divisible by divisor\n",
    "# where X is the number that's being checked and divisor is the divisor. Start with function\n",
    "\n",
    "def checkIfDivisibleBy(startNum, stopNum, divisor):\n",
    "        for i in range(startNum, stopNum + 1):\n",
    "            if (i % divisor == 0):\n",
    "                print(str(i) + \" is evenly divisible by \" + str(divisor))\n"
   ]
  },
  {
   "cell_type": "code",
   "execution_count": 13,
   "metadata": {},
   "outputs": [
    {
     "name": "stdout",
     "output_type": "stream",
     "text": [
      "8 is evenly divisible by 4\n",
      "12 is evenly divisible by 4\n",
      "16 is evenly divisible by 4\n",
      "20 is evenly divisible by 4\n",
      "24 is evenly divisible by 4\n",
      "28 is evenly divisible by 4\n"
     ]
    }
   ],
   "source": [
    "checkIfDivisibleBy(7,28,4)"
   ]
  },
  {
   "cell_type": "code",
   "execution_count": null,
   "metadata": {},
   "outputs": [],
   "source": []
  }
 ],
 "metadata": {
  "kernelspec": {
   "display_name": "Python 3",
   "language": "python",
   "name": "python3"
  },
  "language_info": {
   "codemirror_mode": {
    "name": "ipython",
    "version": 3
   },
   "file_extension": ".py",
   "mimetype": "text/x-python",
   "name": "python",
   "nbconvert_exporter": "python",
   "pygments_lexer": "ipython3",
   "version": "3.7.3"
  }
 },
 "nbformat": 4,
 "nbformat_minor": 2
}
