{
 "cells": [
  {
   "cell_type": "code",
   "execution_count": 16,
   "metadata": {},
   "outputs": [],
   "source": [
    "# define lists of tweets\n",
    "COTweets = [\"Staying in Colorado, we've selected Brandon Jones out of Air Force with the 36th overall pick. Welcome to #OutlawsNation!\",\n",
    "            \"SB 462 successfully passed out of the Senate finance committee! Colorado has a $30 billion outdoor industry with 300,000 full time jobs – we can grow our own promising outdoor recreation industry and aim to outpace our neighbors to the north! #SB462 #nmleg\",\n",
    "            \"Colorado cops detain black man at gunpoint for picking up trash: 'This is my house -- I live here'\",\n",
    "            \"I’m spending Saturday night at the Colorado Democratic Party dinner with my Democratic state representative, who happens to also be my spouse. #copolitics #coleg\", \n",
    "            \"Enjoying those Colorado views in Telluride today @CBSDenver\",\n",
    "            \"Snowpack in the Colorado mountains at this point has nearly reached 2017 proportions. 25% above average, and 89% above last year. A southern storm track should add some more big numbers to the San Juans starting Monday. #COwx #9wx\",\n",
    "            \"Very unfortunately, Colorado and the metro area are getting terribly daily reminders why more population growth and \\\"density\\\" is the exact wrong direction to go to protect our health, safety, environment, and economy. :-( #COPolitics\",\n",
    "            \"Montezuma, Colorado. And this was before the 10” they got last night #9wx #COwx\",\n",
    "            ]\n",
    "\n",
    "arnoldTweets = [\"I’m pumped up to finally share a project we’ve been working on for more than two years: @weareladder. Thank you to my partners, @CindyCrawford, @lindseyvonn, and @KingJames, and the whole team. Check it out: http://ldder.co/arnold  #lifeisaworkout\",\n",
    "               \"TRUE STRENGTH: Miles Taylor, 25, born with cerebral palsy, knows what true strength is all about - deadlifting double his weight in a viral video that has inspired so many including bodybuilding icon, Arnold @Schwarzenegger. @TomLlamasABC #AmericaStrong https://abcn.ws/2FLyzTu\"\n",
    "               \"More than 40% of California's climate pollution comes from transportation. That's a hard nut to crack, but @kdeleon & @Schwarzenegger tell me they've got a new initiative they think can make a dent:\",\n",
    "                \"In case you missed it, this video of @Schwarzenegger and @mattiseman celebrating some heroic lifters is the antidote to all the crappy stuff on this website:\",\n",
    "                \"Fantastic to schmooze today!\"]"
   ]
  },
  {
   "cell_type": "code",
   "execution_count": 17,
   "metadata": {},
   "outputs": [],
   "source": [
    "myString = \"I love ice cream\"\n",
    "words = myString.split()"
   ]
  },
  {
   "cell_type": "code",
   "execution_count": 18,
   "metadata": {},
   "outputs": [
    {
     "name": "stdout",
     "output_type": "stream",
     "text": [
      "['I', 'love', 'ice', 'cream']\n"
     ]
    }
   ],
   "source": [
    "print(words)"
   ]
  },
  {
   "cell_type": "code",
   "execution_count": 19,
   "metadata": {},
   "outputs": [
    {
     "name": "stdout",
     "output_type": "stream",
     "text": [
      "['Hello', 'please', 'answer', 'the', 'question!', '!']\n"
     ]
    }
   ],
   "source": [
    "anotherString = \"Hello      please answer the question!   !\"\n",
    "moreWords = anotherString.split()\n",
    "print(moreWords)  # split splits on ANY whitespace"
   ]
  },
  {
   "cell_type": "code",
   "execution_count": 20,
   "metadata": {},
   "outputs": [
    {
     "name": "stdout",
     "output_type": "stream",
     "text": [
      "[\"Staying in Colorado, we've selected Brandon Jones out of Air Force with the 36th overall pick. Welcome to #OutlawsNation!\", 'SB 462 successfully passed out of the Senate finance committee! Colorado has a $30 billion outdoor industry with 300,000 full time jobs – we can grow our own promising outdoor recreation industry and aim to outpace our neighbors to the north! #SB462 #nmleg', \"Colorado cops detain black man at gunpoint for picking up trash: 'This is my house -- I live here'\", 'I’m spending Saturday night at the Colorado Democratic Party dinner with my Democratic state representative, who happens to also be my spouse. #copolitics #coleg', 'Enjoying those Colorado views in Telluride today @CBSDenver', 'Snowpack in the Colorado mountains at this point has nearly reached 2017 proportions. 25% above average, and 89% above last year. A southern storm track should add some more big numbers to the San Juans starting Monday. #COwx #9wx', 'Very unfortunately, Colorado and the metro area are getting terribly daily reminders why more population growth and \"density\" is the exact wrong direction to go to protect our health, safety, environment, and economy. :-( #COPolitics', 'Montezuma, Colorado. And this was before the 10” they got last night #9wx #COwx']\n"
     ]
    }
   ],
   "source": [
    "print(COTweets)"
   ]
  },
  {
   "cell_type": "code",
   "execution_count": 21,
   "metadata": {},
   "outputs": [
    {
     "name": "stdout",
     "output_type": "stream",
     "text": [
      "Staying in Colorado, we've selected Brandon Jones out of Air Force with the 36th overall pick. Welcome to #OutlawsNation!\n",
      "Hashtag: #OutlawsNation!\n",
      "\n",
      "SB 462 successfully passed out of the Senate finance committee! Colorado has a $30 billion outdoor industry with 300,000 full time jobs – we can grow our own promising outdoor recreation industry and aim to outpace our neighbors to the north! #SB462 #nmleg\n",
      "Hashtag: #SB462\n",
      "Hashtag: #nmleg\n",
      "\n",
      "Colorado cops detain black man at gunpoint for picking up trash: 'This is my house -- I live here'\n",
      "\n",
      "I’m spending Saturday night at the Colorado Democratic Party dinner with my Democratic state representative, who happens to also be my spouse. #copolitics #coleg\n",
      "Hashtag: #copolitics\n",
      "Hashtag: #coleg\n",
      "\n",
      "Enjoying those Colorado views in Telluride today @CBSDenver\n",
      "Mention: @CBSDenver\n",
      "\n",
      "Snowpack in the Colorado mountains at this point has nearly reached 2017 proportions. 25% above average, and 89% above last year. A southern storm track should add some more big numbers to the San Juans starting Monday. #COwx #9wx\n",
      "Hashtag: #COwx\n",
      "Hashtag: #9wx\n",
      "\n",
      "Very unfortunately, Colorado and the metro area are getting terribly daily reminders why more population growth and \"density\" is the exact wrong direction to go to protect our health, safety, environment, and economy. :-( #COPolitics\n",
      "Hashtag: #COPolitics\n",
      "\n",
      "Montezuma, Colorado. And this was before the 10” they got last night #9wx #COwx\n",
      "Hashtag: #9wx\n",
      "Hashtag: #COwx\n",
      "\n"
     ]
    }
   ],
   "source": [
    "for tweet in COTweets:\n",
    "    print(tweet)\n",
    "    #print()\n",
    "    # the variable tweet is storing the contents of each tweet which is a string\n",
    "    tweetWords = tweet.split()\n",
    "    for word in tweetWords:\n",
    "        # print(word)\n",
    "        # look at first character in word to see if the word is a hashtag or a mention\n",
    "        if (word[0] == \"#\"):\n",
    "            print(\"Hashtag: \" + word)\n",
    "        elif (word[0] == \"@\"):\n",
    "            print(\"Mention: \" + word)\n",
    "    print()"
   ]
  },
  {
   "cell_type": "code",
   "execution_count": 22,
   "metadata": {},
   "outputs": [],
   "source": [
    "# let's write a function that takes a list of tweets as a parameter\n",
    "# and gets all the hashtags and the mentions"
   ]
  },
  {
   "cell_type": "code",
   "execution_count": 23,
   "metadata": {},
   "outputs": [],
   "source": [
    "def analyzeTweets(listOfTweets):\n",
    "    # iterate through each tweet\n",
    "    # iterate: \"look\" at each tweet\n",
    "    for tweet in listOfTweets:    # look at each tweet\n",
    "        tweetWords = tweet.split()\n",
    "        for word in tweetWords:        # Look at each word in tweet\n",
    "            if (word[0] == \"#\"):\n",
    "                print(\"Hashtag: \" + word)\n",
    "            elif (word[0] == \"@\"):\n",
    "                print(\"Mention: \" + word)\n",
    "            "
   ]
  },
  {
   "cell_type": "code",
   "execution_count": 24,
   "metadata": {},
   "outputs": [
    {
     "name": "stdout",
     "output_type": "stream",
     "text": [
      "Mention: @weareladder.\n",
      "Mention: @CindyCrawford,\n",
      "Mention: @lindseyvonn,\n",
      "Mention: @KingJames,\n",
      "Hashtag: #lifeisaworkout\n",
      "Mention: @Schwarzenegger.\n",
      "Mention: @TomLlamasABC\n",
      "Hashtag: #AmericaStrong\n",
      "Mention: @kdeleon\n",
      "Mention: @Schwarzenegger\n",
      "Mention: @Schwarzenegger\n",
      "Mention: @mattiseman\n"
     ]
    }
   ],
   "source": [
    "analyzeTweets(arnoldTweets)"
   ]
  },
  {
   "cell_type": "code",
   "execution_count": 25,
   "metadata": {},
   "outputs": [
    {
     "name": "stdout",
     "output_type": "stream",
     "text": [
      "Hashtag: #OutlawsNation!\n",
      "Hashtag: #SB462\n",
      "Hashtag: #nmleg\n",
      "Hashtag: #copolitics\n",
      "Hashtag: #coleg\n",
      "Mention: @CBSDenver\n",
      "Hashtag: #COwx\n",
      "Hashtag: #9wx\n",
      "Hashtag: #COPolitics\n",
      "Hashtag: #9wx\n",
      "Hashtag: #COwx\n"
     ]
    }
   ],
   "source": [
    "analyzeTweets(COTweets)"
   ]
  },
  {
   "cell_type": "code",
   "execution_count": null,
   "metadata": {},
   "outputs": [],
   "source": []
  },
  {
   "cell_type": "code",
   "execution_count": null,
   "metadata": {},
   "outputs": [],
   "source": []
  },
  {
   "cell_type": "code",
   "execution_count": null,
   "metadata": {},
   "outputs": [],
   "source": []
  },
  {
   "cell_type": "code",
   "execution_count": null,
   "metadata": {},
   "outputs": [],
   "source": []
  },
  {
   "cell_type": "code",
   "execution_count": null,
   "metadata": {},
   "outputs": [],
   "source": []
  },
  {
   "cell_type": "code",
   "execution_count": null,
   "metadata": {},
   "outputs": [],
   "source": []
  },
  {
   "cell_type": "code",
   "execution_count": null,
   "metadata": {},
   "outputs": [],
   "source": []
  },
  {
   "cell_type": "code",
   "execution_count": null,
   "metadata": {},
   "outputs": [],
   "source": []
  },
  {
   "cell_type": "code",
   "execution_count": null,
   "metadata": {},
   "outputs": [],
   "source": []
  },
  {
   "cell_type": "code",
   "execution_count": null,
   "metadata": {},
   "outputs": [],
   "source": []
  },
  {
   "cell_type": "code",
   "execution_count": null,
   "metadata": {},
   "outputs": [],
   "source": []
  },
  {
   "cell_type": "code",
   "execution_count": null,
   "metadata": {},
   "outputs": [],
   "source": []
  },
  {
   "cell_type": "code",
   "execution_count": null,
   "metadata": {},
   "outputs": [],
   "source": []
  },
  {
   "cell_type": "code",
   "execution_count": null,
   "metadata": {},
   "outputs": [],
   "source": []
  },
  {
   "cell_type": "code",
   "execution_count": null,
   "metadata": {},
   "outputs": [],
   "source": []
  },
  {
   "cell_type": "code",
   "execution_count": null,
   "metadata": {},
   "outputs": [],
   "source": [
    "\n"
   ]
  },
  {
   "cell_type": "code",
   "execution_count": 26,
   "metadata": {},
   "outputs": [],
   "source": [
    "#############################################################################################\n",
    "# MY CODE\n",
    "#############################################################################################\n",
    "\n",
    "def tweets(tweetListName):\n",
    "    links = []\n",
    "    mentions = []\n",
    "    hashtags = []\n",
    "    for i in range(0, len(tweetListName)):\n",
    "        tweetWords = tweetListName[i].split()\n",
    "        for word in tweetWords:\n",
    "            if (\"http\" in word):\n",
    "                links.append(word)\n",
    "            for letter in word:\n",
    "                if (letter == \"@\"):\n",
    "                    mentions.append(word)\n",
    "                elif (letter == \"#\"):\n",
    "                    hashtags.append(word)\n",
    "    print(\"\\n Links(\" + str(len(links)) + \")\")\n",
    "    print(links)\n",
    "    print(\"\\n Mentions(\" + str(len(mentions)) + \")\")\n",
    "    print(mentions)\n",
    "    print(\"\\n Hashtags(\" + str(len(hashtags)) + \")\")\n",
    "    print(hashtags)"
   ]
  },
  {
   "cell_type": "code",
   "execution_count": 27,
   "metadata": {
    "scrolled": true
   },
   "outputs": [
    {
     "name": "stdout",
     "output_type": "stream",
     "text": [
      "\n",
      " Links(2)\n",
      "['http://ldder.co/arnold', 'https://abcn.ws/2FLyzTuMore']\n",
      "\n",
      " Mentions(10)\n",
      "['@weareladder.', '@CindyCrawford,', '@lindseyvonn,', '@KingJames,', '@Schwarzenegger.', '@TomLlamasABC', '@kdeleon', '@Schwarzenegger', '@Schwarzenegger', '@mattiseman']\n",
      "\n",
      " Hashtags(2)\n",
      "['#lifeisaworkout', '#AmericaStrong']\n"
     ]
    }
   ],
   "source": [
    "tweets(arnoldTweets)"
   ]
  }
 ],
 "metadata": {
  "kernelspec": {
   "display_name": "Python 3",
   "language": "python",
   "name": "python3"
  },
  "language_info": {
   "codemirror_mode": {
    "name": "ipython",
    "version": 3
   },
   "file_extension": ".py",
   "mimetype": "text/x-python",
   "name": "python",
   "nbconvert_exporter": "python",
   "pygments_lexer": "ipython3",
   "version": "3.7.3"
  }
 },
 "nbformat": 4,
 "nbformat_minor": 2
}
