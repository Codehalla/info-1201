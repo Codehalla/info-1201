{
 "cells": [
  {
   "cell_type": "code",
   "execution_count": 5,
   "metadata": {},
   "outputs": [],
   "source": [
    "#simple sentiment analysis\n",
    "# we're going to count the positive words in a document\n",
    "# we're going to count the negative words in a document\n",
    "# This will give us a very basic sentiment of a document\n",
    "\n",
    "# The process is similar to finding stop words\n",
    "# We'll open a dile and read throough it word by word\n",
    "# if the word is positive, we'll increase a postive word count\n",
    "# if the word is negative, we'll increase a negative word count\n",
    "# otherwise, we'll do nothing"
   ]
  },
  {
   "cell_type": "code",
   "execution_count": 6,
   "metadata": {},
   "outputs": [],
   "source": [
    "def countPostiveWords(fileName, postiveWordFileName):\n",
    "    # open file\n",
    "    myFile = open(fileName, 'r')\n",
    "    # let's get each word out of myFile\n",
    "    allWordsList = myFile.read().split()\n",
    "    myFile.close()\n",
    "    \n",
    "    # let's get all the positive words into a list\n",
    "    posWordsFile = open(postiveWordFileName, 'r')\n",
    "    positiveWordsList = posWordsFile.read().split()\n",
    "    posWordsFile.close()\n",
    "    \n",
    "    # define a counter\n",
    "    positiveWordCounter = 0\n",
    "    \n",
    "    # iterate through the allWordsList\n",
    "    for word in allWordsList:\n",
    "        if(word in positiveWordsList):\n",
    "            # it's a positive word\n",
    "            positiveWordCounter +=1\n",
    "    print(\"There are \" + str(positiveWordCounter) + \" positive words in \" + fileName)"
   ]
  },
  {
   "cell_type": "code",
   "execution_count": 7,
   "metadata": {},
   "outputs": [
    {
     "name": "stdout",
     "output_type": "stream",
     "text": [
      "There are 1437 positive words in AllBeatlesLyrics.txt\n"
     ]
    }
   ],
   "source": [
    "countPostiveWords(\"AllBeatlesLyrics.txt\", \"positivewords-1201.txt\")"
   ]
  },
  {
   "cell_type": "code",
   "execution_count": 8,
   "metadata": {},
   "outputs": [],
   "source": [
    "def countNegativeWords(fileName, negativeWordFileName):\n",
    "    # open file\n",
    "    myFile = open(fileName, 'r')\n",
    "    # let's get each word out of myFile\n",
    "    allWordsList = myFile.read().split()\n",
    "    myFile.close()\n",
    "    \n",
    "    # let's get all the positive words into a list\n",
    "    negWordsFile = open(negativeWordFileName, 'r')\n",
    "    negativeWordsList = negWordsFile.read().split()\n",
    "    negWordsFile.close()\n",
    "    \n",
    "    # define a counter\n",
    "    negativeWordCounter = 0\n",
    "    \n",
    "    # iterate through the allWordsList\n",
    "    for word in allWordsList:\n",
    "        if(word in negativeWordsList):\n",
    "            # it's a positive word\n",
    "            negativeWordCounter +=1\n",
    "    print(\"There are \" + str(negativeWordCounter) + \" negative words in \" + fileName)"
   ]
  },
  {
   "cell_type": "code",
   "execution_count": 9,
   "metadata": {},
   "outputs": [
    {
     "name": "stdout",
     "output_type": "stream",
     "text": [
      "There are 753 negative words in AllBeatlesLyrics.txt\n"
     ]
    }
   ],
   "source": [
    "countNegativeWords(\"AllBeatlesLyrics.txt\", \"negativewords-1201.txt\")"
   ]
  },
  {
   "cell_type": "code",
   "execution_count": 10,
   "metadata": {},
   "outputs": [],
   "source": [
    "def positiveOrNegative(fileName, positiveOrNegativeWordFile, typeOfWordFile):\n",
    "    # open file\n",
    "    myFile = open(fileName, 'r')\n",
    "    # let's get each word out of myFile\n",
    "    allWordsList = myFile.read().split()\n",
    "    myFile.close()\n",
    "    \n",
    "    # let's get all the positive words into a list\n",
    "    positiveOrNegativeFile = open(positiveOrNegativeWordFile, 'r')\n",
    "    positiveOrNegativeList = positiveOrNegativeFile.read().split()\n",
    "    positiveOrNegativeFile.close()\n",
    "    \n",
    "    # define a counter\n",
    "    pOrNCount = 0\n",
    "    \n",
    "    # iterate through the allWordsList\n",
    "    for word in allWordsList:\n",
    "        if(word in positiveOrNegativeList):\n",
    "            # it's a positive word\n",
    "            pOrNCount += 1\n",
    "    print(\"There are \" + str(pOrNCount) + \" \" + typeOfWordFile + \" words in \" + fileName)\n",
    "    return pOrNCount"
   ]
  },
  {
   "cell_type": "code",
   "execution_count": 11,
   "metadata": {},
   "outputs": [
    {
     "name": "stdout",
     "output_type": "stream",
     "text": [
      "There are 1437 positive words in AllBeatlesLyrics.txt\n",
      "There are 753 negative words in AllBeatlesLyrics.txt\n"
     ]
    },
    {
     "data": {
      "text/plain": [
       "753"
      ]
     },
     "execution_count": 11,
     "metadata": {},
     "output_type": "execute_result"
    }
   ],
   "source": [
    "positiveOrNegative(\"AllBeatlesLyrics.txt\", \"positivewords-1201.txt\", \"positive\")\n",
    "positiveOrNegative(\"AllBeatlesLyrics.txt\", \"negativewords-1201.txt\", \"negative\")"
   ]
  },
  {
   "cell_type": "code",
   "execution_count": 12,
   "metadata": {},
   "outputs": [
    {
     "name": "stdout",
     "output_type": "stream",
     "text": [
      "There are 321 postive words in toollyrics.txt\n",
      "There are 549 negative words in toollyrics.txt\n"
     ]
    },
    {
     "data": {
      "text/plain": [
       "549"
      ]
     },
     "execution_count": 12,
     "metadata": {},
     "output_type": "execute_result"
    }
   ],
   "source": [
    "positiveOrNegative('toollyrics.txt', 'positivewords-1201.txt', 'postive')\n",
    "positiveOrNegative('toollyrics.txt', 'negativewords-1201.txt', 'negative')"
   ]
  },
  {
   "cell_type": "code",
   "execution_count": 13,
   "metadata": {},
   "outputs": [
    {
     "name": "stdout",
     "output_type": "stream",
     "text": [
      "There are 22 postive words in TheMandalorianS1E01.txt\n",
      "There are 11 negative words in TheMandalorianS1E01.txt\n"
     ]
    },
    {
     "data": {
      "text/plain": [
       "11"
      ]
     },
     "execution_count": 13,
     "metadata": {},
     "output_type": "execute_result"
    }
   ],
   "source": [
    "positiveOrNegative('TheMandalorianS1E01.txt', 'positivewords-1201.txt', 'postive')\n",
    "positiveOrNegative('TheMandalorianS1E01.txt', 'negativewords-1201.txt', 'negative')"
   ]
  },
  {
   "cell_type": "code",
   "execution_count": 22,
   "metadata": {},
   "outputs": [],
   "source": [
    "# sentimentAnalyzer will tak the text from a file named fileToCheck and count its negative and\n",
    "# positive words using the positiveOrNegative function.\n",
    "# sentimentAnalyzer will also take a positive words file  and a negative words file\n",
    "# as parameters (both strings)\n",
    "\n",
    "def sentimentAnalyzer(fileToCheck, positiveWordFile, negativeWordFile, stopWordsFileName):\n",
    "    # get all thr words from fileToCheck and put them in a list\n",
    "    myFile = open(fileToCheck, 'r')\n",
    "    allWordsList = myFile.read().split()\n",
    "    myFile.close\n",
    "    \n",
    "    # get the number of words that are positive?\n",
    "    # which function will do this? positiveOrNegative\n",
    "    # as that code is written, does it give us the number of positive or negative words?\n",
    "    # it doesn't, so we need to return that count\n",
    "    \n",
    "    positiveCount = positiveOrNegative(fileToCheck, positiveWordFile, 'Positive')\n",
    "    # print(\"Count: \" + str(positiveCount))\n",
    "    # get number of negative words\n",
    "    negativeCount = positiveOrNegative(fileToCheck, negativeWordFile, 'Negative')\n",
    "    \n",
    "    # we want to find out what percentage of fileToCheck is positive\n",
    "    # this is a ratio of positive words to total numbers of words\n",
    "    totalWords = len(allWordsList)\n",
    "    \n",
    "    positiveWordPercentage = round((positiveCount / totalWords) * 100, 2)\n",
    "    negativeWordPercentage = round((negativeCount / totalWords) * 100, 2)\n",
    "    \n",
    "    print(str(positiveWordPercentage) + \"% of the words in \" + fileToCheck + ' are positive')\n",
    "    print(str(negativeWordPercentage) + \"% of the words in \" + fileToCheck + ' are negative')\n",
    "    \n",
    "    # how do you determine if a text is more positive than negative? or more\n",
    "    # negative than positive?\n",
    "    \n",
    "    if (positiveCount > negativeCount):\n",
    "        # words are more positive\n",
    "        print('The text in this file is likely more positive than negative.')\n",
    "    elif (positiveCount < negativeCount):\n",
    "        print('The text in this file is likely more negative than positive.')\n",
    "    else:\n",
    "        print('The text in this file is likely no more positive than negative')\n",
    "        \n",
    "    # adding code to handle stop words\n",
    "    print()\n",
    "    print('Analysis without stop words')\n",
    "    # open our stop word file\n",
    "    stopWordsFile = open(stopWordsFileName, 'r')\n",
    "    stopWordsList = stopWordsFile.read().split()\n",
    "    stopWordsFile.close()\n",
    "    \n",
    "    # get number of stop words in fileToCheck\n",
    "    stopWordsCount = 0\n",
    "    for word in allWordsList:\n",
    "        if word in stopWordsList:\n",
    "            # current word is a stop word\n",
    "            stopWordsCount += 1\n",
    "        # how many words in fileToCheck are not stop words?\n",
    "        # totalWords: number of words in the file\n",
    "        # stopWordsCount: number of stop words in the file\n",
    "        # totalNonStopWords is the number of words that aren't stop words\n",
    "    totalNonStopWords = totalWords - stopWordsCount\n",
    "    positiveWordNSWPercentage = round(100 * (positiveCount / totalNonStopWords), 2)\n",
    "    negativeWordNSWPercentage = round(100 * (negativeCount / totalNonStopWords), 2)\n",
    "        \n",
    "    print(str(positiveWordNSWPercentage) + \"% of the words in \" + fileToCheck + ' are positive')\n",
    "    print(str(negativeWordNSWPercentage) + \"% of the words in \" + fileToCheck + ' are negative')"
   ]
  },
  {
   "cell_type": "code",
   "execution_count": 23,
   "metadata": {},
   "outputs": [
    {
     "name": "stdout",
     "output_type": "stream",
     "text": [
      "There are 22 Positive words in TheMandalorianS1E01.txt\n",
      "There are 11 Negative words in TheMandalorianS1E01.txt\n",
      "1.46% of the words in TheMandalorianS1E01.txt are positive\n",
      "0.73% of the words in TheMandalorianS1E01.txt are negative\n",
      "The text in this file is likely more positive than negative.\n",
      "\n",
      "Analysis without stop words\n",
      "2.21% of the words in TheMandalorianS1E01.txt are positive\n",
      "1.1% of the words in TheMandalorianS1E01.txt are negative\n"
     ]
    }
   ],
   "source": [
    "sentimentAnalyzer('TheMandalorianS1E01.txt', 'positivewords-1201.txt', 'negativewords-1201.txt', 'stop-word-list.txt')"
   ]
  },
  {
   "cell_type": "code",
   "execution_count": 24,
   "metadata": {},
   "outputs": [
    {
     "name": "stdout",
     "output_type": "stream",
     "text": [
      "There are 1437 Positive words in AllBeatlesLyrics.txt\n",
      "There are 753 Negative words in AllBeatlesLyrics.txt\n",
      "3.01% of the words in AllBeatlesLyrics.txt are positive\n",
      "1.58% of the words in AllBeatlesLyrics.txt are negative\n",
      "The text in this file is likely more positive than negative.\n",
      "\n",
      "Analysis without stop words\n",
      "4.78% of the words in AllBeatlesLyrics.txt are positive\n",
      "2.51% of the words in AllBeatlesLyrics.txt are negative\n"
     ]
    }
   ],
   "source": [
    "sentimentAnalyzer('AllBeatlesLyrics.txt', 'positivewords-1201.txt', 'negativewords-1201.txt', 'stop-word-list.txt')"
   ]
  },
  {
   "cell_type": "code",
   "execution_count": 25,
   "metadata": {},
   "outputs": [
    {
     "name": "stdout",
     "output_type": "stream",
     "text": [
      "There are 321 Positive words in toollyrics.txt\n",
      "There are 549 Negative words in toollyrics.txt\n",
      "2.19% of the words in toollyrics.txt are positive\n",
      "3.75% of the words in toollyrics.txt are negative\n",
      "The text in this file is likely more negative than positive.\n",
      "\n",
      "Analysis without stop words\n",
      "3.7% of the words in toollyrics.txt are positive\n",
      "6.33% of the words in toollyrics.txt are negative\n"
     ]
    }
   ],
   "source": [
    "sentimentAnalyzer('toollyrics.txt', 'positivewords-1201.txt', 'negativewords-1201.txt', 'stop-word-list.txt')"
   ]
  },
  {
   "cell_type": "code",
   "execution_count": null,
   "metadata": {},
   "outputs": [],
   "source": []
  },
  {
   "cell_type": "code",
   "execution_count": null,
   "metadata": {},
   "outputs": [],
   "source": []
  },
  {
   "cell_type": "code",
   "execution_count": 2,
   "metadata": {},
   "outputs": [
    {
     "name": "stdout",
     "output_type": "stream",
     "text": [
      "['a', 'b', 'c', 'd', 'e', 'f', 'g', 'h', 'i', 'j', 'k', 'l', 'm', 'n', 'o', 'p', 'q', 'r', 's', 't', 'u', 'v', 'w', 'x', 'y', 'x']\n"
     ]
    }
   ],
   "source": [
    "words = \"a b c d e f g h i j k l m n o p q r s t u v w x y x \"\n",
    "splitword = words.split()\n",
    "print(splitword)"
   ]
  },
  {
   "cell_type": "code",
   "execution_count": null,
   "metadata": {},
   "outputs": [],
   "source": []
  }
 ],
 "metadata": {
  "kernelspec": {
   "display_name": "Python 3",
   "language": "python",
   "name": "python3"
  },
  "language_info": {
   "codemirror_mode": {
    "name": "ipython",
    "version": 3
   },
   "file_extension": ".py",
   "mimetype": "text/x-python",
   "name": "python",
   "nbconvert_exporter": "python",
   "pygments_lexer": "ipython3",
   "version": "3.7.3"
  }
 },
 "nbformat": 4,
 "nbformat_minor": 2
}
