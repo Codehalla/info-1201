{
 "cells": [
  {
   "cell_type": "code",
   "execution_count": 10,
   "metadata": {},
   "outputs": [
    {
     "name": "stdout",
     "output_type": "stream",
     "text": [
      "myNum is divisible by 3\n"
     ]
    }
   ],
   "source": [
    "# let's test a number\n",
    "# if the number is even, say it is even\n",
    "# otherwise check if the number is evenly divisible by. If it is, say so\n",
    "# otherwise, say it is neither of these things\n",
    "myNum = 60\n",
    "if (myNum % 2 == 0):\n",
    "    print(\"myNum is even\")\n",
    "elif (myNum % 3 == 0):\n",
    "    print(\"myNum is divisible by 3\")\n",
    "else:\n",
    "    print(\"myNum is not even or divisible by 3\")\n",
    "    \n",
    "# when myNum is both even and divisible by 3, only\n",
    "# \"myNum is even\" prints. This is because only one of these blocks will evaluate fully. The \"first\" block (from top to bottom)\n",
    "# that evaulates to True will execute"
   ]
  },
  {
   "cell_type": "code",
   "execution_count": 11,
   "metadata": {},
   "outputs": [],
   "source": [
    "# We can use as many elif as we need"
   ]
  },
  {
   "cell_type": "code",
   "execution_count": 19,
   "metadata": {},
   "outputs": [],
   "source": [
    "# the expressions (the stuff after the if and elif keyword)\n",
    "# evaluates to either True or False\n",
    "# True and False represents a specific datatype\n",
    "# Boolean\n",
    "# Booleans are either True or False\n",
    "# Capilization matters! True is not true, False is not false\n",
    "\n",
    "# 1 and 0 behave like True and False respectively"
   ]
  },
  {
   "cell_type": "code",
   "execution_count": 38,
   "metadata": {},
   "outputs": [
    {
     "name": "stdout",
     "output_type": "stream",
     "text": [
      "Eat sausage\n"
     ]
    }
   ],
   "source": [
    "haveBurrito = False\n",
    "haveBacon = False\n",
    "haveHashbrowns = True\n",
    "haveSausage = True\n",
    "\n",
    "breakfast(haveBurrito, haveBacon, haveHashbrowns, haveSausage)\n",
    "\n",
    "def breakfast(haveBurrito, haveBacon, haveHashbrowns, haveSausage):\n",
    "    if (haveBurrito):\n",
    "        print(\"Eat the burrito\")\n",
    "    elif (haveSausage):\n",
    "        print(\"Eat sausage\")\n",
    "    elif (haveBacon):\n",
    "        print(\"Eat bacon\")\n",
    "    elif (haveHashbrowns):\n",
    "        print(\"Eat Hashbrowns\")\n"
   ]
  },
  {
   "cell_type": "code",
   "execution_count": 45,
   "metadata": {},
   "outputs": [
    {
     "name": "stdout",
     "output_type": "stream",
     "text": [
      "Eat the burrito\n"
     ]
    }
   ],
   "source": [
    "breakfast(True,False,False,True)\n",
    "# The order of the parameters is important!\n",
    "# The first True is the value set for haveBurrito\n",
    "# The first False is the value set for haveBacon\n",
    "# The second False is the value set for haveHasbrowns\n",
    "# The second True is the value set for haveSausage"
   ]
  },
  {
   "cell_type": "code",
   "execution_count": 49,
   "metadata": {},
   "outputs": [
    {
     "name": "stdout",
     "output_type": "stream",
     "text": [
      "Eat the burrito\n",
      "Eat sausage\n"
     ]
    }
   ],
   "source": [
    "breakfast(True,False,False,True)\n",
    "# haveBurrito is True, so Eat Burrito prints\n",
    "breakfast(False,False,False,True)\n",
    "# haveSausage is True, so Eat Sausage prints\n",
    "breakfast(False,False,False,False)\n",
    "#everything is False, so nothing prints since we don't have an else"
   ]
  },
  {
   "cell_type": "code",
   "execution_count": 50,
   "metadata": {},
   "outputs": [
    {
     "name": "stdout",
     "output_type": "stream",
     "text": [
      "Not True is False\n"
     ]
    }
   ],
   "source": [
    "# we can \"flip\" True and False using the not keyword\n",
    "if (not True):\n",
    "    print(\"This isn't True and shouldn't print\")\n",
    "else:\n",
    "    print(\"Not True is False\")"
   ]
  },
  {
   "cell_type": "code",
   "execution_count": 51,
   "metadata": {},
   "outputs": [],
   "source": [
    "# You can use ands and ors with Booleans just like we did before"
   ]
  },
  {
   "cell_type": "code",
   "execution_count": 61,
   "metadata": {},
   "outputs": [
    {
     "name": "stdout",
     "output_type": "stream",
     "text": [
      "this will be a good lecture but i'll still want my coffee\n"
     ]
    }
   ],
   "source": [
    "# given two booleans babyScreamingWhileSleeping and enoughSleep,\n",
    "# handle the following scenarios:\n",
    "\n",
    "# if the baby is screaming, print \"need more coffee\"\n",
    "# if the baby wasn't screaming and I didn't get enough sleep, print \"need more coffee\"\n",
    "# if the baby wasn't screaming and I got enough sleep, print \"this will be a good lecture but i'll still want my coffee\"\n",
    "\n",
    "babyScreamingWhileSleeping = False\n",
    "enoughSleep = True\n",
    "\n",
    "\n",
    "if (babyScreamingWhileSleeping):\n",
    "    print(\"need more coffee\")\n",
    "elif (not babyScreamingWhileSleeping and not enoughSleep):\n",
    "    print(\"need more coffee\")\n",
    "elif (not babyScreamingWhileSleeping and enoughSleep):\n",
    "    print(\"this will be a good lecture but i'll still want my coffee\")"
   ]
  },
  {
   "cell_type": "code",
   "execution_count": 12,
   "metadata": {},
   "outputs": [],
   "source": [
    "\n",
    "# new breakfast decisionmaker function\n",
    "\n",
    "# if you have all ingredients, be like Napoleon in Bill and Ted's Excellent Adventure and be a ziggy Piggy and eat everthing\n",
    "# otherwise, if you have a burrito, eat it\n",
    "# otherwise, if you have sausage and it's organic or vegetarian, eat the sausage\n",
    "# otherwise, if you have bacon and it is less than 7 days old, eat that\n",
    "# hashbrowns should only be eaten with another breakfast item. It's a sidedish, right?\n",
    "# and only when that item can be eaten\n",
    "# and if you don't have any main ingredients, go out to eat\n",
    "\n",
    "def superBreakfastDecisionMaker(haveBurrito, haveBacon, baconAge, haveHashbrowns, haveSausage, sausageType):\n",
    "    #haveBurrito, haveBacon, baconAge, haveHashbrowns, haveSausage are all booleans\n",
    "    # baconAge is a number\n",
    "    # sausageType is a string\n",
    "    if (haveBurrito and haveBacon and haveHashbrowns and haveSausage):\n",
    "        print(\"ZIGGY PIGGY ZIGGY PIGGY! Eat all the things!\")\n",
    "    elif (haveBurrito):\n",
    "        print(\"Eat the Burrito\")\n",
    "        if (haveHashbrowns):\n",
    "            print(\"Eat Hashbrowns\")\n",
    "    elif (haveSausage and  (sausageType == \"organic\" or sausageType == \"vegetarian\")):\n",
    "        print(\"Eat the sausage\")\n",
    "        if (haveHashbrowns):\n",
    "            print(\"Eat Hashbrowns\")\n",
    "    elif (haveBacon and baconAge < 7):\n",
    "        print(\"Eat the bacon\")\n",
    "        if (haveHashbrowns):\n",
    "            print(\"Eat Hashbrowns\")\n",
    "    else:\n",
    "        print(\"Go out and eat\")\n",
    "        \n",
    "\n",
    "         \n",
    "        \n",
    "    "
   ]
  },
  {
   "cell_type": "code",
   "execution_count": 20,
   "metadata": {},
   "outputs": [
    {
     "name": "stdout",
     "output_type": "stream",
     "text": [
      "Eat the sausage\n",
      "Eat Hashbrowns\n"
     ]
    }
   ],
   "source": [
    "haveBurrito = False\n",
    "haveBacon = True\n",
    "haveHashbrowns = True\n",
    "haveSausage = True\n",
    "baconAge = 6\n",
    "sausageType = \"organic\"\n",
    "\n",
    "superBreakfastDecisionMaker(haveBurrito, haveBacon, baconAge, haveHashbrowns, haveSausage, sausageType)"
   ]
  },
  {
   "cell_type": "code",
   "execution_count": null,
   "metadata": {},
   "outputs": [],
   "source": []
  }
 ],
 "metadata": {
  "kernelspec": {
   "display_name": "Python 3",
   "language": "python",
   "name": "python3"
  },
  "language_info": {
   "codemirror_mode": {
    "name": "ipython",
    "version": 3
   },
   "file_extension": ".py",
   "mimetype": "text/x-python",
   "name": "python",
   "nbconvert_exporter": "python",
   "pygments_lexer": "ipython3",
   "version": "3.7.3"
  }
 },
 "nbformat": 4,
 "nbformat_minor": 2
}
