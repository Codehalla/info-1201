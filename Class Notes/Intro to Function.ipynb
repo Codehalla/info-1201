{
 "cells": [
  {
   "cell_type": "code",
   "execution_count": 1,
   "metadata": {},
   "outputs": [],
   "source": [
    "#fucntions\n"
   ]
  },
  {
   "cell_type": "code",
   "execution_count": 2,
   "metadata": {},
   "outputs": [
    {
     "name": "stdout",
     "output_type": "stream",
     "text": [
      "hooray it's friday!\n"
     ]
    }
   ],
   "source": [
    "print(\"hooray it's friday!\")"
   ]
  },
  {
   "cell_type": "code",
   "execution_count": 3,
   "metadata": {},
   "outputs": [
    {
     "name": "stdout",
     "output_type": "stream",
     "text": [
      "friday friday gonna get down on friday\n"
     ]
    }
   ],
   "source": [
    "#functionName(stuff)\n",
    "#name of the function, followed by paraentheses that contain stuff\n",
    "#what's this stuff\n",
    "#this stuff is information that the function uses\n",
    "#putting stuff in the parentheses is called passing, as in, passing a variable to a fucntion\n",
    "greeting = \"friday friday gonna get down on friday\"\n",
    "print(greeting) #this is a passing greeting to  print"
   ]
  },
  {
   "cell_type": "code",
   "execution_count": 4,
   "metadata": {},
   "outputs": [],
   "source": [
    "#how much stuff can you pass to a function?\n",
    "#well, it depends on the function\n",
    "#you can pass from 0 to n things to a function depending on how the function is defined"
   ]
  },
  {
   "cell_type": "code",
   "execution_count": 9,
   "metadata": {},
   "outputs": [],
   "source": [
    "#we can write our functions to help us do things faster and better\n",
    "#syntax for writing our own functions\n",
    "#def functionName(, parameter2, parameter3, ..., parameterN):\n",
    "#parameters are the things you pass to a function\n",
    "def addTwoNumbers(numOne, numTwo):\n",
    "    #notice the indent\n",
    "    #these indentations tell python how to interpret code\n",
    "    summation = numOne + numTwo\n",
    "    print(summation)"
   ]
  },
  {
   "cell_type": "code",
   "execution_count": 10,
   "metadata": {},
   "outputs": [
    {
     "name": "stdout",
     "output_type": "stream",
     "text": [
      "16\n"
     ]
    }
   ],
   "source": [
    "# to call the function type its name and enter the function parameters\n",
    "#the function can be used over and over again for different variables\n",
    "addTwoNumbers(6,10)"
   ]
  },
  {
   "cell_type": "code",
   "execution_count": 19,
   "metadata": {},
   "outputs": [],
   "source": [
    "#functions ALWAYS return something\n",
    "def returnDifference(numOne, numTwo):\n",
    "    difference = numOne - numTwo\n",
    "    return(difference)"
   ]
  },
  {
   "cell_type": "code",
   "execution_count": 17,
   "metadata": {},
   "outputs": [],
   "source": [
    "#when a function returns something, it is \"handing it off\" so that it can be\n",
    "#assigned to variable\n",
    "theDifference = returnDifference(15,5)\n",
    "#the value that is returned by returnDifference(15,5) will\n",
    "#be assigned to theDifference"
   ]
  },
  {
   "cell_type": "code",
   "execution_count": 18,
   "metadata": {},
   "outputs": [
    {
     "name": "stdout",
     "output_type": "stream",
     "text": [
      "10\n"
     ]
    }
   ],
   "source": [
    "print(theDifference)"
   ]
  },
  {
   "cell_type": "code",
   "execution_count": 20,
   "metadata": {},
   "outputs": [
    {
     "name": "stdout",
     "output_type": "stream",
     "text": [
      "7\n"
     ]
    }
   ],
   "source": [
    "# functions ALWAYS return something\n",
    "# if you don't specify something to be returned, your fucntion will return None\\\n",
    "thisWillBeNone = addTwoNumbers(3,4)"
   ]
  },
  {
   "cell_type": "code",
   "execution_count": null,
   "metadata": {},
   "outputs": [],
   "source": [
    "#7 still gets printed out"
   ]
  }
 ],
 "metadata": {
  "kernelspec": {
   "display_name": "Python 3",
   "language": "python",
   "name": "python3"
  },
  "language_info": {
   "codemirror_mode": {
    "name": "ipython",
    "version": 3
   },
   "file_extension": ".py",
   "mimetype": "text/x-python",
   "name": "python",
   "nbconvert_exporter": "python",
   "pygments_lexer": "ipython3",
   "version": "3.7.3"
  }
 },
 "nbformat": 4,
 "nbformat_minor": 2
}
