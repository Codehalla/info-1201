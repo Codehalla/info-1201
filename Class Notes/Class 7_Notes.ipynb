{
 "cells": [
  {
   "cell_type": "code",
   "execution_count": 1,
   "metadata": {},
   "outputs": [],
   "source": [
    "# solving problems in the moodle\n",
    "# 1. READ THE WRITEUP - it's the same thing that's in the homework.pdf\n",
    "# 2. READ THE WRITEUP! make sure you are doing what the problem is asking you to do\n",
    "# 3. Look at the function name. That is the function name you should use\n",
    "# 4. Look at the variable name(s). Don't use a different variable in place of the one(s) you're given\n",
    "# 5. Don't redefine the variables passed in as parameters. Never Ever! (In this class.)\n",
    "# 6. If you need to define new variables, that's fine! But DO NOT CHAN"
   ]
  },
  {
   "cell_type": "code",
   "execution_count": 3,
   "metadata": {},
   "outputs": [
    {
     "name": "stdout",
     "output_type": "stream",
     "text": [
      "3.14\n"
     ]
    }
   ],
   "source": [
    "# The round function: round(thingYouAreRounding, numberOfDecimalsPlaces)\n",
    "x = 3.1415926535897932\n",
    "# lets round by 2 decimal places\n",
    "roundedNumber = round(x, 2)\n",
    "\n",
    "print(roundedNumber)"
   ]
  },
  {
   "cell_type": "code",
   "execution_count": null,
   "metadata": {},
   "outputs": [],
   "source": []
  }
 ],
 "metadata": {
  "kernelspec": {
   "display_name": "Python 3",
   "language": "python",
   "name": "python3"
  },
  "language_info": {
   "codemirror_mode": {
    "name": "ipython",
    "version": 3
   },
   "file_extension": ".py",
   "mimetype": "text/x-python",
   "name": "python",
   "nbconvert_exporter": "python",
   "pygments_lexer": "ipython3",
   "version": "3.7.3"
  }
 },
 "nbformat": 4,
 "nbformat_minor": 2
}
