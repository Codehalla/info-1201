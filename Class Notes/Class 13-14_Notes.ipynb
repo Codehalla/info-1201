{
 "cells": [
  {
   "cell_type": "code",
   "execution_count": 3,
   "metadata": {},
   "outputs": [],
   "source": [
    "# help session: nest Wednesday, October 2 TLC 158, 5pm - 6pm"
   ]
  },
  {
   "cell_type": "code",
   "execution_count": 10,
   "metadata": {},
   "outputs": [],
   "source": [
    "# loops\n",
    "# what is a loop?\n",
    "# something we do over and over again\n",
    "\n",
    "# why do we do loops?\n",
    "# because we need to do something over and over and over again\n",
    "\n",
    "# I want you to print the number 1-10 with each number on its own line"
   ]
  },
  {
   "cell_type": "code",
   "execution_count": 13,
   "metadata": {},
   "outputs": [
    {
     "name": "stdout",
     "output_type": "stream",
     "text": [
      "0\n",
      "1\n",
      "2\n",
      "3\n",
      "4\n",
      "5\n",
      "6\n",
      "7\n",
      "8\n",
      "9\n"
     ]
    }
   ],
   "source": [
    "# There are 2 types of loops:\n",
    "    # for loops\n",
    "    # while loops\n",
    "# (loops are also control structures)\n",
    "# syntax:\n",
    "# for i in range(0,10):\n",
    "# for: for keyword\n",
    "# i: is the variable that stores a number coming from range\n",
    "# range will produce a sequence of numbers\n",
    "# range(startNum, stopNum): produces a sequence of numbers starting at startNum and ending at stopNum\n",
    "\n",
    "# for loops basically says: \"if i is in the range of numbers, do the stuff in the block below\"\n",
    "# in the range of numbers: while i is less than stopNum\n",
    "\n",
    "for i in range(0,10):\n",
    "    print(i) # each time through the loop, i gets a value that's produced by range\n",
    "    # in this case, those numbers are 0,1,2,3,4,5,6,7,8,9,10\n",
    "    # the loop stops when i is greater than or equal to stopNum"
   ]
  },
  {
   "cell_type": "code",
   "execution_count": 15,
   "metadata": {},
   "outputs": [
    {
     "name": "stdout",
     "output_type": "stream",
     "text": [
      "1\n",
      "2\n",
      "3\n",
      "4\n",
      "all done\n"
     ]
    }
   ],
   "source": [
    "for i in range(1,5):\n",
    "    print(i)            # Notice the indent\n",
    "print(\"all done\")       # Once the loop is complete, code continues"
   ]
  },
  {
   "cell_type": "code",
   "execution_count": 18,
   "metadata": {},
   "outputs": [
    {
     "name": "stdout",
     "output_type": "stream",
     "text": [
      "0\n",
      "2\n",
      "4\n",
      "6\n",
      "8\n",
      "10\n",
      "12\n",
      "14\n",
      "16\n",
      "18\n"
     ]
    }
   ],
   "source": [
    "# for i in range(startNum, stopNum, stepSize):\n",
    "# stepsize is an optional parameter\n",
    "# if it's not specified, it defaults to 1 \n",
    "# if it is specified, i will increase by stepSize for each pass through loop\n",
    "for i in range(0,20,2):\n",
    "    print(i)"
   ]
  },
  {
   "cell_type": "code",
   "execution_count": 23,
   "metadata": {},
   "outputs": [
    {
     "name": "stdout",
     "output_type": "stream",
     "text": [
      "10\n",
      "12\n",
      "14\n",
      "16\n",
      "18\n",
      "20\n"
     ]
    }
   ],
   "source": [
    "for i in range(10,21,2):\n",
    "    print(i)"
   ]
  },
  {
   "cell_type": "code",
   "execution_count": 25,
   "metadata": {},
   "outputs": [
    {
     "name": "stdout",
     "output_type": "stream",
     "text": [
      "0\n",
      "1\n",
      "2\n",
      "3\n",
      "4\n",
      "5\n",
      "6\n",
      "7\n",
      "8\n",
      "9\n"
     ]
    }
   ],
   "source": [
    "# if you want to have your range start at 0 and end at stopNum with a stepSize of 1, here is a shorthand you can use\n",
    "for i in range(10):\n",
    "    # if you only specify one number, startNum is assumed to be 0\n",
    "    # stepSize is assumed to be 1\n",
    "    # the number you specify is stopNum\n",
    "    print(i)"
   ]
  },
  {
   "cell_type": "code",
   "execution_count": 26,
   "metadata": {},
   "outputs": [
    {
     "name": "stdout",
     "output_type": "stream",
     "text": [
      "0\n",
      "3\n",
      "6\n",
      "9\n",
      "12\n",
      "15\n",
      "18\n",
      "21\n",
      "24\n",
      "27\n"
     ]
    }
   ],
   "source": [
    "# we did stepSize(0,30,3):\n",
    "for i in range(0,30,3):\n",
    "    print(i)"
   ]
  },
  {
   "cell_type": "code",
   "execution_count": 29,
   "metadata": {},
   "outputs": [
    {
     "name": "stdout",
     "output_type": "stream",
     "text": [
      "10\n",
      "9\n",
      "8\n",
      "7\n",
      "6\n",
      "5\n",
      "4\n",
      "3\n",
      "2\n",
      "1\n",
      "0\n"
     ]
    }
   ],
   "source": [
    "# what if stepSize was negative?\n",
    "for i in range(10,-1,-1):\n",
    "    print(i)"
   ]
  },
  {
   "cell_type": "code",
   "execution_count": 30,
   "metadata": {},
   "outputs": [
    {
     "name": "stdout",
     "output_type": "stream",
     "text": [
      "0\n",
      "4\n",
      "8\n",
      "12\n",
      "16\n"
     ]
    }
   ],
   "source": [
    "# keep in mind: i is just a variable\n",
    "# it's a placeholder that we're using to keep the values coming from range\n",
    "for cupcake in range(0,20,4):\n",
    "    print(cupcake)"
   ]
  },
  {
   "cell_type": "code",
   "execution_count": 38,
   "metadata": {},
   "outputs": [
    {
     "name": "stdout",
     "output_type": "stream",
     "text": [
      "Summation: 0\n",
      "Summation: 1\n",
      "Summation: 3\n",
      "Summation: 6\n",
      "Summation: 10\n",
      "Summation: 15\n",
      "Summation: 21\n",
      "Summation: 28\n",
      "Summation: 36\n",
      "Summation: 45\n",
      "Summation: 55\n",
      "Summation: 66\n",
      "Summation: 78\n",
      "Summation: 91\n",
      "Summation: 105\n",
      "Summation: 120\n",
      "Summation: 136\n",
      "Summation: 153\n",
      "Summation: 171\n",
      "Summation: 190\n",
      "Summation: 210\n",
      "Summation: 231\n",
      "Summation: 253\n",
      "Summation: 276\n",
      "Summation: 300\n",
      "Summation: 325\n",
      "Summation: 351\n",
      "Summation: 378\n",
      "Summation: 406\n",
      "Summation: 435\n",
      "Summation: 465\n",
      "Summation: 496\n",
      "Summation: 528\n",
      "Summation: 561\n",
      "Summation: 595\n",
      "Summation: 630\n",
      "Summation: 666\n",
      "Summation: 703\n",
      "Summation: 741\n",
      "Summation: 780\n",
      "Summation: 820\n",
      "Summation: 861\n",
      "Summation: 903\n",
      "Summation: 946\n",
      "Summation: 990\n",
      "Summation: 1035\n",
      "Summation: 1081\n",
      "Summation: 1128\n",
      "Summation: 1176\n",
      "Summation: 1225\n",
      "Summation: 1275\n",
      "Summation: 1326\n",
      "Summation: 1378\n",
      "Summation: 1431\n",
      "Summation: 1485\n",
      "Summation: 1540\n",
      "Summation: 1596\n",
      "Summation: 1653\n",
      "Summation: 1711\n",
      "Summation: 1770\n",
      "Summation: 1830\n",
      "Summation: 1891\n",
      "Summation: 1953\n",
      "Summation: 2016\n",
      "Summation: 2080\n",
      "Summation: 2145\n",
      "Summation: 2211\n",
      "Summation: 2278\n",
      "Summation: 2346\n",
      "Summation: 2415\n",
      "Summation: 2485\n",
      "Summation: 2556\n",
      "Summation: 2628\n",
      "Summation: 2701\n",
      "Summation: 2775\n",
      "Summation: 2850\n",
      "Summation: 2926\n",
      "Summation: 3003\n",
      "Summation: 3081\n",
      "Summation: 3160\n",
      "Summation: 3240\n",
      "Summation: 3321\n",
      "Summation: 3403\n",
      "Summation: 3486\n",
      "Summation: 3570\n",
      "Summation: 3655\n",
      "Summation: 3741\n",
      "Summation: 3828\n",
      "Summation: 3916\n",
      "Summation: 4005\n",
      "Summation: 4095\n",
      "Summation: 4186\n",
      "Summation: 4278\n",
      "Summation: 4371\n",
      "Summation: 4465\n",
      "Summation: 4560\n",
      "Summation: 4656\n",
      "Summation: 4753\n",
      "Summation: 4851\n",
      "Summation: 4950\n",
      "Summation: 5050\n",
      "5050\n"
     ]
    }
   ],
   "source": [
    "# do you remember summation>\n",
    "summation = 0\n",
    "for i in range(0,101):\n",
    "# add up the numbers 0-100\n",
    "    summation = summation + i\n",
    "    print(\"Summation: \" + str(summation))\n",
    "print(summation)"
   ]
  },
  {
   "cell_type": "code",
   "execution_count": 42,
   "metadata": {},
   "outputs": [
    {
     "name": "stdout",
     "output_type": "stream",
     "text": [
      "16668333\n"
     ]
    }
   ],
   "source": [
    "# what if I wanted to add up every third number?\n",
    "# just change step size\n",
    "\n",
    "summation = 0    # initialize summation\n",
    "for i in range(0,10000,3):\n",
    "    summation = summation + i\n",
    "print(summation)"
   ]
  },
  {
   "cell_type": "code",
   "execution_count": 2,
   "metadata": {},
   "outputs": [
    {
     "name": "stdout",
     "output_type": "stream",
     "text": [
      "190\n"
     ]
    }
   ],
   "source": [
    "summation = 0\n",
    "for i in range(0,20):\n",
    "    summation += i       # this is the sane as saying summation = summation + i\n",
    "print(summation)"
   ]
  },
  {
   "cell_type": "code",
   "execution_count": 6,
   "metadata": {},
   "outputs": [],
   "source": [
    "# let's concatenate a sting to itself using a for loop\n",
    "def multiplyStrings(myString, multiplier):\n",
    "    # remember that multiplying a string is the same thing as adding \n",
    "    # that string to itself X numbers of times\n",
    "    # function shoulder multiply myString by multiplier and\n",
    "    # print the new concatenated string\n",
    "    # we need a string to start with\n",
    "    # there is an \"zero-length\" string that is equivalent\n",
    "    # to the summation = 0 variable\n",
    "    # it is called the empty string\n",
    "    newString = \"\"\n",
    "    for i in range(0, multiplier + 1):\n",
    "        newString += myString  # same as newString = newString + myString\n",
    "    print(newString)"
   ]
  },
  {
   "cell_type": "code",
   "execution_count": 7,
   "metadata": {},
   "outputs": [
    {
     "name": "stdout",
     "output_type": "stream",
     "text": [
      "babybabybaby\n"
     ]
    }
   ],
   "source": [
    "multiplyStrings(\"baby\",2)"
   ]
  },
  {
   "cell_type": "code",
   "execution_count": 8,
   "metadata": {},
   "outputs": [],
   "source": [
    "# each time through the loop we are iterating\n",
    "# we iterate over the series of numbers created by range\n",
    "# iterate: go through things one at a time, repeating actions for each loop"
   ]
  },
  {
   "cell_type": "code",
   "execution_count": 9,
   "metadata": {},
   "outputs": [],
   "source": [
    "# here's another example\n",
    "# function will be called rollOver\n",
    "# it takes numInTheBed which is a whole number\n",
    "# What are the conditions?\n",
    "    # if there are > 1 in the bed, the function shoulder print the song lyrics along with the appropriate numInTheBed\n",
    "    # if there is one in the bed, print \"I'm loooonelllyyy\""
   ]
  },
  {
   "cell_type": "code",
   "execution_count": 75,
   "metadata": {},
   "outputs": [],
   "source": [
    "def rollOver(numInTheBed):\n",
    "    for i in range(numInTheBed, 1, -1):\n",
    "            # the thing that's going to be the same or the thing that's going to be repeated should be in the loop\n",
    "            # it's the same lyrics as long as numInTheBed > 1\n",
    "        if (numInTheBed > 1):\n",
    "            print(\"There were \" + str(i) + \" in the bed And the little one said, \\\"Roll over! Roll over!\\\" So they all rolled over and one fell out\")\n",
    "    print(\"There was 1 in the bed and the little one said I'm loooonelllyyy\")"
   ]
  },
  {
   "cell_type": "code",
   "execution_count": 76,
   "metadata": {},
   "outputs": [
    {
     "name": "stdout",
     "output_type": "stream",
     "text": [
      "There were 10 in the bed And the little one said, \"Roll over! Roll over!\" So they all rolled over and one fell out\n",
      "There were 9 in the bed And the little one said, \"Roll over! Roll over!\" So they all rolled over and one fell out\n",
      "There were 8 in the bed And the little one said, \"Roll over! Roll over!\" So they all rolled over and one fell out\n",
      "There were 7 in the bed And the little one said, \"Roll over! Roll over!\" So they all rolled over and one fell out\n",
      "There were 6 in the bed And the little one said, \"Roll over! Roll over!\" So they all rolled over and one fell out\n",
      "There were 5 in the bed And the little one said, \"Roll over! Roll over!\" So they all rolled over and one fell out\n",
      "There were 4 in the bed And the little one said, \"Roll over! Roll over!\" So they all rolled over and one fell out\n",
      "There were 3 in the bed And the little one said, \"Roll over! Roll over!\" So they all rolled over and one fell out\n",
      "There were 2 in the bed And the little one said, \"Roll over! Roll over!\" So they all rolled over and one fell out\n",
      "There was 1 in the bed and the little one said I'm loooonelllyyy\n"
     ]
    }
   ],
   "source": [
    "rollOver(10)"
   ]
  },
  {
   "cell_type": "code",
   "execution_count": null,
   "metadata": {},
   "outputs": [],
   "source": []
  }
 ],
 "metadata": {
  "kernelspec": {
   "display_name": "Python 3",
   "language": "python",
   "name": "python3"
  },
  "language_info": {
   "codemirror_mode": {
    "name": "ipython",
    "version": 3
   },
   "file_extension": ".py",
   "mimetype": "text/x-python",
   "name": "python",
   "nbconvert_exporter": "python",
   "pygments_lexer": "ipython3",
   "version": "3.7.3"
  }
 },
 "nbformat": 4,
 "nbformat_minor": 2
}
